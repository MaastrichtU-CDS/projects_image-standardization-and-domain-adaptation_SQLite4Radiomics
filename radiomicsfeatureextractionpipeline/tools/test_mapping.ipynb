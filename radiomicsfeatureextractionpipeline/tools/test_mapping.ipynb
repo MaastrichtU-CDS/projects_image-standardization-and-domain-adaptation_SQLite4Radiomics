{
 "cells": [
  {
   "cell_type": "code",
   "execution_count": 1,
   "metadata": {},
   "outputs": [],
   "source": [
    "# %load IBSI_benchmark_evaluator.py\n",
    "import pandas as pd\n",
    "import argparse\n",
    "\n",
    "\n",
    "def main(args):\n",
    "    try:\n",
    "        pipeline_df = pd.read_csv(args.pipeline_csv_file)\n",
    "        benchmark_df = pd.read_csv(args.benchmark_csv_file)\n",
    "        mapping_df = pd.read_csv(args.mapping_csv_file)\n",
    "\n",
    "    except:\n",
    "        print(\"Error in reading csv files.\")\n",
    "        exit()\n",
    "\n",
    "    tags_of_interest = []\n",
    "\n",
    "    benchmark_df[\"pyradiomics_tag\"] = benchmark_df[\"tag\"]\n",
    "\n",
    "\n",
    "    for f_ibsi, f_pyradiomics in zip(mapping_df[\"IBSIName\"], mapping_df[\"PyradiomicsFeature\"]):\n",
    "        f_ibsi = f_ibsi.lstrip(\"F\").replace(\".\", \"_\")\n",
    "        match_condition = benchmark_df['tag'].str.contains(f_ibsi)\n",
    "\n",
    "        benchmark_df['your_result'][match_condition] = pipeline_df[f_pyradiomics].values[0]\n",
    "\n",
    "        benchmark_df['pyradiomics_tag'][match_condition] = f_pyradiomics\n",
    "\n",
    "        tags_of_interest.append(benchmark_df[match_condition & benchmark_df['benchmark_value'].notnull()])\n",
    "\n",
    "\n",
    "    matched_df = pd.concat(tags_of_interest)\n",
    "\n",
    "    matched_df[\"difference\"] = (matched_df[\"your_result\"] - matched_df[\"benchmark_value\"]).abs()\n",
    "    matched_df[\"check\"] = matched_df[\"difference\"] <= matched_df[\"tolerance\"] \n",
    " \n",
    "    matched_df.to_csv(args.save_csv)\n",
    "\n",
    "\n",
    "if __name__ == \"__main__\":\n",
    "    parser = argparse.ArgumentParser()\n",
    "    parser.add_argument(\"--pipeline_csv_file\", help=\"Path to the pipeline generated CSV file\")\n",
    "    parser.add_argument(\"--benchmark_csv_file\", help=\"Path to CSV file provided by IBSI for benchmarking\", default='IBSI-1-configA.csv')\n",
    "    parser.add_argument(\"--mapping_csv_file\", help=\"Mapping file with correspondences between tags of IBSI and pyradiomics\", default='Pyradiomics2IBSIFeatures.csv')\n",
    "    parser.add_argument(\"--save_csv\", help=\"Output csv file path\", default=\"out.csv\")\n",
    "\n",
    "    args = parser.parse_args()\n",
    "    main(args)"
   ]
  },
  {
   "cell_type": "code",
   "execution_count": 71,
   "metadata": {
    "scrolled": true
   },
   "outputs": [
    {
     "name": "stdout",
     "output_type": "stream",
     "text": [
      "Fmorph.pca.elongation\n",
      "morph_pca_elongation\n",
      "74    True\n",
      "Name: tag, dtype: bool\n"
     ]
    },
    {
     "data": {
      "text/plain": [
       "74   NaN\n",
       "Name: your_result, dtype: float64"
      ]
     },
     "metadata": {},
     "output_type": "display_data"
    },
    {
     "data": {
      "text/plain": [
       "74    0.88001\n",
       "Name: your_result, dtype: float64"
      ]
     },
     "metadata": {},
     "output_type": "display_data"
    },
    {
     "name": "stdout",
     "output_type": "stream",
     "text": [
      "original_shape_Elongation\n"
     ]
    },
    {
     "data": {
      "text/html": [
       "<div>\n",
       "<style scoped>\n",
       "    .dataframe tbody tr th:only-of-type {\n",
       "        vertical-align: middle;\n",
       "    }\n",
       "\n",
       "    .dataframe tbody tr th {\n",
       "        vertical-align: top;\n",
       "    }\n",
       "\n",
       "    .dataframe thead th {\n",
       "        text-align: right;\n",
       "    }\n",
       "</style>\n",
       "<table border=\"1\" class=\"dataframe\">\n",
       "  <thead>\n",
       "    <tr style=\"text-align: right;\">\n",
       "      <th></th>\n",
       "      <th>data_set</th>\n",
       "      <th>family</th>\n",
       "      <th>image_biomarker</th>\n",
       "      <th>consensus</th>\n",
       "      <th>benchmark_value</th>\n",
       "      <th>tolerance</th>\n",
       "      <th>your_result</th>\n",
       "      <th>difference</th>\n",
       "      <th>check</th>\n",
       "      <th>tag</th>\n",
       "      <th>pyradiomics_tag</th>\n",
       "    </tr>\n",
       "  </thead>\n",
       "  <tbody>\n",
       "    <tr>\n",
       "      <td>74</td>\n",
       "      <td>configuration E</td>\n",
       "      <td>Morphology</td>\n",
       "      <td>Elongation</td>\n",
       "      <td>6-9</td>\n",
       "      <td>0.879</td>\n",
       "      <td>0.001</td>\n",
       "      <td>0.88001</td>\n",
       "      <td>NaN</td>\n",
       "      <td>NaN</td>\n",
       "      <td>morph_pca_elongation</td>\n",
       "      <td>original_shape_Elongation</td>\n",
       "    </tr>\n",
       "  </tbody>\n",
       "</table>\n",
       "</div>"
      ],
      "text/plain": [
       "           data_set      family image_biomarker consensus  benchmark_value  \\\n",
       "74  configuration E  Morphology      Elongation       6-9            0.879   \n",
       "\n",
       "    tolerance  your_result  difference  check                   tag  \\\n",
       "74      0.001      0.88001         NaN    NaN  morph_pca_elongation   \n",
       "\n",
       "              pyradiomics_tag  \n",
       "74  original_shape_Elongation  "
      ]
     },
     "metadata": {},
     "output_type": "display_data"
    },
    {
     "name": "stdout",
     "output_type": "stream",
     "text": [
      "Fmorph.pca.flatness\n",
      "morph_pca_flatness\n",
      "75    True\n",
      "Name: tag, dtype: bool\n"
     ]
    },
    {
     "data": {
      "text/plain": [
       "75   NaN\n",
       "Name: your_result, dtype: float64"
      ]
     },
     "metadata": {},
     "output_type": "display_data"
    },
    {
     "data": {
      "text/plain": [
       "75    0.756877\n",
       "Name: your_result, dtype: float64"
      ]
     },
     "metadata": {},
     "output_type": "display_data"
    },
    {
     "name": "stdout",
     "output_type": "stream",
     "text": [
      "original_shape_Flatness\n"
     ]
    },
    {
     "data": {
      "text/html": [
       "<div>\n",
       "<style scoped>\n",
       "    .dataframe tbody tr th:only-of-type {\n",
       "        vertical-align: middle;\n",
       "    }\n",
       "\n",
       "    .dataframe tbody tr th {\n",
       "        vertical-align: top;\n",
       "    }\n",
       "\n",
       "    .dataframe thead th {\n",
       "        text-align: right;\n",
       "    }\n",
       "</style>\n",
       "<table border=\"1\" class=\"dataframe\">\n",
       "  <thead>\n",
       "    <tr style=\"text-align: right;\">\n",
       "      <th></th>\n",
       "      <th>data_set</th>\n",
       "      <th>family</th>\n",
       "      <th>image_biomarker</th>\n",
       "      <th>consensus</th>\n",
       "      <th>benchmark_value</th>\n",
       "      <th>tolerance</th>\n",
       "      <th>your_result</th>\n",
       "      <th>difference</th>\n",
       "      <th>check</th>\n",
       "      <th>tag</th>\n",
       "      <th>pyradiomics_tag</th>\n",
       "    </tr>\n",
       "  </thead>\n",
       "  <tbody>\n",
       "    <tr>\n",
       "      <td>75</td>\n",
       "      <td>configuration E</td>\n",
       "      <td>Morphology</td>\n",
       "      <td>Flatness</td>\n",
       "      <td>6-9</td>\n",
       "      <td>0.76</td>\n",
       "      <td>0.001</td>\n",
       "      <td>0.756877</td>\n",
       "      <td>NaN</td>\n",
       "      <td>NaN</td>\n",
       "      <td>morph_pca_flatness</td>\n",
       "      <td>original_shape_Flatness</td>\n",
       "    </tr>\n",
       "  </tbody>\n",
       "</table>\n",
       "</div>"
      ],
      "text/plain": [
       "           data_set      family image_biomarker consensus  benchmark_value  \\\n",
       "75  configuration E  Morphology        Flatness       6-9             0.76   \n",
       "\n",
       "    tolerance  your_result  difference  check                 tag  \\\n",
       "75      0.001     0.756877         NaN    NaN  morph_pca_flatness   \n",
       "\n",
       "            pyradiomics_tag  \n",
       "75  original_shape_Flatness  "
      ]
     },
     "metadata": {},
     "output_type": "display_data"
    },
    {
     "name": "stdout",
     "output_type": "stream",
     "text": [
      "Fmorph.pca.least\n",
      "morph_pca_least\n",
      "73    True\n",
      "Name: tag, dtype: bool\n"
     ]
    },
    {
     "data": {
      "text/plain": [
       "73   NaN\n",
       "Name: your_result, dtype: float64"
      ]
     },
     "metadata": {},
     "output_type": "display_data"
    },
    {
     "data": {
      "text/plain": [
       "73    70.283315\n",
       "Name: your_result, dtype: float64"
      ]
     },
     "metadata": {},
     "output_type": "display_data"
    },
    {
     "name": "stdout",
     "output_type": "stream",
     "text": [
      "original_shape_LeastAxisLength\n"
     ]
    },
    {
     "data": {
      "text/html": [
       "<div>\n",
       "<style scoped>\n",
       "    .dataframe tbody tr th:only-of-type {\n",
       "        vertical-align: middle;\n",
       "    }\n",
       "\n",
       "    .dataframe tbody tr th {\n",
       "        vertical-align: top;\n",
       "    }\n",
       "\n",
       "    .dataframe thead th {\n",
       "        text-align: right;\n",
       "    }\n",
       "</style>\n",
       "<table border=\"1\" class=\"dataframe\">\n",
       "  <thead>\n",
       "    <tr style=\"text-align: right;\">\n",
       "      <th></th>\n",
       "      <th>data_set</th>\n",
       "      <th>family</th>\n",
       "      <th>image_biomarker</th>\n",
       "      <th>consensus</th>\n",
       "      <th>benchmark_value</th>\n",
       "      <th>tolerance</th>\n",
       "      <th>your_result</th>\n",
       "      <th>difference</th>\n",
       "      <th>check</th>\n",
       "      <th>tag</th>\n",
       "      <th>pyradiomics_tag</th>\n",
       "    </tr>\n",
       "  </thead>\n",
       "  <tbody>\n",
       "    <tr>\n",
       "      <td>73</td>\n",
       "      <td>configuration E</td>\n",
       "      <td>Morphology</td>\n",
       "      <td>Least axis length</td>\n",
       "      <td>6-9</td>\n",
       "      <td>70.9</td>\n",
       "      <td>0.5</td>\n",
       "      <td>70.283315</td>\n",
       "      <td>NaN</td>\n",
       "      <td>NaN</td>\n",
       "      <td>morph_pca_least_axis</td>\n",
       "      <td>original_shape_LeastAxisLength</td>\n",
       "    </tr>\n",
       "  </tbody>\n",
       "</table>\n",
       "</div>"
      ],
      "text/plain": [
       "           data_set      family    image_biomarker consensus  benchmark_value  \\\n",
       "73  configuration E  Morphology  Least axis length       6-9             70.9   \n",
       "\n",
       "    tolerance  your_result  difference  check                   tag  \\\n",
       "73        0.5    70.283315         NaN    NaN  morph_pca_least_axis   \n",
       "\n",
       "                   pyradiomics_tag  \n",
       "73  original_shape_LeastAxisLength  "
      ]
     },
     "metadata": {},
     "output_type": "display_data"
    },
    {
     "name": "stdout",
     "output_type": "stream",
     "text": [
      "Fmorph.pca.maj.axis\n",
      "morph_pca_maj_axis\n",
      "71    True\n",
      "Name: tag, dtype: bool\n"
     ]
    },
    {
     "data": {
      "text/plain": [
       "71   NaN\n",
       "Name: your_result, dtype: float64"
      ]
     },
     "metadata": {},
     "output_type": "display_data"
    },
    {
     "data": {
      "text/plain": [
       "71    92.859622\n",
       "Name: your_result, dtype: float64"
      ]
     },
     "metadata": {},
     "output_type": "display_data"
    },
    {
     "name": "stdout",
     "output_type": "stream",
     "text": [
      "original_shape_MajorAxisLength\n"
     ]
    },
    {
     "data": {
      "text/html": [
       "<div>\n",
       "<style scoped>\n",
       "    .dataframe tbody tr th:only-of-type {\n",
       "        vertical-align: middle;\n",
       "    }\n",
       "\n",
       "    .dataframe tbody tr th {\n",
       "        vertical-align: top;\n",
       "    }\n",
       "\n",
       "    .dataframe thead th {\n",
       "        text-align: right;\n",
       "    }\n",
       "</style>\n",
       "<table border=\"1\" class=\"dataframe\">\n",
       "  <thead>\n",
       "    <tr style=\"text-align: right;\">\n",
       "      <th></th>\n",
       "      <th>data_set</th>\n",
       "      <th>family</th>\n",
       "      <th>image_biomarker</th>\n",
       "      <th>consensus</th>\n",
       "      <th>benchmark_value</th>\n",
       "      <th>tolerance</th>\n",
       "      <th>your_result</th>\n",
       "      <th>difference</th>\n",
       "      <th>check</th>\n",
       "      <th>tag</th>\n",
       "      <th>pyradiomics_tag</th>\n",
       "    </tr>\n",
       "  </thead>\n",
       "  <tbody>\n",
       "    <tr>\n",
       "      <td>71</td>\n",
       "      <td>configuration E</td>\n",
       "      <td>Morphology</td>\n",
       "      <td>Major axis length</td>\n",
       "      <td>6-9</td>\n",
       "      <td>93.3</td>\n",
       "      <td>0.5</td>\n",
       "      <td>92.859622</td>\n",
       "      <td>NaN</td>\n",
       "      <td>NaN</td>\n",
       "      <td>morph_pca_maj_axis</td>\n",
       "      <td>original_shape_MajorAxisLength</td>\n",
       "    </tr>\n",
       "  </tbody>\n",
       "</table>\n",
       "</div>"
      ],
      "text/plain": [
       "           data_set      family    image_biomarker consensus  benchmark_value  \\\n",
       "71  configuration E  Morphology  Major axis length       6-9             93.3   \n",
       "\n",
       "    tolerance  your_result  difference  check                 tag  \\\n",
       "71        0.5    92.859622         NaN    NaN  morph_pca_maj_axis   \n",
       "\n",
       "                   pyradiomics_tag  \n",
       "71  original_shape_MajorAxisLength  "
      ]
     },
     "metadata": {},
     "output_type": "display_data"
    },
    {
     "name": "stdout",
     "output_type": "stream",
     "text": [
      "Fmorph.pyrad.diam.max2Dcolumn\n",
      "morph_pyrad_diam_max2Dcolumn\n",
      "Series([], Name: tag, dtype: bool)\n"
     ]
    },
    {
     "data": {
      "text/plain": [
       "Series([], Name: your_result, dtype: float64)"
      ]
     },
     "metadata": {},
     "output_type": "display_data"
    },
    {
     "data": {
      "text/plain": [
       "Series([], Name: your_result, dtype: float64)"
      ]
     },
     "metadata": {},
     "output_type": "display_data"
    },
    {
     "name": "stdout",
     "output_type": "stream",
     "text": [
      "original_shape_Maximum2DDiameterColumn\n"
     ]
    },
    {
     "data": {
      "text/html": [
       "<div>\n",
       "<style scoped>\n",
       "    .dataframe tbody tr th:only-of-type {\n",
       "        vertical-align: middle;\n",
       "    }\n",
       "\n",
       "    .dataframe tbody tr th {\n",
       "        vertical-align: top;\n",
       "    }\n",
       "\n",
       "    .dataframe thead th {\n",
       "        text-align: right;\n",
       "    }\n",
       "</style>\n",
       "<table border=\"1\" class=\"dataframe\">\n",
       "  <thead>\n",
       "    <tr style=\"text-align: right;\">\n",
       "      <th></th>\n",
       "      <th>data_set</th>\n",
       "      <th>family</th>\n",
       "      <th>image_biomarker</th>\n",
       "      <th>consensus</th>\n",
       "      <th>benchmark_value</th>\n",
       "      <th>tolerance</th>\n",
       "      <th>your_result</th>\n",
       "      <th>difference</th>\n",
       "      <th>check</th>\n",
       "      <th>tag</th>\n",
       "      <th>pyradiomics_tag</th>\n",
       "    </tr>\n",
       "  </thead>\n",
       "  <tbody>\n",
       "  </tbody>\n",
       "</table>\n",
       "</div>"
      ],
      "text/plain": [
       "Empty DataFrame\n",
       "Columns: [data_set, family, image_biomarker, consensus, benchmark_value, tolerance, your_result, difference, check, tag, pyradiomics_tag]\n",
       "Index: []"
      ]
     },
     "metadata": {},
     "output_type": "display_data"
    },
    {
     "name": "stdout",
     "output_type": "stream",
     "text": [
      "Fmorph.pyrad.diam.max2Drow\n",
      "morph_pyrad_diam_max2Drow\n",
      "Series([], Name: tag, dtype: bool)\n"
     ]
    },
    {
     "data": {
      "text/plain": [
       "Series([], Name: your_result, dtype: float64)"
      ]
     },
     "metadata": {},
     "output_type": "display_data"
    },
    {
     "data": {
      "text/plain": [
       "Series([], Name: your_result, dtype: float64)"
      ]
     },
     "metadata": {},
     "output_type": "display_data"
    },
    {
     "name": "stdout",
     "output_type": "stream",
     "text": [
      "original_shape_Maximum2DDiameterRow\n"
     ]
    },
    {
     "data": {
      "text/html": [
       "<div>\n",
       "<style scoped>\n",
       "    .dataframe tbody tr th:only-of-type {\n",
       "        vertical-align: middle;\n",
       "    }\n",
       "\n",
       "    .dataframe tbody tr th {\n",
       "        vertical-align: top;\n",
       "    }\n",
       "\n",
       "    .dataframe thead th {\n",
       "        text-align: right;\n",
       "    }\n",
       "</style>\n",
       "<table border=\"1\" class=\"dataframe\">\n",
       "  <thead>\n",
       "    <tr style=\"text-align: right;\">\n",
       "      <th></th>\n",
       "      <th>data_set</th>\n",
       "      <th>family</th>\n",
       "      <th>image_biomarker</th>\n",
       "      <th>consensus</th>\n",
       "      <th>benchmark_value</th>\n",
       "      <th>tolerance</th>\n",
       "      <th>your_result</th>\n",
       "      <th>difference</th>\n",
       "      <th>check</th>\n",
       "      <th>tag</th>\n",
       "      <th>pyradiomics_tag</th>\n",
       "    </tr>\n",
       "  </thead>\n",
       "  <tbody>\n",
       "  </tbody>\n",
       "</table>\n",
       "</div>"
      ],
      "text/plain": [
       "Empty DataFrame\n",
       "Columns: [data_set, family, image_biomarker, consensus, benchmark_value, tolerance, your_result, difference, check, tag, pyradiomics_tag]\n",
       "Index: []"
      ]
     },
     "metadata": {},
     "output_type": "display_data"
    },
    {
     "name": "stdout",
     "output_type": "stream",
     "text": [
      "Fmorph.pyrad.diam.max2Dslice\n",
      "morph_pyrad_diam_max2Dslice\n",
      "Series([], Name: tag, dtype: bool)\n"
     ]
    },
    {
     "data": {
      "text/plain": [
       "Series([], Name: your_result, dtype: float64)"
      ]
     },
     "metadata": {},
     "output_type": "display_data"
    },
    {
     "data": {
      "text/plain": [
       "Series([], Name: your_result, dtype: float64)"
      ]
     },
     "metadata": {},
     "output_type": "display_data"
    },
    {
     "name": "stdout",
     "output_type": "stream",
     "text": [
      "original_shape_Maximum2DDiameterSlice\n"
     ]
    },
    {
     "data": {
      "text/html": [
       "<div>\n",
       "<style scoped>\n",
       "    .dataframe tbody tr th:only-of-type {\n",
       "        vertical-align: middle;\n",
       "    }\n",
       "\n",
       "    .dataframe tbody tr th {\n",
       "        vertical-align: top;\n",
       "    }\n",
       "\n",
       "    .dataframe thead th {\n",
       "        text-align: right;\n",
       "    }\n",
       "</style>\n",
       "<table border=\"1\" class=\"dataframe\">\n",
       "  <thead>\n",
       "    <tr style=\"text-align: right;\">\n",
       "      <th></th>\n",
       "      <th>data_set</th>\n",
       "      <th>family</th>\n",
       "      <th>image_biomarker</th>\n",
       "      <th>consensus</th>\n",
       "      <th>benchmark_value</th>\n",
       "      <th>tolerance</th>\n",
       "      <th>your_result</th>\n",
       "      <th>difference</th>\n",
       "      <th>check</th>\n",
       "      <th>tag</th>\n",
       "      <th>pyradiomics_tag</th>\n",
       "    </tr>\n",
       "  </thead>\n",
       "  <tbody>\n",
       "  </tbody>\n",
       "</table>\n",
       "</div>"
      ],
      "text/plain": [
       "Empty DataFrame\n",
       "Columns: [data_set, family, image_biomarker, consensus, benchmark_value, tolerance, your_result, difference, check, tag, pyradiomics_tag]\n",
       "Index: []"
      ]
     },
     "metadata": {},
     "output_type": "display_data"
    },
    {
     "name": "stdout",
     "output_type": "stream",
     "text": [
      "Fmorph.diam\n",
      "morph_diam\n",
      "70    True\n",
      "Name: tag, dtype: bool\n"
     ]
    },
    {
     "data": {
      "text/plain": [
       "70   NaN\n",
       "Name: your_result, dtype: float64"
      ]
     },
     "metadata": {},
     "output_type": "display_data"
    },
    {
     "data": {
      "text/plain": [
       "70    125.043992\n",
       "Name: your_result, dtype: float64"
      ]
     },
     "metadata": {},
     "output_type": "display_data"
    },
    {
     "name": "stdout",
     "output_type": "stream",
     "text": [
      "original_shape_Maximum3DDiameter\n"
     ]
    },
    {
     "data": {
      "text/html": [
       "<div>\n",
       "<style scoped>\n",
       "    .dataframe tbody tr th:only-of-type {\n",
       "        vertical-align: middle;\n",
       "    }\n",
       "\n",
       "    .dataframe tbody tr th {\n",
       "        vertical-align: top;\n",
       "    }\n",
       "\n",
       "    .dataframe thead th {\n",
       "        text-align: right;\n",
       "    }\n",
       "</style>\n",
       "<table border=\"1\" class=\"dataframe\">\n",
       "  <thead>\n",
       "    <tr style=\"text-align: right;\">\n",
       "      <th></th>\n",
       "      <th>data_set</th>\n",
       "      <th>family</th>\n",
       "      <th>image_biomarker</th>\n",
       "      <th>consensus</th>\n",
       "      <th>benchmark_value</th>\n",
       "      <th>tolerance</th>\n",
       "      <th>your_result</th>\n",
       "      <th>difference</th>\n",
       "      <th>check</th>\n",
       "      <th>tag</th>\n",
       "      <th>pyradiomics_tag</th>\n",
       "    </tr>\n",
       "  </thead>\n",
       "  <tbody>\n",
       "    <tr>\n",
       "      <td>70</td>\n",
       "      <td>configuration E</td>\n",
       "      <td>Morphology</td>\n",
       "      <td>Maximum 3D diameter</td>\n",
       "      <td>6-9</td>\n",
       "      <td>125.0</td>\n",
       "      <td>1.0</td>\n",
       "      <td>125.043992</td>\n",
       "      <td>NaN</td>\n",
       "      <td>NaN</td>\n",
       "      <td>morph_diam</td>\n",
       "      <td>original_shape_Maximum3DDiameter</td>\n",
       "    </tr>\n",
       "  </tbody>\n",
       "</table>\n",
       "</div>"
      ],
      "text/plain": [
       "           data_set      family      image_biomarker consensus  \\\n",
       "70  configuration E  Morphology  Maximum 3D diameter       6-9   \n",
       "\n",
       "    benchmark_value  tolerance  your_result  difference  check         tag  \\\n",
       "70            125.0        1.0   125.043992         NaN    NaN  morph_diam   \n",
       "\n",
       "                     pyradiomics_tag  \n",
       "70  original_shape_Maximum3DDiameter  "
      ]
     },
     "metadata": {},
     "output_type": "display_data"
    },
    {
     "name": "stdout",
     "output_type": "stream",
     "text": [
      "Fmorph.volume\n",
      "morph_volume\n",
      "60    True\n",
      "Name: tag, dtype: bool\n"
     ]
    },
    {
     "data": {
      "text/plain": [
       "60   NaN\n",
       "Name: your_result, dtype: float64"
      ]
     },
     "metadata": {},
     "output_type": "display_data"
    },
    {
     "data": {
      "text/plain": [
       "60    360364.333333\n",
       "Name: your_result, dtype: float64"
      ]
     },
     "metadata": {},
     "output_type": "display_data"
    },
    {
     "name": "stdout",
     "output_type": "stream",
     "text": [
      "original_shape_MeshVolume\n"
     ]
    },
    {
     "data": {
      "text/html": [
       "<div>\n",
       "<style scoped>\n",
       "    .dataframe tbody tr th:only-of-type {\n",
       "        vertical-align: middle;\n",
       "    }\n",
       "\n",
       "    .dataframe tbody tr th {\n",
       "        vertical-align: top;\n",
       "    }\n",
       "\n",
       "    .dataframe thead th {\n",
       "        text-align: right;\n",
       "    }\n",
       "</style>\n",
       "<table border=\"1\" class=\"dataframe\">\n",
       "  <thead>\n",
       "    <tr style=\"text-align: right;\">\n",
       "      <th></th>\n",
       "      <th>data_set</th>\n",
       "      <th>family</th>\n",
       "      <th>image_biomarker</th>\n",
       "      <th>consensus</th>\n",
       "      <th>benchmark_value</th>\n",
       "      <th>tolerance</th>\n",
       "      <th>your_result</th>\n",
       "      <th>difference</th>\n",
       "      <th>check</th>\n",
       "      <th>tag</th>\n",
       "      <th>pyradiomics_tag</th>\n",
       "    </tr>\n",
       "  </thead>\n",
       "  <tbody>\n",
       "    <tr>\n",
       "      <td>60</td>\n",
       "      <td>configuration E</td>\n",
       "      <td>Morphology</td>\n",
       "      <td>Volume (mesh-based)</td>\n",
       "      <td>6-9</td>\n",
       "      <td>367000.0</td>\n",
       "      <td>6000.0</td>\n",
       "      <td>360364.333333</td>\n",
       "      <td>NaN</td>\n",
       "      <td>NaN</td>\n",
       "      <td>morph_volume</td>\n",
       "      <td>original_shape_MeshVolume</td>\n",
       "    </tr>\n",
       "  </tbody>\n",
       "</table>\n",
       "</div>"
      ],
      "text/plain": [
       "           data_set      family      image_biomarker consensus  \\\n",
       "60  configuration E  Morphology  Volume (mesh-based)       6-9   \n",
       "\n",
       "    benchmark_value  tolerance    your_result  difference  check  \\\n",
       "60         367000.0     6000.0  360364.333333         NaN    NaN   \n",
       "\n",
       "             tag            pyradiomics_tag  \n",
       "60  morph_volume  original_shape_MeshVolume  "
      ]
     },
     "metadata": {},
     "output_type": "display_data"
    },
    {
     "name": "stdout",
     "output_type": "stream",
     "text": [
      "Fmorph.vol.approx\n",
      "morph_vol_approx\n",
      "61    True\n",
      "Name: tag, dtype: bool\n"
     ]
    },
    {
     "data": {
      "text/plain": [
       "61   NaN\n",
       "Name: your_result, dtype: float64"
      ]
     },
     "metadata": {},
     "output_type": "display_data"
    },
    {
     "data": {
      "text/plain": [
       "61    360856.0\n",
       "Name: your_result, dtype: float64"
      ]
     },
     "metadata": {},
     "output_type": "display_data"
    },
    {
     "name": "stdout",
     "output_type": "stream",
     "text": [
      "original_shape_VoxelVolume\n"
     ]
    },
    {
     "data": {
      "text/html": [
       "<div>\n",
       "<style scoped>\n",
       "    .dataframe tbody tr th:only-of-type {\n",
       "        vertical-align: middle;\n",
       "    }\n",
       "\n",
       "    .dataframe tbody tr th {\n",
       "        vertical-align: top;\n",
       "    }\n",
       "\n",
       "    .dataframe thead th {\n",
       "        text-align: right;\n",
       "    }\n",
       "</style>\n",
       "<table border=\"1\" class=\"dataframe\">\n",
       "  <thead>\n",
       "    <tr style=\"text-align: right;\">\n",
       "      <th></th>\n",
       "      <th>data_set</th>\n",
       "      <th>family</th>\n",
       "      <th>image_biomarker</th>\n",
       "      <th>consensus</th>\n",
       "      <th>benchmark_value</th>\n",
       "      <th>tolerance</th>\n",
       "      <th>your_result</th>\n",
       "      <th>difference</th>\n",
       "      <th>check</th>\n",
       "      <th>tag</th>\n",
       "      <th>pyradiomics_tag</th>\n",
       "    </tr>\n",
       "  </thead>\n",
       "  <tbody>\n",
       "    <tr>\n",
       "      <td>61</td>\n",
       "      <td>configuration E</td>\n",
       "      <td>Morphology</td>\n",
       "      <td>Volume (counting)</td>\n",
       "      <td>6-9</td>\n",
       "      <td>368000.0</td>\n",
       "      <td>6000.0</td>\n",
       "      <td>360856.0</td>\n",
       "      <td>NaN</td>\n",
       "      <td>NaN</td>\n",
       "      <td>morph_vol_approx</td>\n",
       "      <td>original_shape_VoxelVolume</td>\n",
       "    </tr>\n",
       "  </tbody>\n",
       "</table>\n",
       "</div>"
      ],
      "text/plain": [
       "           data_set      family    image_biomarker consensus  benchmark_value  \\\n",
       "61  configuration E  Morphology  Volume (counting)       6-9         368000.0   \n",
       "\n",
       "    tolerance  your_result  difference  check               tag  \\\n",
       "61     6000.0     360856.0         NaN    NaN  morph_vol_approx   \n",
       "\n",
       "               pyradiomics_tag  \n",
       "61  original_shape_VoxelVolume  "
      ]
     },
     "metadata": {},
     "output_type": "display_data"
    },
    {
     "name": "stdout",
     "output_type": "stream",
     "text": [
      "Fmorph.pca.min.axis\n",
      "morph_pca_min_axis\n",
      "72    True\n",
      "Name: tag, dtype: bool\n"
     ]
    },
    {
     "data": {
      "text/plain": [
       "72   NaN\n",
       "Name: your_result, dtype: float64"
      ]
     },
     "metadata": {},
     "output_type": "display_data"
    },
    {
     "data": {
      "text/plain": [
       "72    81.717374\n",
       "Name: your_result, dtype: float64"
      ]
     },
     "metadata": {},
     "output_type": "display_data"
    },
    {
     "name": "stdout",
     "output_type": "stream",
     "text": [
      "original_shape_MinorAxisLength\n"
     ]
    },
    {
     "data": {
      "text/html": [
       "<div>\n",
       "<style scoped>\n",
       "    .dataframe tbody tr th:only-of-type {\n",
       "        vertical-align: middle;\n",
       "    }\n",
       "\n",
       "    .dataframe tbody tr th {\n",
       "        vertical-align: top;\n",
       "    }\n",
       "\n",
       "    .dataframe thead th {\n",
       "        text-align: right;\n",
       "    }\n",
       "</style>\n",
       "<table border=\"1\" class=\"dataframe\">\n",
       "  <thead>\n",
       "    <tr style=\"text-align: right;\">\n",
       "      <th></th>\n",
       "      <th>data_set</th>\n",
       "      <th>family</th>\n",
       "      <th>image_biomarker</th>\n",
       "      <th>consensus</th>\n",
       "      <th>benchmark_value</th>\n",
       "      <th>tolerance</th>\n",
       "      <th>your_result</th>\n",
       "      <th>difference</th>\n",
       "      <th>check</th>\n",
       "      <th>tag</th>\n",
       "      <th>pyradiomics_tag</th>\n",
       "    </tr>\n",
       "  </thead>\n",
       "  <tbody>\n",
       "    <tr>\n",
       "      <td>72</td>\n",
       "      <td>configuration E</td>\n",
       "      <td>Morphology</td>\n",
       "      <td>Minor axis length</td>\n",
       "      <td>6-9</td>\n",
       "      <td>82.0</td>\n",
       "      <td>0.5</td>\n",
       "      <td>81.717374</td>\n",
       "      <td>NaN</td>\n",
       "      <td>NaN</td>\n",
       "      <td>morph_pca_min_axis</td>\n",
       "      <td>original_shape_MinorAxisLength</td>\n",
       "    </tr>\n",
       "  </tbody>\n",
       "</table>\n",
       "</div>"
      ],
      "text/plain": [
       "           data_set      family    image_biomarker consensus  benchmark_value  \\\n",
       "72  configuration E  Morphology  Minor axis length       6-9             82.0   \n",
       "\n",
       "    tolerance  your_result  difference  check                 tag  \\\n",
       "72        0.5    81.717374         NaN    NaN  morph_pca_min_axis   \n",
       "\n",
       "                   pyradiomics_tag  \n",
       "72  original_shape_MinorAxisLength  "
      ]
     },
     "metadata": {},
     "output_type": "display_data"
    },
    {
     "name": "stdout",
     "output_type": "stream",
     "text": [
      "Fmorph.sphericity\n",
      "morph_sphericity\n",
      "67    True\n",
      "Name: tag, dtype: bool\n"
     ]
    },
    {
     "data": {
      "text/plain": [
       "67   NaN\n",
       "Name: your_result, dtype: float64"
      ]
     },
     "metadata": {},
     "output_type": "display_data"
    },
    {
     "data": {
      "text/plain": [
       "67    0.704561\n",
       "Name: your_result, dtype: float64"
      ]
     },
     "metadata": {},
     "output_type": "display_data"
    },
    {
     "name": "stdout",
     "output_type": "stream",
     "text": [
      "original_shape_Sphericity\n"
     ]
    },
    {
     "data": {
      "text/html": [
       "<div>\n",
       "<style scoped>\n",
       "    .dataframe tbody tr th:only-of-type {\n",
       "        vertical-align: middle;\n",
       "    }\n",
       "\n",
       "    .dataframe tbody tr th {\n",
       "        vertical-align: top;\n",
       "    }\n",
       "\n",
       "    .dataframe thead th {\n",
       "        text-align: right;\n",
       "    }\n",
       "</style>\n",
       "<table border=\"1\" class=\"dataframe\">\n",
       "  <thead>\n",
       "    <tr style=\"text-align: right;\">\n",
       "      <th></th>\n",
       "      <th>data_set</th>\n",
       "      <th>family</th>\n",
       "      <th>image_biomarker</th>\n",
       "      <th>consensus</th>\n",
       "      <th>benchmark_value</th>\n",
       "      <th>tolerance</th>\n",
       "      <th>your_result</th>\n",
       "      <th>difference</th>\n",
       "      <th>check</th>\n",
       "      <th>tag</th>\n",
       "      <th>pyradiomics_tag</th>\n",
       "    </tr>\n",
       "  </thead>\n",
       "  <tbody>\n",
       "    <tr>\n",
       "      <td>67</td>\n",
       "      <td>configuration E</td>\n",
       "      <td>Morphology</td>\n",
       "      <td>Sphericity</td>\n",
       "      <td>6-9</td>\n",
       "      <td>0.723</td>\n",
       "      <td>0.003</td>\n",
       "      <td>0.704561</td>\n",
       "      <td>NaN</td>\n",
       "      <td>NaN</td>\n",
       "      <td>morph_sphericity</td>\n",
       "      <td>original_shape_Sphericity</td>\n",
       "    </tr>\n",
       "  </tbody>\n",
       "</table>\n",
       "</div>"
      ],
      "text/plain": [
       "           data_set      family image_biomarker consensus  benchmark_value  \\\n",
       "67  configuration E  Morphology      Sphericity       6-9            0.723   \n",
       "\n",
       "    tolerance  your_result  difference  check               tag  \\\n",
       "67      0.003     0.704561         NaN    NaN  morph_sphericity   \n",
       "\n",
       "              pyradiomics_tag  \n",
       "67  original_shape_Sphericity  "
      ]
     },
     "metadata": {},
     "output_type": "display_data"
    },
    {
     "name": "stdout",
     "output_type": "stream",
     "text": [
      "Fmorph.area.mesh\n",
      "morph_area_mesh\n",
      "62    True\n",
      "Name: tag, dtype: bool\n"
     ]
    },
    {
     "data": {
      "text/plain": [
       "62   NaN\n",
       "Name: your_result, dtype: float64"
      ]
     },
     "metadata": {},
     "output_type": "display_data"
    },
    {
     "data": {
      "text/plain": [
       "62    34758.432218\n",
       "Name: your_result, dtype: float64"
      ]
     },
     "metadata": {},
     "output_type": "display_data"
    },
    {
     "name": "stdout",
     "output_type": "stream",
     "text": [
      "original_shape_SurfaceArea\n"
     ]
    },
    {
     "data": {
      "text/html": [
       "<div>\n",
       "<style scoped>\n",
       "    .dataframe tbody tr th:only-of-type {\n",
       "        vertical-align: middle;\n",
       "    }\n",
       "\n",
       "    .dataframe tbody tr th {\n",
       "        vertical-align: top;\n",
       "    }\n",
       "\n",
       "    .dataframe thead th {\n",
       "        text-align: right;\n",
       "    }\n",
       "</style>\n",
       "<table border=\"1\" class=\"dataframe\">\n",
       "  <thead>\n",
       "    <tr style=\"text-align: right;\">\n",
       "      <th></th>\n",
       "      <th>data_set</th>\n",
       "      <th>family</th>\n",
       "      <th>image_biomarker</th>\n",
       "      <th>consensus</th>\n",
       "      <th>benchmark_value</th>\n",
       "      <th>tolerance</th>\n",
       "      <th>your_result</th>\n",
       "      <th>difference</th>\n",
       "      <th>check</th>\n",
       "      <th>tag</th>\n",
       "      <th>pyradiomics_tag</th>\n",
       "    </tr>\n",
       "  </thead>\n",
       "  <tbody>\n",
       "    <tr>\n",
       "      <td>62</td>\n",
       "      <td>configuration E</td>\n",
       "      <td>Morphology</td>\n",
       "      <td>Surface area</td>\n",
       "      <td>6-9</td>\n",
       "      <td>34300.0</td>\n",
       "      <td>300.0</td>\n",
       "      <td>34758.432218</td>\n",
       "      <td>NaN</td>\n",
       "      <td>NaN</td>\n",
       "      <td>morph_area_mesh</td>\n",
       "      <td>original_shape_SurfaceArea</td>\n",
       "    </tr>\n",
       "  </tbody>\n",
       "</table>\n",
       "</div>"
      ],
      "text/plain": [
       "           data_set      family image_biomarker consensus  benchmark_value  \\\n",
       "62  configuration E  Morphology    Surface area       6-9          34300.0   \n",
       "\n",
       "    tolerance   your_result  difference  check              tag  \\\n",
       "62      300.0  34758.432218         NaN    NaN  morph_area_mesh   \n",
       "\n",
       "               pyradiomics_tag  \n",
       "62  original_shape_SurfaceArea  "
      ]
     },
     "metadata": {},
     "output_type": "display_data"
    },
    {
     "name": "stdout",
     "output_type": "stream",
     "text": [
      "Fmorph.av\n",
      "morph_av\n",
      "63    True\n",
      "Name: tag, dtype: bool\n"
     ]
    },
    {
     "data": {
      "text/plain": [
       "63   NaN\n",
       "Name: your_result, dtype: float64"
      ]
     },
     "metadata": {},
     "output_type": "display_data"
    },
    {
     "data": {
      "text/plain": [
       "63    0.096454\n",
       "Name: your_result, dtype: float64"
      ]
     },
     "metadata": {},
     "output_type": "display_data"
    },
    {
     "name": "stdout",
     "output_type": "stream",
     "text": [
      "original_shape_SurfaceVolumeRatio\n"
     ]
    },
    {
     "data": {
      "text/html": [
       "<div>\n",
       "<style scoped>\n",
       "    .dataframe tbody tr th:only-of-type {\n",
       "        vertical-align: middle;\n",
       "    }\n",
       "\n",
       "    .dataframe tbody tr th {\n",
       "        vertical-align: top;\n",
       "    }\n",
       "\n",
       "    .dataframe thead th {\n",
       "        text-align: right;\n",
       "    }\n",
       "</style>\n",
       "<table border=\"1\" class=\"dataframe\">\n",
       "  <thead>\n",
       "    <tr style=\"text-align: right;\">\n",
       "      <th></th>\n",
       "      <th>data_set</th>\n",
       "      <th>family</th>\n",
       "      <th>image_biomarker</th>\n",
       "      <th>consensus</th>\n",
       "      <th>benchmark_value</th>\n",
       "      <th>tolerance</th>\n",
       "      <th>your_result</th>\n",
       "      <th>difference</th>\n",
       "      <th>check</th>\n",
       "      <th>tag</th>\n",
       "      <th>pyradiomics_tag</th>\n",
       "    </tr>\n",
       "  </thead>\n",
       "  <tbody>\n",
       "    <tr>\n",
       "      <td>63</td>\n",
       "      <td>configuration E</td>\n",
       "      <td>Morphology</td>\n",
       "      <td>Surface to volume ratio</td>\n",
       "      <td>6-9</td>\n",
       "      <td>0.0934</td>\n",
       "      <td>0.0007</td>\n",
       "      <td>0.096454</td>\n",
       "      <td>NaN</td>\n",
       "      <td>NaN</td>\n",
       "      <td>morph_av</td>\n",
       "      <td>original_shape_SurfaceVolumeRatio</td>\n",
       "    </tr>\n",
       "  </tbody>\n",
       "</table>\n",
       "</div>"
      ],
      "text/plain": [
       "           data_set      family          image_biomarker consensus  \\\n",
       "63  configuration E  Morphology  Surface to volume ratio       6-9   \n",
       "\n",
       "    benchmark_value  tolerance  your_result  difference  check       tag  \\\n",
       "63           0.0934     0.0007     0.096454         NaN    NaN  morph_av   \n",
       "\n",
       "                      pyradiomics_tag  \n",
       "63  original_shape_SurfaceVolumeRatio  "
      ]
     },
     "metadata": {},
     "output_type": "display_data"
    },
    {
     "name": "stdout",
     "output_type": "stream",
     "text": [
      "Fstat.p10\n",
      "stat_p10\n",
      "97    True\n",
      "Name: tag, dtype: bool\n"
     ]
    },
    {
     "data": {
      "text/plain": [
       "97   NaN\n",
       "Name: your_result, dtype: float64"
      ]
     },
     "metadata": {},
     "output_type": "display_data"
    },
    {
     "data": {
      "text/plain": [
       "97   -396.0\n",
       "Name: your_result, dtype: float64"
      ]
     },
     "metadata": {},
     "output_type": "display_data"
    },
    {
     "name": "stdout",
     "output_type": "stream",
     "text": [
      "original_firstorder_10Percentile\n"
     ]
    },
    {
     "data": {
      "text/html": [
       "<div>\n",
       "<style scoped>\n",
       "    .dataframe tbody tr th:only-of-type {\n",
       "        vertical-align: middle;\n",
       "    }\n",
       "\n",
       "    .dataframe tbody tr th {\n",
       "        vertical-align: top;\n",
       "    }\n",
       "\n",
       "    .dataframe thead th {\n",
       "        text-align: right;\n",
       "    }\n",
       "</style>\n",
       "<table border=\"1\" class=\"dataframe\">\n",
       "  <thead>\n",
       "    <tr style=\"text-align: right;\">\n",
       "      <th></th>\n",
       "      <th>data_set</th>\n",
       "      <th>family</th>\n",
       "      <th>image_biomarker</th>\n",
       "      <th>consensus</th>\n",
       "      <th>benchmark_value</th>\n",
       "      <th>tolerance</th>\n",
       "      <th>your_result</th>\n",
       "      <th>difference</th>\n",
       "      <th>check</th>\n",
       "      <th>tag</th>\n",
       "      <th>pyradiomics_tag</th>\n",
       "    </tr>\n",
       "  </thead>\n",
       "  <tbody>\n",
       "  </tbody>\n",
       "</table>\n",
       "</div>"
      ],
      "text/plain": [
       "Empty DataFrame\n",
       "Columns: [data_set, family, image_biomarker, consensus, benchmark_value, tolerance, your_result, difference, check, tag, pyradiomics_tag]\n",
       "Index: []"
      ]
     },
     "metadata": {},
     "output_type": "display_data"
    },
    {
     "name": "stdout",
     "output_type": "stream",
     "text": [
      "Fstat.p90\n",
      "stat_p90\n",
      "98    True\n",
      "Name: tag, dtype: bool\n"
     ]
    },
    {
     "data": {
      "text/plain": [
       "98   NaN\n",
       "Name: your_result, dtype: float64"
      ]
     },
     "metadata": {},
     "output_type": "display_data"
    },
    {
     "data": {
      "text/plain": [
       "98    86.0\n",
       "Name: your_result, dtype: float64"
      ]
     },
     "metadata": {},
     "output_type": "display_data"
    },
    {
     "name": "stdout",
     "output_type": "stream",
     "text": [
      "original_firstorder_90Percentile\n"
     ]
    },
    {
     "data": {
      "text/html": [
       "<div>\n",
       "<style scoped>\n",
       "    .dataframe tbody tr th:only-of-type {\n",
       "        vertical-align: middle;\n",
       "    }\n",
       "\n",
       "    .dataframe tbody tr th {\n",
       "        vertical-align: top;\n",
       "    }\n",
       "\n",
       "    .dataframe thead th {\n",
       "        text-align: right;\n",
       "    }\n",
       "</style>\n",
       "<table border=\"1\" class=\"dataframe\">\n",
       "  <thead>\n",
       "    <tr style=\"text-align: right;\">\n",
       "      <th></th>\n",
       "      <th>data_set</th>\n",
       "      <th>family</th>\n",
       "      <th>image_biomarker</th>\n",
       "      <th>consensus</th>\n",
       "      <th>benchmark_value</th>\n",
       "      <th>tolerance</th>\n",
       "      <th>your_result</th>\n",
       "      <th>difference</th>\n",
       "      <th>check</th>\n",
       "      <th>tag</th>\n",
       "      <th>pyradiomics_tag</th>\n",
       "    </tr>\n",
       "  </thead>\n",
       "  <tbody>\n",
       "  </tbody>\n",
       "</table>\n",
       "</div>"
      ],
      "text/plain": [
       "Empty DataFrame\n",
       "Columns: [data_set, family, image_biomarker, consensus, benchmark_value, tolerance, your_result, difference, check, tag, pyradiomics_tag]\n",
       "Index: []"
      ]
     },
     "metadata": {},
     "output_type": "display_data"
    },
    {
     "name": "stdout",
     "output_type": "stream",
     "text": [
      "Fstat.energy\n",
      "stat_energy\n",
      "107    True\n",
      "Name: tag, dtype: bool\n"
     ]
    },
    {
     "data": {
      "text/plain": [
       "107   NaN\n",
       "Name: your_result, dtype: float64"
      ]
     },
     "metadata": {},
     "output_type": "display_data"
    },
    {
     "data": {
      "text/plain": [
       "107    2.244889e+09\n",
       "Name: your_result, dtype: float64"
      ]
     },
     "metadata": {},
     "output_type": "display_data"
    },
    {
     "name": "stdout",
     "output_type": "stream",
     "text": [
      "original_firstorder_Energy\n"
     ]
    },
    {
     "data": {
      "text/html": [
       "<div>\n",
       "<style scoped>\n",
       "    .dataframe tbody tr th:only-of-type {\n",
       "        vertical-align: middle;\n",
       "    }\n",
       "\n",
       "    .dataframe tbody tr th {\n",
       "        vertical-align: top;\n",
       "    }\n",
       "\n",
       "    .dataframe thead th {\n",
       "        text-align: right;\n",
       "    }\n",
       "</style>\n",
       "<table border=\"1\" class=\"dataframe\">\n",
       "  <thead>\n",
       "    <tr style=\"text-align: right;\">\n",
       "      <th></th>\n",
       "      <th>data_set</th>\n",
       "      <th>family</th>\n",
       "      <th>image_biomarker</th>\n",
       "      <th>consensus</th>\n",
       "      <th>benchmark_value</th>\n",
       "      <th>tolerance</th>\n",
       "      <th>your_result</th>\n",
       "      <th>difference</th>\n",
       "      <th>check</th>\n",
       "      <th>tag</th>\n",
       "      <th>pyradiomics_tag</th>\n",
       "    </tr>\n",
       "  </thead>\n",
       "  <tbody>\n",
       "  </tbody>\n",
       "</table>\n",
       "</div>"
      ],
      "text/plain": [
       "Empty DataFrame\n",
       "Columns: [data_set, family, image_biomarker, consensus, benchmark_value, tolerance, your_result, difference, check, tag, pyradiomics_tag]\n",
       "Index: []"
      ]
     },
     "metadata": {},
     "output_type": "display_data"
    },
    {
     "name": "stdout",
     "output_type": "stream",
     "text": [
      "Fih.entropy\n",
      "ih_entropy\n",
      "126    True\n",
      "Name: tag, dtype: bool\n"
     ]
    },
    {
     "data": {
      "text/plain": [
       "126   NaN\n",
       "Name: your_result, dtype: float64"
      ]
     },
     "metadata": {},
     "output_type": "display_data"
    },
    {
     "data": {
      "text/plain": [
       "126    2.806875\n",
       "Name: your_result, dtype: float64"
      ]
     },
     "metadata": {},
     "output_type": "display_data"
    },
    {
     "name": "stdout",
     "output_type": "stream",
     "text": [
      "original_firstorder_Entropy\n"
     ]
    },
    {
     "data": {
      "text/html": [
       "<div>\n",
       "<style scoped>\n",
       "    .dataframe tbody tr th:only-of-type {\n",
       "        vertical-align: middle;\n",
       "    }\n",
       "\n",
       "    .dataframe tbody tr th {\n",
       "        vertical-align: top;\n",
       "    }\n",
       "\n",
       "    .dataframe thead th {\n",
       "        text-align: right;\n",
       "    }\n",
       "</style>\n",
       "<table border=\"1\" class=\"dataframe\">\n",
       "  <thead>\n",
       "    <tr style=\"text-align: right;\">\n",
       "      <th></th>\n",
       "      <th>data_set</th>\n",
       "      <th>family</th>\n",
       "      <th>image_biomarker</th>\n",
       "      <th>consensus</th>\n",
       "      <th>benchmark_value</th>\n",
       "      <th>tolerance</th>\n",
       "      <th>your_result</th>\n",
       "      <th>difference</th>\n",
       "      <th>check</th>\n",
       "      <th>tag</th>\n",
       "      <th>pyradiomics_tag</th>\n",
       "    </tr>\n",
       "  </thead>\n",
       "  <tbody>\n",
       "  </tbody>\n",
       "</table>\n",
       "</div>"
      ],
      "text/plain": [
       "Empty DataFrame\n",
       "Columns: [data_set, family, image_biomarker, consensus, benchmark_value, tolerance, your_result, difference, check, tag, pyradiomics_tag]\n",
       "Index: []"
      ]
     },
     "metadata": {},
     "output_type": "display_data"
    },
    {
     "name": "stdout",
     "output_type": "stream",
     "text": [
      "Fstat.iqr\n",
      "stat_iqr\n",
      "100    True\n",
      "Name: tag, dtype: bool\n"
     ]
    },
    {
     "data": {
      "text/plain": [
       "100   NaN\n",
       "Name: your_result, dtype: float64"
      ]
     },
     "metadata": {},
     "output_type": "display_data"
    },
    {
     "data": {
      "text/plain": [
       "100    61.0\n",
       "Name: your_result, dtype: float64"
      ]
     },
     "metadata": {},
     "output_type": "display_data"
    },
    {
     "name": "stdout",
     "output_type": "stream",
     "text": [
      "original_firstorder_InterquartileRange\n"
     ]
    },
    {
     "data": {
      "text/html": [
       "<div>\n",
       "<style scoped>\n",
       "    .dataframe tbody tr th:only-of-type {\n",
       "        vertical-align: middle;\n",
       "    }\n",
       "\n",
       "    .dataframe tbody tr th {\n",
       "        vertical-align: top;\n",
       "    }\n",
       "\n",
       "    .dataframe thead th {\n",
       "        text-align: right;\n",
       "    }\n",
       "</style>\n",
       "<table border=\"1\" class=\"dataframe\">\n",
       "  <thead>\n",
       "    <tr style=\"text-align: right;\">\n",
       "      <th></th>\n",
       "      <th>data_set</th>\n",
       "      <th>family</th>\n",
       "      <th>image_biomarker</th>\n",
       "      <th>consensus</th>\n",
       "      <th>benchmark_value</th>\n",
       "      <th>tolerance</th>\n",
       "      <th>your_result</th>\n",
       "      <th>difference</th>\n",
       "      <th>check</th>\n",
       "      <th>tag</th>\n",
       "      <th>pyradiomics_tag</th>\n",
       "    </tr>\n",
       "  </thead>\n",
       "  <tbody>\n",
       "  </tbody>\n",
       "</table>\n",
       "</div>"
      ],
      "text/plain": [
       "Empty DataFrame\n",
       "Columns: [data_set, family, image_biomarker, consensus, benchmark_value, tolerance, your_result, difference, check, tag, pyradiomics_tag]\n",
       "Index: []"
      ]
     },
     "metadata": {},
     "output_type": "display_data"
    },
    {
     "name": "stdout",
     "output_type": "stream",
     "text": [
      "Fstat.kurt\n",
      "stat_kurt\n",
      "94    True\n",
      "Name: tag, dtype: bool\n"
     ]
    },
    {
     "data": {
      "text/plain": [
       "94   NaN\n",
       "Name: your_result, dtype: float64"
      ]
     },
     "metadata": {},
     "output_type": "display_data"
    },
    {
     "data": {
      "text/plain": [
       "94    6.998649\n",
       "Name: your_result, dtype: float64"
      ]
     },
     "metadata": {},
     "output_type": "display_data"
    },
    {
     "name": "stdout",
     "output_type": "stream",
     "text": [
      "original_firstorder_Kurtosis\n"
     ]
    },
    {
     "data": {
      "text/html": [
       "<div>\n",
       "<style scoped>\n",
       "    .dataframe tbody tr th:only-of-type {\n",
       "        vertical-align: middle;\n",
       "    }\n",
       "\n",
       "    .dataframe tbody tr th {\n",
       "        vertical-align: top;\n",
       "    }\n",
       "\n",
       "    .dataframe thead th {\n",
       "        text-align: right;\n",
       "    }\n",
       "</style>\n",
       "<table border=\"1\" class=\"dataframe\">\n",
       "  <thead>\n",
       "    <tr style=\"text-align: right;\">\n",
       "      <th></th>\n",
       "      <th>data_set</th>\n",
       "      <th>family</th>\n",
       "      <th>image_biomarker</th>\n",
       "      <th>consensus</th>\n",
       "      <th>benchmark_value</th>\n",
       "      <th>tolerance</th>\n",
       "      <th>your_result</th>\n",
       "      <th>difference</th>\n",
       "      <th>check</th>\n",
       "      <th>tag</th>\n",
       "      <th>pyradiomics_tag</th>\n",
       "    </tr>\n",
       "  </thead>\n",
       "  <tbody>\n",
       "  </tbody>\n",
       "</table>\n",
       "</div>"
      ],
      "text/plain": [
       "Empty DataFrame\n",
       "Columns: [data_set, family, image_biomarker, consensus, benchmark_value, tolerance, your_result, difference, check, tag, pyradiomics_tag]\n",
       "Index: []"
      ]
     },
     "metadata": {},
     "output_type": "display_data"
    },
    {
     "name": "stdout",
     "output_type": "stream",
     "text": [
      "Fstat.max\n",
      "stat_max\n",
      "99    True\n",
      "Name: tag, dtype: bool\n"
     ]
    },
    {
     "data": {
      "text/plain": [
       "99   NaN\n",
       "Name: your_result, dtype: float64"
      ]
     },
     "metadata": {},
     "output_type": "display_data"
    },
    {
     "data": {
      "text/plain": [
       "99    620.0\n",
       "Name: your_result, dtype: float64"
      ]
     },
     "metadata": {},
     "output_type": "display_data"
    },
    {
     "name": "stdout",
     "output_type": "stream",
     "text": [
      "original_firstorder_Maximum\n"
     ]
    },
    {
     "data": {
      "text/html": [
       "<div>\n",
       "<style scoped>\n",
       "    .dataframe tbody tr th:only-of-type {\n",
       "        vertical-align: middle;\n",
       "    }\n",
       "\n",
       "    .dataframe tbody tr th {\n",
       "        vertical-align: top;\n",
       "    }\n",
       "\n",
       "    .dataframe thead th {\n",
       "        text-align: right;\n",
       "    }\n",
       "</style>\n",
       "<table border=\"1\" class=\"dataframe\">\n",
       "  <thead>\n",
       "    <tr style=\"text-align: right;\">\n",
       "      <th></th>\n",
       "      <th>data_set</th>\n",
       "      <th>family</th>\n",
       "      <th>image_biomarker</th>\n",
       "      <th>consensus</th>\n",
       "      <th>benchmark_value</th>\n",
       "      <th>tolerance</th>\n",
       "      <th>your_result</th>\n",
       "      <th>difference</th>\n",
       "      <th>check</th>\n",
       "      <th>tag</th>\n",
       "      <th>pyradiomics_tag</th>\n",
       "    </tr>\n",
       "  </thead>\n",
       "  <tbody>\n",
       "  </tbody>\n",
       "</table>\n",
       "</div>"
      ],
      "text/plain": [
       "Empty DataFrame\n",
       "Columns: [data_set, family, image_biomarker, consensus, benchmark_value, tolerance, your_result, difference, check, tag, pyradiomics_tag]\n",
       "Index: []"
      ]
     },
     "metadata": {},
     "output_type": "display_data"
    },
    {
     "name": "stdout",
     "output_type": "stream",
     "text": [
      "Fstat.mad\n",
      "stat_mad\n",
      "102    True\n",
      "Name: tag, dtype: bool\n"
     ]
    },
    {
     "data": {
      "text/plain": [
       "102   NaN\n",
       "Name: your_result, dtype: float64"
      ]
     },
     "metadata": {},
     "output_type": "display_data"
    },
    {
     "data": {
      "text/plain": [
       "102    150.516923\n",
       "Name: your_result, dtype: float64"
      ]
     },
     "metadata": {},
     "output_type": "display_data"
    },
    {
     "name": "stdout",
     "output_type": "stream",
     "text": [
      "original_firstorder_MeanAbsoluteDeviation\n"
     ]
    },
    {
     "data": {
      "text/html": [
       "<div>\n",
       "<style scoped>\n",
       "    .dataframe tbody tr th:only-of-type {\n",
       "        vertical-align: middle;\n",
       "    }\n",
       "\n",
       "    .dataframe tbody tr th {\n",
       "        vertical-align: top;\n",
       "    }\n",
       "\n",
       "    .dataframe thead th {\n",
       "        text-align: right;\n",
       "    }\n",
       "</style>\n",
       "<table border=\"1\" class=\"dataframe\">\n",
       "  <thead>\n",
       "    <tr style=\"text-align: right;\">\n",
       "      <th></th>\n",
       "      <th>data_set</th>\n",
       "      <th>family</th>\n",
       "      <th>image_biomarker</th>\n",
       "      <th>consensus</th>\n",
       "      <th>benchmark_value</th>\n",
       "      <th>tolerance</th>\n",
       "      <th>your_result</th>\n",
       "      <th>difference</th>\n",
       "      <th>check</th>\n",
       "      <th>tag</th>\n",
       "      <th>pyradiomics_tag</th>\n",
       "    </tr>\n",
       "  </thead>\n",
       "  <tbody>\n",
       "  </tbody>\n",
       "</table>\n",
       "</div>"
      ],
      "text/plain": [
       "Empty DataFrame\n",
       "Columns: [data_set, family, image_biomarker, consensus, benchmark_value, tolerance, your_result, difference, check, tag, pyradiomics_tag]\n",
       "Index: []"
      ]
     },
     "metadata": {},
     "output_type": "display_data"
    },
    {
     "name": "stdout",
     "output_type": "stream",
     "text": [
      "Fstat.mean\n",
      "stat_mean\n",
      "91    True\n",
      "Name: tag, dtype: bool\n"
     ]
    },
    {
     "data": {
      "text/plain": [
       "91   NaN\n",
       "Name: your_result, dtype: float64"
      ]
     },
     "metadata": {},
     "output_type": "display_data"
    },
    {
     "data": {
      "text/plain": [
       "91   -43.288292\n",
       "Name: your_result, dtype: float64"
      ]
     },
     "metadata": {},
     "output_type": "display_data"
    },
    {
     "name": "stdout",
     "output_type": "stream",
     "text": [
      "original_firstorder_Mean\n"
     ]
    },
    {
     "data": {
      "text/html": [
       "<div>\n",
       "<style scoped>\n",
       "    .dataframe tbody tr th:only-of-type {\n",
       "        vertical-align: middle;\n",
       "    }\n",
       "\n",
       "    .dataframe tbody tr th {\n",
       "        vertical-align: top;\n",
       "    }\n",
       "\n",
       "    .dataframe thead th {\n",
       "        text-align: right;\n",
       "    }\n",
       "</style>\n",
       "<table border=\"1\" class=\"dataframe\">\n",
       "  <thead>\n",
       "    <tr style=\"text-align: right;\">\n",
       "      <th></th>\n",
       "      <th>data_set</th>\n",
       "      <th>family</th>\n",
       "      <th>image_biomarker</th>\n",
       "      <th>consensus</th>\n",
       "      <th>benchmark_value</th>\n",
       "      <th>tolerance</th>\n",
       "      <th>your_result</th>\n",
       "      <th>difference</th>\n",
       "      <th>check</th>\n",
       "      <th>tag</th>\n",
       "      <th>pyradiomics_tag</th>\n",
       "    </tr>\n",
       "  </thead>\n",
       "  <tbody>\n",
       "  </tbody>\n",
       "</table>\n",
       "</div>"
      ],
      "text/plain": [
       "Empty DataFrame\n",
       "Columns: [data_set, family, image_biomarker, consensus, benchmark_value, tolerance, your_result, difference, check, tag, pyradiomics_tag]\n",
       "Index: []"
      ]
     },
     "metadata": {},
     "output_type": "display_data"
    },
    {
     "name": "stdout",
     "output_type": "stream",
     "text": [
      "Fstat.median\n",
      "stat_median\n",
      "95    True\n",
      "Name: tag, dtype: bool\n"
     ]
    },
    {
     "data": {
      "text/plain": [
       "95   NaN\n",
       "Name: your_result, dtype: float64"
      ]
     },
     "metadata": {},
     "output_type": "display_data"
    },
    {
     "data": {
      "text/plain": [
       "95    40.0\n",
       "Name: your_result, dtype: float64"
      ]
     },
     "metadata": {},
     "output_type": "display_data"
    },
    {
     "name": "stdout",
     "output_type": "stream",
     "text": [
      "original_firstorder_Median\n"
     ]
    },
    {
     "data": {
      "text/html": [
       "<div>\n",
       "<style scoped>\n",
       "    .dataframe tbody tr th:only-of-type {\n",
       "        vertical-align: middle;\n",
       "    }\n",
       "\n",
       "    .dataframe tbody tr th {\n",
       "        vertical-align: top;\n",
       "    }\n",
       "\n",
       "    .dataframe thead th {\n",
       "        text-align: right;\n",
       "    }\n",
       "</style>\n",
       "<table border=\"1\" class=\"dataframe\">\n",
       "  <thead>\n",
       "    <tr style=\"text-align: right;\">\n",
       "      <th></th>\n",
       "      <th>data_set</th>\n",
       "      <th>family</th>\n",
       "      <th>image_biomarker</th>\n",
       "      <th>consensus</th>\n",
       "      <th>benchmark_value</th>\n",
       "      <th>tolerance</th>\n",
       "      <th>your_result</th>\n",
       "      <th>difference</th>\n",
       "      <th>check</th>\n",
       "      <th>tag</th>\n",
       "      <th>pyradiomics_tag</th>\n",
       "    </tr>\n",
       "  </thead>\n",
       "  <tbody>\n",
       "  </tbody>\n",
       "</table>\n",
       "</div>"
      ],
      "text/plain": [
       "Empty DataFrame\n",
       "Columns: [data_set, family, image_biomarker, consensus, benchmark_value, tolerance, your_result, difference, check, tag, pyradiomics_tag]\n",
       "Index: []"
      ]
     },
     "metadata": {},
     "output_type": "display_data"
    },
    {
     "name": "stdout",
     "output_type": "stream",
     "text": [
      "Fstat.min\n",
      "stat_min\n",
      "96    True\n",
      "Name: tag, dtype: bool\n"
     ]
    },
    {
     "data": {
      "text/plain": [
       "96   NaN\n",
       "Name: your_result, dtype: float64"
      ]
     },
     "metadata": {},
     "output_type": "display_data"
    },
    {
     "data": {
      "text/plain": [
       "96   -922.0\n",
       "Name: your_result, dtype: float64"
      ]
     },
     "metadata": {},
     "output_type": "display_data"
    },
    {
     "name": "stdout",
     "output_type": "stream",
     "text": [
      "original_firstorder_Minimum\n"
     ]
    },
    {
     "data": {
      "text/html": [
       "<div>\n",
       "<style scoped>\n",
       "    .dataframe tbody tr th:only-of-type {\n",
       "        vertical-align: middle;\n",
       "    }\n",
       "\n",
       "    .dataframe tbody tr th {\n",
       "        vertical-align: top;\n",
       "    }\n",
       "\n",
       "    .dataframe thead th {\n",
       "        text-align: right;\n",
       "    }\n",
       "</style>\n",
       "<table border=\"1\" class=\"dataframe\">\n",
       "  <thead>\n",
       "    <tr style=\"text-align: right;\">\n",
       "      <th></th>\n",
       "      <th>data_set</th>\n",
       "      <th>family</th>\n",
       "      <th>image_biomarker</th>\n",
       "      <th>consensus</th>\n",
       "      <th>benchmark_value</th>\n",
       "      <th>tolerance</th>\n",
       "      <th>your_result</th>\n",
       "      <th>difference</th>\n",
       "      <th>check</th>\n",
       "      <th>tag</th>\n",
       "      <th>pyradiomics_tag</th>\n",
       "    </tr>\n",
       "  </thead>\n",
       "  <tbody>\n",
       "  </tbody>\n",
       "</table>\n",
       "</div>"
      ],
      "text/plain": [
       "Empty DataFrame\n",
       "Columns: [data_set, family, image_biomarker, consensus, benchmark_value, tolerance, your_result, difference, check, tag, pyradiomics_tag]\n",
       "Index: []"
      ]
     },
     "metadata": {},
     "output_type": "display_data"
    },
    {
     "name": "stdout",
     "output_type": "stream",
     "text": [
      "Fstat.range\n",
      "stat_range\n",
      "101    True\n",
      "Name: tag, dtype: bool\n"
     ]
    },
    {
     "data": {
      "text/plain": [
       "101   NaN\n",
       "Name: your_result, dtype: float64"
      ]
     },
     "metadata": {},
     "output_type": "display_data"
    },
    {
     "data": {
      "text/plain": [
       "101    1542.0\n",
       "Name: your_result, dtype: float64"
      ]
     },
     "metadata": {},
     "output_type": "display_data"
    },
    {
     "name": "stdout",
     "output_type": "stream",
     "text": [
      "original_firstorder_Range\n"
     ]
    },
    {
     "data": {
      "text/html": [
       "<div>\n",
       "<style scoped>\n",
       "    .dataframe tbody tr th:only-of-type {\n",
       "        vertical-align: middle;\n",
       "    }\n",
       "\n",
       "    .dataframe tbody tr th {\n",
       "        vertical-align: top;\n",
       "    }\n",
       "\n",
       "    .dataframe thead th {\n",
       "        text-align: right;\n",
       "    }\n",
       "</style>\n",
       "<table border=\"1\" class=\"dataframe\">\n",
       "  <thead>\n",
       "    <tr style=\"text-align: right;\">\n",
       "      <th></th>\n",
       "      <th>data_set</th>\n",
       "      <th>family</th>\n",
       "      <th>image_biomarker</th>\n",
       "      <th>consensus</th>\n",
       "      <th>benchmark_value</th>\n",
       "      <th>tolerance</th>\n",
       "      <th>your_result</th>\n",
       "      <th>difference</th>\n",
       "      <th>check</th>\n",
       "      <th>tag</th>\n",
       "      <th>pyradiomics_tag</th>\n",
       "    </tr>\n",
       "  </thead>\n",
       "  <tbody>\n",
       "  </tbody>\n",
       "</table>\n",
       "</div>"
      ],
      "text/plain": [
       "Empty DataFrame\n",
       "Columns: [data_set, family, image_biomarker, consensus, benchmark_value, tolerance, your_result, difference, check, tag, pyradiomics_tag]\n",
       "Index: []"
      ]
     },
     "metadata": {},
     "output_type": "display_data"
    },
    {
     "name": "stdout",
     "output_type": "stream",
     "text": [
      "Fstat.rmad\n",
      "stat_rmad\n",
      "103    True\n",
      "Name: tag, dtype: bool\n"
     ]
    },
    {
     "data": {
      "text/plain": [
       "103   NaN\n",
       "Name: your_result, dtype: float64"
      ]
     },
     "metadata": {},
     "output_type": "display_data"
    },
    {
     "data": {
      "text/plain": [
       "103    59.068778\n",
       "Name: your_result, dtype: float64"
      ]
     },
     "metadata": {},
     "output_type": "display_data"
    },
    {
     "name": "stdout",
     "output_type": "stream",
     "text": [
      "original_firstorder_RobustMeanAbsoluteDeviation\n"
     ]
    },
    {
     "data": {
      "text/html": [
       "<div>\n",
       "<style scoped>\n",
       "    .dataframe tbody tr th:only-of-type {\n",
       "        vertical-align: middle;\n",
       "    }\n",
       "\n",
       "    .dataframe tbody tr th {\n",
       "        vertical-align: top;\n",
       "    }\n",
       "\n",
       "    .dataframe thead th {\n",
       "        text-align: right;\n",
       "    }\n",
       "</style>\n",
       "<table border=\"1\" class=\"dataframe\">\n",
       "  <thead>\n",
       "    <tr style=\"text-align: right;\">\n",
       "      <th></th>\n",
       "      <th>data_set</th>\n",
       "      <th>family</th>\n",
       "      <th>image_biomarker</th>\n",
       "      <th>consensus</th>\n",
       "      <th>benchmark_value</th>\n",
       "      <th>tolerance</th>\n",
       "      <th>your_result</th>\n",
       "      <th>difference</th>\n",
       "      <th>check</th>\n",
       "      <th>tag</th>\n",
       "      <th>pyradiomics_tag</th>\n",
       "    </tr>\n",
       "  </thead>\n",
       "  <tbody>\n",
       "  </tbody>\n",
       "</table>\n",
       "</div>"
      ],
      "text/plain": [
       "Empty DataFrame\n",
       "Columns: [data_set, family, image_biomarker, consensus, benchmark_value, tolerance, your_result, difference, check, tag, pyradiomics_tag]\n",
       "Index: []"
      ]
     },
     "metadata": {},
     "output_type": "display_data"
    },
    {
     "name": "stdout",
     "output_type": "stream",
     "text": [
      "Fstat.rms\n",
      "stat_rms\n",
      "108    True\n",
      "Name: tag, dtype: bool\n"
     ]
    },
    {
     "data": {
      "text/plain": [
       "108   NaN\n",
       "Name: your_result, dtype: float64"
      ]
     },
     "metadata": {},
     "output_type": "display_data"
    },
    {
     "data": {
      "text/plain": [
       "108    223.087612\n",
       "Name: your_result, dtype: float64"
      ]
     },
     "metadata": {},
     "output_type": "display_data"
    },
    {
     "name": "stdout",
     "output_type": "stream",
     "text": [
      "original_firstorder_RootMeanSquared\n"
     ]
    },
    {
     "data": {
      "text/html": [
       "<div>\n",
       "<style scoped>\n",
       "    .dataframe tbody tr th:only-of-type {\n",
       "        vertical-align: middle;\n",
       "    }\n",
       "\n",
       "    .dataframe tbody tr th {\n",
       "        vertical-align: top;\n",
       "    }\n",
       "\n",
       "    .dataframe thead th {\n",
       "        text-align: right;\n",
       "    }\n",
       "</style>\n",
       "<table border=\"1\" class=\"dataframe\">\n",
       "  <thead>\n",
       "    <tr style=\"text-align: right;\">\n",
       "      <th></th>\n",
       "      <th>data_set</th>\n",
       "      <th>family</th>\n",
       "      <th>image_biomarker</th>\n",
       "      <th>consensus</th>\n",
       "      <th>benchmark_value</th>\n",
       "      <th>tolerance</th>\n",
       "      <th>your_result</th>\n",
       "      <th>difference</th>\n",
       "      <th>check</th>\n",
       "      <th>tag</th>\n",
       "      <th>pyradiomics_tag</th>\n",
       "    </tr>\n",
       "  </thead>\n",
       "  <tbody>\n",
       "  </tbody>\n",
       "</table>\n",
       "</div>"
      ],
      "text/plain": [
       "Empty DataFrame\n",
       "Columns: [data_set, family, image_biomarker, consensus, benchmark_value, tolerance, your_result, difference, check, tag, pyradiomics_tag]\n",
       "Index: []"
      ]
     },
     "metadata": {},
     "output_type": "display_data"
    },
    {
     "name": "stdout",
     "output_type": "stream",
     "text": [
      "Fstat.skew\n",
      "stat_skew\n",
      "93    True\n",
      "Name: tag, dtype: bool\n"
     ]
    },
    {
     "data": {
      "text/plain": [
       "93   NaN\n",
       "Name: your_result, dtype: float64"
      ]
     },
     "metadata": {},
     "output_type": "display_data"
    },
    {
     "data": {
      "text/plain": [
       "93   -2.232928\n",
       "Name: your_result, dtype: float64"
      ]
     },
     "metadata": {},
     "output_type": "display_data"
    },
    {
     "name": "stdout",
     "output_type": "stream",
     "text": [
      "original_firstorder_Skewness\n"
     ]
    },
    {
     "data": {
      "text/html": [
       "<div>\n",
       "<style scoped>\n",
       "    .dataframe tbody tr th:only-of-type {\n",
       "        vertical-align: middle;\n",
       "    }\n",
       "\n",
       "    .dataframe tbody tr th {\n",
       "        vertical-align: top;\n",
       "    }\n",
       "\n",
       "    .dataframe thead th {\n",
       "        text-align: right;\n",
       "    }\n",
       "</style>\n",
       "<table border=\"1\" class=\"dataframe\">\n",
       "  <thead>\n",
       "    <tr style=\"text-align: right;\">\n",
       "      <th></th>\n",
       "      <th>data_set</th>\n",
       "      <th>family</th>\n",
       "      <th>image_biomarker</th>\n",
       "      <th>consensus</th>\n",
       "      <th>benchmark_value</th>\n",
       "      <th>tolerance</th>\n",
       "      <th>your_result</th>\n",
       "      <th>difference</th>\n",
       "      <th>check</th>\n",
       "      <th>tag</th>\n",
       "      <th>pyradiomics_tag</th>\n",
       "    </tr>\n",
       "  </thead>\n",
       "  <tbody>\n",
       "  </tbody>\n",
       "</table>\n",
       "</div>"
      ],
      "text/plain": [
       "Empty DataFrame\n",
       "Columns: [data_set, family, image_biomarker, consensus, benchmark_value, tolerance, your_result, difference, check, tag, pyradiomics_tag]\n",
       "Index: []"
      ]
     },
     "metadata": {},
     "output_type": "display_data"
    },
    {
     "name": "stdout",
     "output_type": "stream",
     "text": [
      "Fstat.pyrad.totalenergy\n",
      "stat_pyrad_totalenergy\n",
      "Series([], Name: tag, dtype: bool)\n"
     ]
    },
    {
     "data": {
      "text/plain": [
       "Series([], Name: your_result, dtype: float64)"
      ]
     },
     "metadata": {},
     "output_type": "display_data"
    },
    {
     "data": {
      "text/plain": [
       "Series([], Name: your_result, dtype: float64)"
      ]
     },
     "metadata": {},
     "output_type": "display_data"
    },
    {
     "name": "stdout",
     "output_type": "stream",
     "text": [
      "original_firstorder_TotalEnergy\n"
     ]
    },
    {
     "data": {
      "text/html": [
       "<div>\n",
       "<style scoped>\n",
       "    .dataframe tbody tr th:only-of-type {\n",
       "        vertical-align: middle;\n",
       "    }\n",
       "\n",
       "    .dataframe tbody tr th {\n",
       "        vertical-align: top;\n",
       "    }\n",
       "\n",
       "    .dataframe thead th {\n",
       "        text-align: right;\n",
       "    }\n",
       "</style>\n",
       "<table border=\"1\" class=\"dataframe\">\n",
       "  <thead>\n",
       "    <tr style=\"text-align: right;\">\n",
       "      <th></th>\n",
       "      <th>data_set</th>\n",
       "      <th>family</th>\n",
       "      <th>image_biomarker</th>\n",
       "      <th>consensus</th>\n",
       "      <th>benchmark_value</th>\n",
       "      <th>tolerance</th>\n",
       "      <th>your_result</th>\n",
       "      <th>difference</th>\n",
       "      <th>check</th>\n",
       "      <th>tag</th>\n",
       "      <th>pyradiomics_tag</th>\n",
       "    </tr>\n",
       "  </thead>\n",
       "  <tbody>\n",
       "  </tbody>\n",
       "</table>\n",
       "</div>"
      ],
      "text/plain": [
       "Empty DataFrame\n",
       "Columns: [data_set, family, image_biomarker, consensus, benchmark_value, tolerance, your_result, difference, check, tag, pyradiomics_tag]\n",
       "Index: []"
      ]
     },
     "metadata": {},
     "output_type": "display_data"
    },
    {
     "name": "stdout",
     "output_type": "stream",
     "text": [
      "Fih.uniformity\n",
      "ih_uniformity\n",
      "127    True\n",
      "Name: tag, dtype: bool\n"
     ]
    },
    {
     "data": {
      "text/plain": [
       "127   NaN\n",
       "Name: your_result, dtype: float64"
      ]
     },
     "metadata": {},
     "output_type": "display_data"
    },
    {
     "data": {
      "text/plain": [
       "127    0.255021\n",
       "Name: your_result, dtype: float64"
      ]
     },
     "metadata": {},
     "output_type": "display_data"
    },
    {
     "name": "stdout",
     "output_type": "stream",
     "text": [
      "original_firstorder_Uniformity\n"
     ]
    },
    {
     "data": {
      "text/html": [
       "<div>\n",
       "<style scoped>\n",
       "    .dataframe tbody tr th:only-of-type {\n",
       "        vertical-align: middle;\n",
       "    }\n",
       "\n",
       "    .dataframe tbody tr th {\n",
       "        vertical-align: top;\n",
       "    }\n",
       "\n",
       "    .dataframe thead th {\n",
       "        text-align: right;\n",
       "    }\n",
       "</style>\n",
       "<table border=\"1\" class=\"dataframe\">\n",
       "  <thead>\n",
       "    <tr style=\"text-align: right;\">\n",
       "      <th></th>\n",
       "      <th>data_set</th>\n",
       "      <th>family</th>\n",
       "      <th>image_biomarker</th>\n",
       "      <th>consensus</th>\n",
       "      <th>benchmark_value</th>\n",
       "      <th>tolerance</th>\n",
       "      <th>your_result</th>\n",
       "      <th>difference</th>\n",
       "      <th>check</th>\n",
       "      <th>tag</th>\n",
       "      <th>pyradiomics_tag</th>\n",
       "    </tr>\n",
       "  </thead>\n",
       "  <tbody>\n",
       "  </tbody>\n",
       "</table>\n",
       "</div>"
      ],
      "text/plain": [
       "Empty DataFrame\n",
       "Columns: [data_set, family, image_biomarker, consensus, benchmark_value, tolerance, your_result, difference, check, tag, pyradiomics_tag]\n",
       "Index: []"
      ]
     },
     "metadata": {},
     "output_type": "display_data"
    },
    {
     "name": "stdout",
     "output_type": "stream",
     "text": [
      "Fih.var\n",
      "ih_var\n",
      "110    True\n",
      "Name: tag, dtype: bool\n"
     ]
    },
    {
     "data": {
      "text/plain": [
       "110   NaN\n",
       "Name: your_result, dtype: float64"
      ]
     },
     "metadata": {},
     "output_type": "display_data"
    },
    {
     "data": {
      "text/plain": [
       "110    47894.206377\n",
       "Name: your_result, dtype: float64"
      ]
     },
     "metadata": {},
     "output_type": "display_data"
    },
    {
     "name": "stdout",
     "output_type": "stream",
     "text": [
      "original_firstorder_Variance\n"
     ]
    },
    {
     "data": {
      "text/html": [
       "<div>\n",
       "<style scoped>\n",
       "    .dataframe tbody tr th:only-of-type {\n",
       "        vertical-align: middle;\n",
       "    }\n",
       "\n",
       "    .dataframe tbody tr th {\n",
       "        vertical-align: top;\n",
       "    }\n",
       "\n",
       "    .dataframe thead th {\n",
       "        text-align: right;\n",
       "    }\n",
       "</style>\n",
       "<table border=\"1\" class=\"dataframe\">\n",
       "  <thead>\n",
       "    <tr style=\"text-align: right;\">\n",
       "      <th></th>\n",
       "      <th>data_set</th>\n",
       "      <th>family</th>\n",
       "      <th>image_biomarker</th>\n",
       "      <th>consensus</th>\n",
       "      <th>benchmark_value</th>\n",
       "      <th>tolerance</th>\n",
       "      <th>your_result</th>\n",
       "      <th>difference</th>\n",
       "      <th>check</th>\n",
       "      <th>tag</th>\n",
       "      <th>pyradiomics_tag</th>\n",
       "    </tr>\n",
       "  </thead>\n",
       "  <tbody>\n",
       "  </tbody>\n",
       "</table>\n",
       "</div>"
      ],
      "text/plain": [
       "Empty DataFrame\n",
       "Columns: [data_set, family, image_biomarker, consensus, benchmark_value, tolerance, your_result, difference, check, tag, pyradiomics_tag]\n",
       "Index: []"
      ]
     },
     "metadata": {},
     "output_type": "display_data"
    },
    {
     "name": "stdout",
     "output_type": "stream",
     "text": [
      "Fcm.auto.corr\n",
      "cm_auto_corr\n",
      "158    True\n",
      "183    True\n",
      "Name: tag, dtype: bool\n"
     ]
    },
    {
     "data": {
      "text/plain": [
       "158   NaN\n",
       "183   NaN\n",
       "Name: your_result, dtype: float64"
      ]
     },
     "metadata": {},
     "output_type": "display_data"
    },
    {
     "data": {
      "text/plain": [
       "158    375.277893\n",
       "183    375.277893\n",
       "Name: your_result, dtype: float64"
      ]
     },
     "metadata": {},
     "output_type": "display_data"
    },
    {
     "name": "stdout",
     "output_type": "stream",
     "text": [
      "original_glcm_Autocorrelation\n"
     ]
    },
    {
     "data": {
      "text/html": [
       "<div>\n",
       "<style scoped>\n",
       "    .dataframe tbody tr th:only-of-type {\n",
       "        vertical-align: middle;\n",
       "    }\n",
       "\n",
       "    .dataframe tbody tr th {\n",
       "        vertical-align: top;\n",
       "    }\n",
       "\n",
       "    .dataframe thead th {\n",
       "        text-align: right;\n",
       "    }\n",
       "</style>\n",
       "<table border=\"1\" class=\"dataframe\">\n",
       "  <thead>\n",
       "    <tr style=\"text-align: right;\">\n",
       "      <th></th>\n",
       "      <th>data_set</th>\n",
       "      <th>family</th>\n",
       "      <th>image_biomarker</th>\n",
       "      <th>consensus</th>\n",
       "      <th>benchmark_value</th>\n",
       "      <th>tolerance</th>\n",
       "      <th>your_result</th>\n",
       "      <th>difference</th>\n",
       "      <th>check</th>\n",
       "      <th>tag</th>\n",
       "      <th>pyradiomics_tag</th>\n",
       "    </tr>\n",
       "  </thead>\n",
       "  <tbody>\n",
       "  </tbody>\n",
       "</table>\n",
       "</div>"
      ],
      "text/plain": [
       "Empty DataFrame\n",
       "Columns: [data_set, family, image_biomarker, consensus, benchmark_value, tolerance, your_result, difference, check, tag, pyradiomics_tag]\n",
       "Index: []"
      ]
     },
     "metadata": {},
     "output_type": "display_data"
    },
    {
     "name": "stdout",
     "output_type": "stream",
     "text": [
      "Fcm.clust.prom\n",
      "cm_clust_prom\n",
      "161    True\n",
      "186    True\n",
      "Name: tag, dtype: bool\n"
     ]
    },
    {
     "data": {
      "text/plain": [
       "161   NaN\n",
       "186   NaN\n",
       "Name: your_result, dtype: float64"
      ]
     },
     "metadata": {},
     "output_type": "display_data"
    },
    {
     "data": {
      "text/plain": [
       "161    38468.934775\n",
       "186    38468.934775\n",
       "Name: your_result, dtype: float64"
      ]
     },
     "metadata": {},
     "output_type": "display_data"
    },
    {
     "name": "stdout",
     "output_type": "stream",
     "text": [
      "original_glcm_ClusterProminence\n"
     ]
    },
    {
     "data": {
      "text/html": [
       "<div>\n",
       "<style scoped>\n",
       "    .dataframe tbody tr th:only-of-type {\n",
       "        vertical-align: middle;\n",
       "    }\n",
       "\n",
       "    .dataframe tbody tr th {\n",
       "        vertical-align: top;\n",
       "    }\n",
       "\n",
       "    .dataframe thead th {\n",
       "        text-align: right;\n",
       "    }\n",
       "</style>\n",
       "<table border=\"1\" class=\"dataframe\">\n",
       "  <thead>\n",
       "    <tr style=\"text-align: right;\">\n",
       "      <th></th>\n",
       "      <th>data_set</th>\n",
       "      <th>family</th>\n",
       "      <th>image_biomarker</th>\n",
       "      <th>consensus</th>\n",
       "      <th>benchmark_value</th>\n",
       "      <th>tolerance</th>\n",
       "      <th>your_result</th>\n",
       "      <th>difference</th>\n",
       "      <th>check</th>\n",
       "      <th>tag</th>\n",
       "      <th>pyradiomics_tag</th>\n",
       "    </tr>\n",
       "  </thead>\n",
       "  <tbody>\n",
       "  </tbody>\n",
       "</table>\n",
       "</div>"
      ],
      "text/plain": [
       "Empty DataFrame\n",
       "Columns: [data_set, family, image_biomarker, consensus, benchmark_value, tolerance, your_result, difference, check, tag, pyradiomics_tag]\n",
       "Index: []"
      ]
     },
     "metadata": {},
     "output_type": "display_data"
    },
    {
     "name": "stdout",
     "output_type": "stream",
     "text": [
      "Fcm.clust.shade\n",
      "cm_clust_shade\n",
      "160    True\n",
      "185    True\n",
      "Name: tag, dtype: bool\n"
     ]
    },
    {
     "data": {
      "text/plain": [
       "160   NaN\n",
       "185   NaN\n",
       "Name: your_result, dtype: float64"
      ]
     },
     "metadata": {},
     "output_type": "display_data"
    },
    {
     "data": {
      "text/plain": [
       "160   -1389.189611\n",
       "185   -1389.189611\n",
       "Name: your_result, dtype: float64"
      ]
     },
     "metadata": {},
     "output_type": "display_data"
    },
    {
     "name": "stdout",
     "output_type": "stream",
     "text": [
      "original_glcm_ClusterShade\n"
     ]
    },
    {
     "data": {
      "text/html": [
       "<div>\n",
       "<style scoped>\n",
       "    .dataframe tbody tr th:only-of-type {\n",
       "        vertical-align: middle;\n",
       "    }\n",
       "\n",
       "    .dataframe tbody tr th {\n",
       "        vertical-align: top;\n",
       "    }\n",
       "\n",
       "    .dataframe thead th {\n",
       "        text-align: right;\n",
       "    }\n",
       "</style>\n",
       "<table border=\"1\" class=\"dataframe\">\n",
       "  <thead>\n",
       "    <tr style=\"text-align: right;\">\n",
       "      <th></th>\n",
       "      <th>data_set</th>\n",
       "      <th>family</th>\n",
       "      <th>image_biomarker</th>\n",
       "      <th>consensus</th>\n",
       "      <th>benchmark_value</th>\n",
       "      <th>tolerance</th>\n",
       "      <th>your_result</th>\n",
       "      <th>difference</th>\n",
       "      <th>check</th>\n",
       "      <th>tag</th>\n",
       "      <th>pyradiomics_tag</th>\n",
       "    </tr>\n",
       "  </thead>\n",
       "  <tbody>\n",
       "  </tbody>\n",
       "</table>\n",
       "</div>"
      ],
      "text/plain": [
       "Empty DataFrame\n",
       "Columns: [data_set, family, image_biomarker, consensus, benchmark_value, tolerance, your_result, difference, check, tag, pyradiomics_tag]\n",
       "Index: []"
      ]
     },
     "metadata": {},
     "output_type": "display_data"
    },
    {
     "name": "stdout",
     "output_type": "stream",
     "text": [
      "Fcm.clust.tend\n",
      "cm_clust_tend\n",
      "159    True\n",
      "184    True\n",
      "Name: tag, dtype: bool\n"
     ]
    },
    {
     "data": {
      "text/plain": [
       "159   NaN\n",
       "184   NaN\n",
       "Name: your_result, dtype: float64"
      ]
     },
     "metadata": {},
     "output_type": "display_data"
    },
    {
     "data": {
      "text/plain": [
       "159    68.986415\n",
       "184    68.986415\n",
       "Name: your_result, dtype: float64"
      ]
     },
     "metadata": {},
     "output_type": "display_data"
    },
    {
     "name": "stdout",
     "output_type": "stream",
     "text": [
      "original_glcm_ClusterTendency\n"
     ]
    },
    {
     "data": {
      "text/html": [
       "<div>\n",
       "<style scoped>\n",
       "    .dataframe tbody tr th:only-of-type {\n",
       "        vertical-align: middle;\n",
       "    }\n",
       "\n",
       "    .dataframe tbody tr th {\n",
       "        vertical-align: top;\n",
       "    }\n",
       "\n",
       "    .dataframe thead th {\n",
       "        text-align: right;\n",
       "    }\n",
       "</style>\n",
       "<table border=\"1\" class=\"dataframe\">\n",
       "  <thead>\n",
       "    <tr style=\"text-align: right;\">\n",
       "      <th></th>\n",
       "      <th>data_set</th>\n",
       "      <th>family</th>\n",
       "      <th>image_biomarker</th>\n",
       "      <th>consensus</th>\n",
       "      <th>benchmark_value</th>\n",
       "      <th>tolerance</th>\n",
       "      <th>your_result</th>\n",
       "      <th>difference</th>\n",
       "      <th>check</th>\n",
       "      <th>tag</th>\n",
       "      <th>pyradiomics_tag</th>\n",
       "    </tr>\n",
       "  </thead>\n",
       "  <tbody>\n",
       "  </tbody>\n",
       "</table>\n",
       "</div>"
      ],
      "text/plain": [
       "Empty DataFrame\n",
       "Columns: [data_set, family, image_biomarker, consensus, benchmark_value, tolerance, your_result, difference, check, tag, pyradiomics_tag]\n",
       "Index: []"
      ]
     },
     "metadata": {},
     "output_type": "display_data"
    },
    {
     "name": "stdout",
     "output_type": "stream",
     "text": [
      "Fcm.contrast\n",
      "cm_contrast\n",
      "150    True\n",
      "175    True\n",
      "Name: tag, dtype: bool\n"
     ]
    },
    {
     "data": {
      "text/plain": [
       "150   NaN\n",
       "175   NaN\n",
       "Name: your_result, dtype: float64"
      ]
     },
     "metadata": {},
     "output_type": "display_data"
    },
    {
     "data": {
      "text/plain": [
       "150    5.120353\n",
       "175    5.120353\n",
       "Name: your_result, dtype: float64"
      ]
     },
     "metadata": {},
     "output_type": "display_data"
    },
    {
     "name": "stdout",
     "output_type": "stream",
     "text": [
      "original_glcm_Contrast\n"
     ]
    },
    {
     "data": {
      "text/html": [
       "<div>\n",
       "<style scoped>\n",
       "    .dataframe tbody tr th:only-of-type {\n",
       "        vertical-align: middle;\n",
       "    }\n",
       "\n",
       "    .dataframe tbody tr th {\n",
       "        vertical-align: top;\n",
       "    }\n",
       "\n",
       "    .dataframe thead th {\n",
       "        text-align: right;\n",
       "    }\n",
       "</style>\n",
       "<table border=\"1\" class=\"dataframe\">\n",
       "  <thead>\n",
       "    <tr style=\"text-align: right;\">\n",
       "      <th></th>\n",
       "      <th>data_set</th>\n",
       "      <th>family</th>\n",
       "      <th>image_biomarker</th>\n",
       "      <th>consensus</th>\n",
       "      <th>benchmark_value</th>\n",
       "      <th>tolerance</th>\n",
       "      <th>your_result</th>\n",
       "      <th>difference</th>\n",
       "      <th>check</th>\n",
       "      <th>tag</th>\n",
       "      <th>pyradiomics_tag</th>\n",
       "    </tr>\n",
       "  </thead>\n",
       "  <tbody>\n",
       "  </tbody>\n",
       "</table>\n",
       "</div>"
      ],
      "text/plain": [
       "Empty DataFrame\n",
       "Columns: [data_set, family, image_biomarker, consensus, benchmark_value, tolerance, your_result, difference, check, tag, pyradiomics_tag]\n",
       "Index: []"
      ]
     },
     "metadata": {},
     "output_type": "display_data"
    },
    {
     "name": "stdout",
     "output_type": "stream",
     "text": [
      "Fcm.corr\n",
      "cm_corr\n",
      "157    True\n",
      "182    True\n",
      "Name: tag, dtype: bool\n"
     ]
    },
    {
     "data": {
      "text/plain": [
       "157   NaN\n",
       "182   NaN\n",
       "Name: your_result, dtype: float64"
      ]
     },
     "metadata": {},
     "output_type": "display_data"
    },
    {
     "data": {
      "text/plain": [
       "157    0.860953\n",
       "182    0.860953\n",
       "Name: your_result, dtype: float64"
      ]
     },
     "metadata": {},
     "output_type": "display_data"
    },
    {
     "name": "stdout",
     "output_type": "stream",
     "text": [
      "original_glcm_Correlation\n"
     ]
    },
    {
     "data": {
      "text/html": [
       "<div>\n",
       "<style scoped>\n",
       "    .dataframe tbody tr th:only-of-type {\n",
       "        vertical-align: middle;\n",
       "    }\n",
       "\n",
       "    .dataframe tbody tr th {\n",
       "        vertical-align: top;\n",
       "    }\n",
       "\n",
       "    .dataframe thead th {\n",
       "        text-align: right;\n",
       "    }\n",
       "</style>\n",
       "<table border=\"1\" class=\"dataframe\">\n",
       "  <thead>\n",
       "    <tr style=\"text-align: right;\">\n",
       "      <th></th>\n",
       "      <th>data_set</th>\n",
       "      <th>family</th>\n",
       "      <th>image_biomarker</th>\n",
       "      <th>consensus</th>\n",
       "      <th>benchmark_value</th>\n",
       "      <th>tolerance</th>\n",
       "      <th>your_result</th>\n",
       "      <th>difference</th>\n",
       "      <th>check</th>\n",
       "      <th>tag</th>\n",
       "      <th>pyradiomics_tag</th>\n",
       "    </tr>\n",
       "  </thead>\n",
       "  <tbody>\n",
       "  </tbody>\n",
       "</table>\n",
       "</div>"
      ],
      "text/plain": [
       "Empty DataFrame\n",
       "Columns: [data_set, family, image_biomarker, consensus, benchmark_value, tolerance, your_result, difference, check, tag, pyradiomics_tag]\n",
       "Index: []"
      ]
     },
     "metadata": {},
     "output_type": "display_data"
    },
    {
     "name": "stdout",
     "output_type": "stream",
     "text": [
      "Fcm.diff.avg\n",
      "cm_diff_avg\n",
      "143    True\n",
      "168    True\n",
      "Name: tag, dtype: bool\n"
     ]
    },
    {
     "data": {
      "text/plain": [
       "143   NaN\n",
       "168   NaN\n",
       "Name: your_result, dtype: float64"
      ]
     },
     "metadata": {},
     "output_type": "display_data"
    },
    {
     "data": {
      "text/plain": [
       "143    1.086805\n",
       "168    1.086805\n",
       "Name: your_result, dtype: float64"
      ]
     },
     "metadata": {},
     "output_type": "display_data"
    },
    {
     "name": "stdout",
     "output_type": "stream",
     "text": [
      "original_glcm_DifferenceAverage\n"
     ]
    },
    {
     "data": {
      "text/html": [
       "<div>\n",
       "<style scoped>\n",
       "    .dataframe tbody tr th:only-of-type {\n",
       "        vertical-align: middle;\n",
       "    }\n",
       "\n",
       "    .dataframe tbody tr th {\n",
       "        vertical-align: top;\n",
       "    }\n",
       "\n",
       "    .dataframe thead th {\n",
       "        text-align: right;\n",
       "    }\n",
       "</style>\n",
       "<table border=\"1\" class=\"dataframe\">\n",
       "  <thead>\n",
       "    <tr style=\"text-align: right;\">\n",
       "      <th></th>\n",
       "      <th>data_set</th>\n",
       "      <th>family</th>\n",
       "      <th>image_biomarker</th>\n",
       "      <th>consensus</th>\n",
       "      <th>benchmark_value</th>\n",
       "      <th>tolerance</th>\n",
       "      <th>your_result</th>\n",
       "      <th>difference</th>\n",
       "      <th>check</th>\n",
       "      <th>tag</th>\n",
       "      <th>pyradiomics_tag</th>\n",
       "    </tr>\n",
       "  </thead>\n",
       "  <tbody>\n",
       "  </tbody>\n",
       "</table>\n",
       "</div>"
      ],
      "text/plain": [
       "Empty DataFrame\n",
       "Columns: [data_set, family, image_biomarker, consensus, benchmark_value, tolerance, your_result, difference, check, tag, pyradiomics_tag]\n",
       "Index: []"
      ]
     },
     "metadata": {},
     "output_type": "display_data"
    },
    {
     "name": "stdout",
     "output_type": "stream",
     "text": [
      "Fcm.diff.entr\n",
      "cm_diff_entr\n",
      "145    True\n",
      "170    True\n",
      "Name: tag, dtype: bool\n"
     ]
    },
    {
     "data": {
      "text/plain": [
       "145   NaN\n",
       "170   NaN\n",
       "Name: your_result, dtype: float64"
      ]
     },
     "metadata": {},
     "output_type": "display_data"
    },
    {
     "data": {
      "text/plain": [
       "145    1.984108\n",
       "170    1.984108\n",
       "Name: your_result, dtype: float64"
      ]
     },
     "metadata": {},
     "output_type": "display_data"
    },
    {
     "name": "stdout",
     "output_type": "stream",
     "text": [
      "original_glcm_DifferenceEntropy\n"
     ]
    },
    {
     "data": {
      "text/html": [
       "<div>\n",
       "<style scoped>\n",
       "    .dataframe tbody tr th:only-of-type {\n",
       "        vertical-align: middle;\n",
       "    }\n",
       "\n",
       "    .dataframe tbody tr th {\n",
       "        vertical-align: top;\n",
       "    }\n",
       "\n",
       "    .dataframe thead th {\n",
       "        text-align: right;\n",
       "    }\n",
       "</style>\n",
       "<table border=\"1\" class=\"dataframe\">\n",
       "  <thead>\n",
       "    <tr style=\"text-align: right;\">\n",
       "      <th></th>\n",
       "      <th>data_set</th>\n",
       "      <th>family</th>\n",
       "      <th>image_biomarker</th>\n",
       "      <th>consensus</th>\n",
       "      <th>benchmark_value</th>\n",
       "      <th>tolerance</th>\n",
       "      <th>your_result</th>\n",
       "      <th>difference</th>\n",
       "      <th>check</th>\n",
       "      <th>tag</th>\n",
       "      <th>pyradiomics_tag</th>\n",
       "    </tr>\n",
       "  </thead>\n",
       "  <tbody>\n",
       "  </tbody>\n",
       "</table>\n",
       "</div>"
      ],
      "text/plain": [
       "Empty DataFrame\n",
       "Columns: [data_set, family, image_biomarker, consensus, benchmark_value, tolerance, your_result, difference, check, tag, pyradiomics_tag]\n",
       "Index: []"
      ]
     },
     "metadata": {},
     "output_type": "display_data"
    },
    {
     "name": "stdout",
     "output_type": "stream",
     "text": [
      "Fcm.diff.var\n",
      "cm_diff_var\n",
      "144    True\n",
      "169    True\n",
      "Name: tag, dtype: bool\n"
     ]
    },
    {
     "data": {
      "text/plain": [
       "144   NaN\n",
       "169   NaN\n",
       "Name: your_result, dtype: float64"
      ]
     },
     "metadata": {},
     "output_type": "display_data"
    },
    {
     "data": {
      "text/plain": [
       "144    3.913686\n",
       "169    3.913686\n",
       "Name: your_result, dtype: float64"
      ]
     },
     "metadata": {},
     "output_type": "display_data"
    },
    {
     "name": "stdout",
     "output_type": "stream",
     "text": [
      "original_glcm_DifferenceVariance\n"
     ]
    },
    {
     "data": {
      "text/html": [
       "<div>\n",
       "<style scoped>\n",
       "    .dataframe tbody tr th:only-of-type {\n",
       "        vertical-align: middle;\n",
       "    }\n",
       "\n",
       "    .dataframe tbody tr th {\n",
       "        vertical-align: top;\n",
       "    }\n",
       "\n",
       "    .dataframe thead th {\n",
       "        text-align: right;\n",
       "    }\n",
       "</style>\n",
       "<table border=\"1\" class=\"dataframe\">\n",
       "  <thead>\n",
       "    <tr style=\"text-align: right;\">\n",
       "      <th></th>\n",
       "      <th>data_set</th>\n",
       "      <th>family</th>\n",
       "      <th>image_biomarker</th>\n",
       "      <th>consensus</th>\n",
       "      <th>benchmark_value</th>\n",
       "      <th>tolerance</th>\n",
       "      <th>your_result</th>\n",
       "      <th>difference</th>\n",
       "      <th>check</th>\n",
       "      <th>tag</th>\n",
       "      <th>pyradiomics_tag</th>\n",
       "    </tr>\n",
       "  </thead>\n",
       "  <tbody>\n",
       "  </tbody>\n",
       "</table>\n",
       "</div>"
      ],
      "text/plain": [
       "Empty DataFrame\n",
       "Columns: [data_set, family, image_biomarker, consensus, benchmark_value, tolerance, your_result, difference, check, tag, pyradiomics_tag]\n",
       "Index: []"
      ]
     },
     "metadata": {},
     "output_type": "display_data"
    },
    {
     "name": "stdout",
     "output_type": "stream",
     "text": [
      "Fcm.inv.diff\n",
      "cm_inv_diff\n",
      "152    True\n",
      "153    True\n",
      "154    True\n",
      "155    True\n",
      "177    True\n",
      "178    True\n",
      "179    True\n",
      "180    True\n",
      "Name: tag, dtype: bool\n"
     ]
    },
    {
     "data": {
      "text/plain": [
       "152   NaN\n",
       "153   NaN\n",
       "154   NaN\n",
       "155   NaN\n",
       "177   NaN\n",
       "178   NaN\n",
       "179   NaN\n",
       "180   NaN\n",
       "Name: your_result, dtype: float64"
      ]
     },
     "metadata": {},
     "output_type": "display_data"
    },
    {
     "data": {
      "text/plain": [
       "152    0.713034\n",
       "153    0.713034\n",
       "154    0.713034\n",
       "155    0.713034\n",
       "177    0.713034\n",
       "178    0.713034\n",
       "179    0.713034\n",
       "180    0.713034\n",
       "Name: your_result, dtype: float64"
      ]
     },
     "metadata": {},
     "output_type": "display_data"
    },
    {
     "name": "stdout",
     "output_type": "stream",
     "text": [
      "original_glcm_Id\n"
     ]
    },
    {
     "data": {
      "text/html": [
       "<div>\n",
       "<style scoped>\n",
       "    .dataframe tbody tr th:only-of-type {\n",
       "        vertical-align: middle;\n",
       "    }\n",
       "\n",
       "    .dataframe tbody tr th {\n",
       "        vertical-align: top;\n",
       "    }\n",
       "\n",
       "    .dataframe thead th {\n",
       "        text-align: right;\n",
       "    }\n",
       "</style>\n",
       "<table border=\"1\" class=\"dataframe\">\n",
       "  <thead>\n",
       "    <tr style=\"text-align: right;\">\n",
       "      <th></th>\n",
       "      <th>data_set</th>\n",
       "      <th>family</th>\n",
       "      <th>image_biomarker</th>\n",
       "      <th>consensus</th>\n",
       "      <th>benchmark_value</th>\n",
       "      <th>tolerance</th>\n",
       "      <th>your_result</th>\n",
       "      <th>difference</th>\n",
       "      <th>check</th>\n",
       "      <th>tag</th>\n",
       "      <th>pyradiomics_tag</th>\n",
       "    </tr>\n",
       "  </thead>\n",
       "  <tbody>\n",
       "  </tbody>\n",
       "</table>\n",
       "</div>"
      ],
      "text/plain": [
       "Empty DataFrame\n",
       "Columns: [data_set, family, image_biomarker, consensus, benchmark_value, tolerance, your_result, difference, check, tag, pyradiomics_tag]\n",
       "Index: []"
      ]
     },
     "metadata": {},
     "output_type": "display_data"
    },
    {
     "name": "stdout",
     "output_type": "stream",
     "text": [
      "Fcm.inv.diff.mom\n",
      "cm_inv_diff_mom\n",
      "154    True\n",
      "155    True\n",
      "179    True\n",
      "180    True\n",
      "Name: tag, dtype: bool\n"
     ]
    },
    {
     "data": {
      "text/plain": [
       "154    0.713034\n",
       "155    0.713034\n",
       "179    0.713034\n",
       "180    0.713034\n",
       "Name: your_result, dtype: float64"
      ]
     },
     "metadata": {},
     "output_type": "display_data"
    },
    {
     "data": {
      "text/plain": [
       "154    0.689654\n",
       "155    0.689654\n",
       "179    0.689654\n",
       "180    0.689654\n",
       "Name: your_result, dtype: float64"
      ]
     },
     "metadata": {},
     "output_type": "display_data"
    },
    {
     "name": "stdout",
     "output_type": "stream",
     "text": [
      "original_glcm_Idm\n"
     ]
    },
    {
     "data": {
      "text/html": [
       "<div>\n",
       "<style scoped>\n",
       "    .dataframe tbody tr th:only-of-type {\n",
       "        vertical-align: middle;\n",
       "    }\n",
       "\n",
       "    .dataframe tbody tr th {\n",
       "        vertical-align: top;\n",
       "    }\n",
       "\n",
       "    .dataframe thead th {\n",
       "        text-align: right;\n",
       "    }\n",
       "</style>\n",
       "<table border=\"1\" class=\"dataframe\">\n",
       "  <thead>\n",
       "    <tr style=\"text-align: right;\">\n",
       "      <th></th>\n",
       "      <th>data_set</th>\n",
       "      <th>family</th>\n",
       "      <th>image_biomarker</th>\n",
       "      <th>consensus</th>\n",
       "      <th>benchmark_value</th>\n",
       "      <th>tolerance</th>\n",
       "      <th>your_result</th>\n",
       "      <th>difference</th>\n",
       "      <th>check</th>\n",
       "      <th>tag</th>\n",
       "      <th>pyradiomics_tag</th>\n",
       "    </tr>\n",
       "  </thead>\n",
       "  <tbody>\n",
       "  </tbody>\n",
       "</table>\n",
       "</div>"
      ],
      "text/plain": [
       "Empty DataFrame\n",
       "Columns: [data_set, family, image_biomarker, consensus, benchmark_value, tolerance, your_result, difference, check, tag, pyradiomics_tag]\n",
       "Index: []"
      ]
     },
     "metadata": {},
     "output_type": "display_data"
    },
    {
     "name": "stdout",
     "output_type": "stream",
     "text": [
      "Fcm.inv.diff.mom.norm\n",
      "cm_inv_diff_mom_norm\n",
      "155    True\n",
      "180    True\n",
      "Name: tag, dtype: bool\n"
     ]
    },
    {
     "data": {
      "text/plain": [
       "155    0.689654\n",
       "180    0.689654\n",
       "Name: your_result, dtype: float64"
      ]
     },
     "metadata": {},
     "output_type": "display_data"
    },
    {
     "data": {
      "text/plain": [
       "155    0.995326\n",
       "180    0.995326\n",
       "Name: your_result, dtype: float64"
      ]
     },
     "metadata": {},
     "output_type": "display_data"
    },
    {
     "name": "stdout",
     "output_type": "stream",
     "text": [
      "original_glcm_Idmn\n"
     ]
    },
    {
     "data": {
      "text/html": [
       "<div>\n",
       "<style scoped>\n",
       "    .dataframe tbody tr th:only-of-type {\n",
       "        vertical-align: middle;\n",
       "    }\n",
       "\n",
       "    .dataframe tbody tr th {\n",
       "        vertical-align: top;\n",
       "    }\n",
       "\n",
       "    .dataframe thead th {\n",
       "        text-align: right;\n",
       "    }\n",
       "</style>\n",
       "<table border=\"1\" class=\"dataframe\">\n",
       "  <thead>\n",
       "    <tr style=\"text-align: right;\">\n",
       "      <th></th>\n",
       "      <th>data_set</th>\n",
       "      <th>family</th>\n",
       "      <th>image_biomarker</th>\n",
       "      <th>consensus</th>\n",
       "      <th>benchmark_value</th>\n",
       "      <th>tolerance</th>\n",
       "      <th>your_result</th>\n",
       "      <th>difference</th>\n",
       "      <th>check</th>\n",
       "      <th>tag</th>\n",
       "      <th>pyradiomics_tag</th>\n",
       "    </tr>\n",
       "  </thead>\n",
       "  <tbody>\n",
       "  </tbody>\n",
       "</table>\n",
       "</div>"
      ],
      "text/plain": [
       "Empty DataFrame\n",
       "Columns: [data_set, family, image_biomarker, consensus, benchmark_value, tolerance, your_result, difference, check, tag, pyradiomics_tag]\n",
       "Index: []"
      ]
     },
     "metadata": {},
     "output_type": "display_data"
    },
    {
     "name": "stdout",
     "output_type": "stream",
     "text": [
      "Fcm.inv.diff.norm\n",
      "cm_inv_diff_norm\n",
      "153    True\n",
      "178    True\n",
      "Name: tag, dtype: bool\n"
     ]
    },
    {
     "data": {
      "text/plain": [
       "153    0.713034\n",
       "178    0.713034\n",
       "Name: your_result, dtype: float64"
      ]
     },
     "metadata": {},
     "output_type": "display_data"
    },
    {
     "data": {
      "text/plain": [
       "153    0.970113\n",
       "178    0.970113\n",
       "Name: your_result, dtype: float64"
      ]
     },
     "metadata": {},
     "output_type": "display_data"
    },
    {
     "name": "stdout",
     "output_type": "stream",
     "text": [
      "original_glcm_Idn\n"
     ]
    },
    {
     "data": {
      "text/html": [
       "<div>\n",
       "<style scoped>\n",
       "    .dataframe tbody tr th:only-of-type {\n",
       "        vertical-align: middle;\n",
       "    }\n",
       "\n",
       "    .dataframe tbody tr th {\n",
       "        vertical-align: top;\n",
       "    }\n",
       "\n",
       "    .dataframe thead th {\n",
       "        text-align: right;\n",
       "    }\n",
       "</style>\n",
       "<table border=\"1\" class=\"dataframe\">\n",
       "  <thead>\n",
       "    <tr style=\"text-align: right;\">\n",
       "      <th></th>\n",
       "      <th>data_set</th>\n",
       "      <th>family</th>\n",
       "      <th>image_biomarker</th>\n",
       "      <th>consensus</th>\n",
       "      <th>benchmark_value</th>\n",
       "      <th>tolerance</th>\n",
       "      <th>your_result</th>\n",
       "      <th>difference</th>\n",
       "      <th>check</th>\n",
       "      <th>tag</th>\n",
       "      <th>pyradiomics_tag</th>\n",
       "    </tr>\n",
       "  </thead>\n",
       "  <tbody>\n",
       "  </tbody>\n",
       "</table>\n",
       "</div>"
      ],
      "text/plain": [
       "Empty DataFrame\n",
       "Columns: [data_set, family, image_biomarker, consensus, benchmark_value, tolerance, your_result, difference, check, tag, pyradiomics_tag]\n",
       "Index: []"
      ]
     },
     "metadata": {},
     "output_type": "display_data"
    },
    {
     "name": "stdout",
     "output_type": "stream",
     "text": [
      "Fcm.info.corr.1\n",
      "cm_info_corr_1\n",
      "Series([], Name: tag, dtype: bool)\n"
     ]
    },
    {
     "data": {
      "text/plain": [
       "Series([], Name: your_result, dtype: float64)"
      ]
     },
     "metadata": {},
     "output_type": "display_data"
    },
    {
     "data": {
      "text/plain": [
       "Series([], Name: your_result, dtype: float64)"
      ]
     },
     "metadata": {},
     "output_type": "display_data"
    },
    {
     "name": "stdout",
     "output_type": "stream",
     "text": [
      "original_glcm_Imc1\n"
     ]
    },
    {
     "data": {
      "text/html": [
       "<div>\n",
       "<style scoped>\n",
       "    .dataframe tbody tr th:only-of-type {\n",
       "        vertical-align: middle;\n",
       "    }\n",
       "\n",
       "    .dataframe tbody tr th {\n",
       "        vertical-align: top;\n",
       "    }\n",
       "\n",
       "    .dataframe thead th {\n",
       "        text-align: right;\n",
       "    }\n",
       "</style>\n",
       "<table border=\"1\" class=\"dataframe\">\n",
       "  <thead>\n",
       "    <tr style=\"text-align: right;\">\n",
       "      <th></th>\n",
       "      <th>data_set</th>\n",
       "      <th>family</th>\n",
       "      <th>image_biomarker</th>\n",
       "      <th>consensus</th>\n",
       "      <th>benchmark_value</th>\n",
       "      <th>tolerance</th>\n",
       "      <th>your_result</th>\n",
       "      <th>difference</th>\n",
       "      <th>check</th>\n",
       "      <th>tag</th>\n",
       "      <th>pyradiomics_tag</th>\n",
       "    </tr>\n",
       "  </thead>\n",
       "  <tbody>\n",
       "  </tbody>\n",
       "</table>\n",
       "</div>"
      ],
      "text/plain": [
       "Empty DataFrame\n",
       "Columns: [data_set, family, image_biomarker, consensus, benchmark_value, tolerance, your_result, difference, check, tag, pyradiomics_tag]\n",
       "Index: []"
      ]
     },
     "metadata": {},
     "output_type": "display_data"
    },
    {
     "name": "stdout",
     "output_type": "stream",
     "text": [
      "Fcm.info.corr.2\n",
      "cm_info_corr_2\n",
      "Series([], Name: tag, dtype: bool)\n"
     ]
    },
    {
     "data": {
      "text/plain": [
       "Series([], Name: your_result, dtype: float64)"
      ]
     },
     "metadata": {},
     "output_type": "display_data"
    },
    {
     "data": {
      "text/plain": [
       "Series([], Name: your_result, dtype: float64)"
      ]
     },
     "metadata": {},
     "output_type": "display_data"
    },
    {
     "name": "stdout",
     "output_type": "stream",
     "text": [
      "original_glcm_Imc2\n"
     ]
    },
    {
     "data": {
      "text/html": [
       "<div>\n",
       "<style scoped>\n",
       "    .dataframe tbody tr th:only-of-type {\n",
       "        vertical-align: middle;\n",
       "    }\n",
       "\n",
       "    .dataframe tbody tr th {\n",
       "        vertical-align: top;\n",
       "    }\n",
       "\n",
       "    .dataframe thead th {\n",
       "        text-align: right;\n",
       "    }\n",
       "</style>\n",
       "<table border=\"1\" class=\"dataframe\">\n",
       "  <thead>\n",
       "    <tr style=\"text-align: right;\">\n",
       "      <th></th>\n",
       "      <th>data_set</th>\n",
       "      <th>family</th>\n",
       "      <th>image_biomarker</th>\n",
       "      <th>consensus</th>\n",
       "      <th>benchmark_value</th>\n",
       "      <th>tolerance</th>\n",
       "      <th>your_result</th>\n",
       "      <th>difference</th>\n",
       "      <th>check</th>\n",
       "      <th>tag</th>\n",
       "      <th>pyradiomics_tag</th>\n",
       "    </tr>\n",
       "  </thead>\n",
       "  <tbody>\n",
       "  </tbody>\n",
       "</table>\n",
       "</div>"
      ],
      "text/plain": [
       "Empty DataFrame\n",
       "Columns: [data_set, family, image_biomarker, consensus, benchmark_value, tolerance, your_result, difference, check, tag, pyradiomics_tag]\n",
       "Index: []"
      ]
     },
     "metadata": {},
     "output_type": "display_data"
    },
    {
     "name": "stdout",
     "output_type": "stream",
     "text": [
      "Fcm.inv.var\n",
      "cm_inv_var\n",
      "156    True\n",
      "181    True\n",
      "Name: tag, dtype: bool\n"
     ]
    },
    {
     "data": {
      "text/plain": [
       "156   NaN\n",
       "181   NaN\n",
       "Name: your_result, dtype: float64"
      ]
     },
     "metadata": {},
     "output_type": "display_data"
    },
    {
     "data": {
      "text/plain": [
       "156    0.312536\n",
       "181    0.312536\n",
       "Name: your_result, dtype: float64"
      ]
     },
     "metadata": {},
     "output_type": "display_data"
    },
    {
     "name": "stdout",
     "output_type": "stream",
     "text": [
      "original_glcm_InverseVariance\n"
     ]
    },
    {
     "data": {
      "text/html": [
       "<div>\n",
       "<style scoped>\n",
       "    .dataframe tbody tr th:only-of-type {\n",
       "        vertical-align: middle;\n",
       "    }\n",
       "\n",
       "    .dataframe tbody tr th {\n",
       "        vertical-align: top;\n",
       "    }\n",
       "\n",
       "    .dataframe thead th {\n",
       "        text-align: right;\n",
       "    }\n",
       "</style>\n",
       "<table border=\"1\" class=\"dataframe\">\n",
       "  <thead>\n",
       "    <tr style=\"text-align: right;\">\n",
       "      <th></th>\n",
       "      <th>data_set</th>\n",
       "      <th>family</th>\n",
       "      <th>image_biomarker</th>\n",
       "      <th>consensus</th>\n",
       "      <th>benchmark_value</th>\n",
       "      <th>tolerance</th>\n",
       "      <th>your_result</th>\n",
       "      <th>difference</th>\n",
       "      <th>check</th>\n",
       "      <th>tag</th>\n",
       "      <th>pyradiomics_tag</th>\n",
       "    </tr>\n",
       "  </thead>\n",
       "  <tbody>\n",
       "  </tbody>\n",
       "</table>\n",
       "</div>"
      ],
      "text/plain": [
       "Empty DataFrame\n",
       "Columns: [data_set, family, image_biomarker, consensus, benchmark_value, tolerance, your_result, difference, check, tag, pyradiomics_tag]\n",
       "Index: []"
      ]
     },
     "metadata": {},
     "output_type": "display_data"
    },
    {
     "name": "stdout",
     "output_type": "stream",
     "text": [
      "Fcm.joint.avg\n",
      "cm_joint_avg\n",
      "140    True\n",
      "165    True\n",
      "Name: tag, dtype: bool\n"
     ]
    },
    {
     "data": {
      "text/plain": [
       "140   NaN\n",
       "165   NaN\n",
       "Name: your_result, dtype: float64"
      ]
     },
     "metadata": {},
     "output_type": "display_data"
    },
    {
     "data": {
      "text/plain": [
       "140    18.955448\n",
       "165    18.955448\n",
       "Name: your_result, dtype: float64"
      ]
     },
     "metadata": {},
     "output_type": "display_data"
    },
    {
     "name": "stdout",
     "output_type": "stream",
     "text": [
      "original_glcm_JointAverage\n"
     ]
    },
    {
     "data": {
      "text/html": [
       "<div>\n",
       "<style scoped>\n",
       "    .dataframe tbody tr th:only-of-type {\n",
       "        vertical-align: middle;\n",
       "    }\n",
       "\n",
       "    .dataframe tbody tr th {\n",
       "        vertical-align: top;\n",
       "    }\n",
       "\n",
       "    .dataframe thead th {\n",
       "        text-align: right;\n",
       "    }\n",
       "</style>\n",
       "<table border=\"1\" class=\"dataframe\">\n",
       "  <thead>\n",
       "    <tr style=\"text-align: right;\">\n",
       "      <th></th>\n",
       "      <th>data_set</th>\n",
       "      <th>family</th>\n",
       "      <th>image_biomarker</th>\n",
       "      <th>consensus</th>\n",
       "      <th>benchmark_value</th>\n",
       "      <th>tolerance</th>\n",
       "      <th>your_result</th>\n",
       "      <th>difference</th>\n",
       "      <th>check</th>\n",
       "      <th>tag</th>\n",
       "      <th>pyradiomics_tag</th>\n",
       "    </tr>\n",
       "  </thead>\n",
       "  <tbody>\n",
       "  </tbody>\n",
       "</table>\n",
       "</div>"
      ],
      "text/plain": [
       "Empty DataFrame\n",
       "Columns: [data_set, family, image_biomarker, consensus, benchmark_value, tolerance, your_result, difference, check, tag, pyradiomics_tag]\n",
       "Index: []"
      ]
     },
     "metadata": {},
     "output_type": "display_data"
    },
    {
     "name": "stdout",
     "output_type": "stream",
     "text": [
      "Fcm.energy\n",
      "cm_energy\n",
      "149    True\n",
      "174    True\n",
      "Name: tag, dtype: bool\n"
     ]
    },
    {
     "data": {
      "text/plain": [
       "149   NaN\n",
       "174   NaN\n",
       "Name: your_result, dtype: float64"
      ]
     },
     "metadata": {},
     "output_type": "display_data"
    },
    {
     "data": {
      "text/plain": [
       "149    0.134909\n",
       "174    0.134909\n",
       "Name: your_result, dtype: float64"
      ]
     },
     "metadata": {},
     "output_type": "display_data"
    },
    {
     "name": "stdout",
     "output_type": "stream",
     "text": [
      "original_glcm_JointEnergy\n"
     ]
    },
    {
     "data": {
      "text/html": [
       "<div>\n",
       "<style scoped>\n",
       "    .dataframe tbody tr th:only-of-type {\n",
       "        vertical-align: middle;\n",
       "    }\n",
       "\n",
       "    .dataframe tbody tr th {\n",
       "        vertical-align: top;\n",
       "    }\n",
       "\n",
       "    .dataframe thead th {\n",
       "        text-align: right;\n",
       "    }\n",
       "</style>\n",
       "<table border=\"1\" class=\"dataframe\">\n",
       "  <thead>\n",
       "    <tr style=\"text-align: right;\">\n",
       "      <th></th>\n",
       "      <th>data_set</th>\n",
       "      <th>family</th>\n",
       "      <th>image_biomarker</th>\n",
       "      <th>consensus</th>\n",
       "      <th>benchmark_value</th>\n",
       "      <th>tolerance</th>\n",
       "      <th>your_result</th>\n",
       "      <th>difference</th>\n",
       "      <th>check</th>\n",
       "      <th>tag</th>\n",
       "      <th>pyradiomics_tag</th>\n",
       "    </tr>\n",
       "  </thead>\n",
       "  <tbody>\n",
       "  </tbody>\n",
       "</table>\n",
       "</div>"
      ],
      "text/plain": [
       "Empty DataFrame\n",
       "Columns: [data_set, family, image_biomarker, consensus, benchmark_value, tolerance, your_result, difference, check, tag, pyradiomics_tag]\n",
       "Index: []"
      ]
     },
     "metadata": {},
     "output_type": "display_data"
    },
    {
     "name": "stdout",
     "output_type": "stream",
     "text": [
      "Fcm.joint.entr\n",
      "cm_joint_entr\n",
      "142    True\n",
      "167    True\n",
      "Name: tag, dtype: bool\n"
     ]
    },
    {
     "data": {
      "text/plain": [
       "142   NaN\n",
       "167   NaN\n",
       "Name: your_result, dtype: float64"
      ]
     },
     "metadata": {},
     "output_type": "display_data"
    },
    {
     "data": {
      "text/plain": [
       "142    4.650684\n",
       "167    4.650684\n",
       "Name: your_result, dtype: float64"
      ]
     },
     "metadata": {},
     "output_type": "display_data"
    },
    {
     "name": "stdout",
     "output_type": "stream",
     "text": [
      "original_glcm_JointEntropy\n"
     ]
    },
    {
     "data": {
      "text/html": [
       "<div>\n",
       "<style scoped>\n",
       "    .dataframe tbody tr th:only-of-type {\n",
       "        vertical-align: middle;\n",
       "    }\n",
       "\n",
       "    .dataframe tbody tr th {\n",
       "        vertical-align: top;\n",
       "    }\n",
       "\n",
       "    .dataframe thead th {\n",
       "        text-align: right;\n",
       "    }\n",
       "</style>\n",
       "<table border=\"1\" class=\"dataframe\">\n",
       "  <thead>\n",
       "    <tr style=\"text-align: right;\">\n",
       "      <th></th>\n",
       "      <th>data_set</th>\n",
       "      <th>family</th>\n",
       "      <th>image_biomarker</th>\n",
       "      <th>consensus</th>\n",
       "      <th>benchmark_value</th>\n",
       "      <th>tolerance</th>\n",
       "      <th>your_result</th>\n",
       "      <th>difference</th>\n",
       "      <th>check</th>\n",
       "      <th>tag</th>\n",
       "      <th>pyradiomics_tag</th>\n",
       "    </tr>\n",
       "  </thead>\n",
       "  <tbody>\n",
       "  </tbody>\n",
       "</table>\n",
       "</div>"
      ],
      "text/plain": [
       "Empty DataFrame\n",
       "Columns: [data_set, family, image_biomarker, consensus, benchmark_value, tolerance, your_result, difference, check, tag, pyradiomics_tag]\n",
       "Index: []"
      ]
     },
     "metadata": {},
     "output_type": "display_data"
    },
    {
     "name": "stdout",
     "output_type": "stream",
     "text": [
      "Fcm.joint.max\n",
      "cm_joint_max\n",
      "139    True\n",
      "164    True\n",
      "Name: tag, dtype: bool\n"
     ]
    },
    {
     "data": {
      "text/plain": [
       "139   NaN\n",
       "164   NaN\n",
       "Name: your_result, dtype: float64"
      ]
     },
     "metadata": {},
     "output_type": "display_data"
    },
    {
     "data": {
      "text/plain": [
       "139    0.287955\n",
       "164    0.287955\n",
       "Name: your_result, dtype: float64"
      ]
     },
     "metadata": {},
     "output_type": "display_data"
    },
    {
     "name": "stdout",
     "output_type": "stream",
     "text": [
      "original_glcm_MaximumProbability\n"
     ]
    },
    {
     "data": {
      "text/html": [
       "<div>\n",
       "<style scoped>\n",
       "    .dataframe tbody tr th:only-of-type {\n",
       "        vertical-align: middle;\n",
       "    }\n",
       "\n",
       "    .dataframe tbody tr th {\n",
       "        vertical-align: top;\n",
       "    }\n",
       "\n",
       "    .dataframe thead th {\n",
       "        text-align: right;\n",
       "    }\n",
       "</style>\n",
       "<table border=\"1\" class=\"dataframe\">\n",
       "  <thead>\n",
       "    <tr style=\"text-align: right;\">\n",
       "      <th></th>\n",
       "      <th>data_set</th>\n",
       "      <th>family</th>\n",
       "      <th>image_biomarker</th>\n",
       "      <th>consensus</th>\n",
       "      <th>benchmark_value</th>\n",
       "      <th>tolerance</th>\n",
       "      <th>your_result</th>\n",
       "      <th>difference</th>\n",
       "      <th>check</th>\n",
       "      <th>tag</th>\n",
       "      <th>pyradiomics_tag</th>\n",
       "    </tr>\n",
       "  </thead>\n",
       "  <tbody>\n",
       "  </tbody>\n",
       "</table>\n",
       "</div>"
      ],
      "text/plain": [
       "Empty DataFrame\n",
       "Columns: [data_set, family, image_biomarker, consensus, benchmark_value, tolerance, your_result, difference, check, tag, pyradiomics_tag]\n",
       "Index: []"
      ]
     },
     "metadata": {},
     "output_type": "display_data"
    },
    {
     "name": "stdout",
     "output_type": "stream",
     "text": [
      "Fcm.sum.avg\n",
      "cm_sum_avg\n",
      "146    True\n",
      "171    True\n",
      "Name: tag, dtype: bool\n"
     ]
    },
    {
     "data": {
      "text/plain": [
       "146   NaN\n",
       "171   NaN\n",
       "Name: your_result, dtype: float64"
      ]
     },
     "metadata": {},
     "output_type": "display_data"
    },
    {
     "data": {
      "text/plain": [
       "146    37.910895\n",
       "171    37.910895\n",
       "Name: your_result, dtype: float64"
      ]
     },
     "metadata": {},
     "output_type": "display_data"
    },
    {
     "name": "stdout",
     "output_type": "stream",
     "text": [
      "original_glcm_SumAverage\n"
     ]
    },
    {
     "data": {
      "text/html": [
       "<div>\n",
       "<style scoped>\n",
       "    .dataframe tbody tr th:only-of-type {\n",
       "        vertical-align: middle;\n",
       "    }\n",
       "\n",
       "    .dataframe tbody tr th {\n",
       "        vertical-align: top;\n",
       "    }\n",
       "\n",
       "    .dataframe thead th {\n",
       "        text-align: right;\n",
       "    }\n",
       "</style>\n",
       "<table border=\"1\" class=\"dataframe\">\n",
       "  <thead>\n",
       "    <tr style=\"text-align: right;\">\n",
       "      <th></th>\n",
       "      <th>data_set</th>\n",
       "      <th>family</th>\n",
       "      <th>image_biomarker</th>\n",
       "      <th>consensus</th>\n",
       "      <th>benchmark_value</th>\n",
       "      <th>tolerance</th>\n",
       "      <th>your_result</th>\n",
       "      <th>difference</th>\n",
       "      <th>check</th>\n",
       "      <th>tag</th>\n",
       "      <th>pyradiomics_tag</th>\n",
       "    </tr>\n",
       "  </thead>\n",
       "  <tbody>\n",
       "  </tbody>\n",
       "</table>\n",
       "</div>"
      ],
      "text/plain": [
       "Empty DataFrame\n",
       "Columns: [data_set, family, image_biomarker, consensus, benchmark_value, tolerance, your_result, difference, check, tag, pyradiomics_tag]\n",
       "Index: []"
      ]
     },
     "metadata": {},
     "output_type": "display_data"
    },
    {
     "name": "stdout",
     "output_type": "stream",
     "text": [
      "Fcm.sum.entr\n",
      "cm_sum_entr\n",
      "148    True\n",
      "173    True\n",
      "Name: tag, dtype: bool\n"
     ]
    },
    {
     "data": {
      "text/plain": [
       "148   NaN\n",
       "173   NaN\n",
       "Name: your_result, dtype: float64"
      ]
     },
     "metadata": {},
     "output_type": "display_data"
    },
    {
     "data": {
      "text/plain": [
       "148    3.535113\n",
       "173    3.535113\n",
       "Name: your_result, dtype: float64"
      ]
     },
     "metadata": {},
     "output_type": "display_data"
    },
    {
     "name": "stdout",
     "output_type": "stream",
     "text": [
      "original_glcm_SumEntropy\n"
     ]
    },
    {
     "data": {
      "text/html": [
       "<div>\n",
       "<style scoped>\n",
       "    .dataframe tbody tr th:only-of-type {\n",
       "        vertical-align: middle;\n",
       "    }\n",
       "\n",
       "    .dataframe tbody tr th {\n",
       "        vertical-align: top;\n",
       "    }\n",
       "\n",
       "    .dataframe thead th {\n",
       "        text-align: right;\n",
       "    }\n",
       "</style>\n",
       "<table border=\"1\" class=\"dataframe\">\n",
       "  <thead>\n",
       "    <tr style=\"text-align: right;\">\n",
       "      <th></th>\n",
       "      <th>data_set</th>\n",
       "      <th>family</th>\n",
       "      <th>image_biomarker</th>\n",
       "      <th>consensus</th>\n",
       "      <th>benchmark_value</th>\n",
       "      <th>tolerance</th>\n",
       "      <th>your_result</th>\n",
       "      <th>difference</th>\n",
       "      <th>check</th>\n",
       "      <th>tag</th>\n",
       "      <th>pyradiomics_tag</th>\n",
       "    </tr>\n",
       "  </thead>\n",
       "  <tbody>\n",
       "  </tbody>\n",
       "</table>\n",
       "</div>"
      ],
      "text/plain": [
       "Empty DataFrame\n",
       "Columns: [data_set, family, image_biomarker, consensus, benchmark_value, tolerance, your_result, difference, check, tag, pyradiomics_tag]\n",
       "Index: []"
      ]
     },
     "metadata": {},
     "output_type": "display_data"
    },
    {
     "name": "stdout",
     "output_type": "stream",
     "text": [
      "Fcm.sum.var\n",
      "cm_sum_var\n",
      "147    True\n",
      "172    True\n",
      "Name: tag, dtype: bool\n"
     ]
    },
    {
     "data": {
      "text/plain": [
       "147   NaN\n",
       "172   NaN\n",
       "Name: your_result, dtype: float64"
      ]
     },
     "metadata": {},
     "output_type": "display_data"
    },
    {
     "data": {
      "text/plain": [
       "147    18.526692\n",
       "172    18.526692\n",
       "Name: your_result, dtype: float64"
      ]
     },
     "metadata": {},
     "output_type": "display_data"
    },
    {
     "name": "stdout",
     "output_type": "stream",
     "text": [
      "original_glcm_SumSquares\n"
     ]
    },
    {
     "data": {
      "text/html": [
       "<div>\n",
       "<style scoped>\n",
       "    .dataframe tbody tr th:only-of-type {\n",
       "        vertical-align: middle;\n",
       "    }\n",
       "\n",
       "    .dataframe tbody tr th {\n",
       "        vertical-align: top;\n",
       "    }\n",
       "\n",
       "    .dataframe thead th {\n",
       "        text-align: right;\n",
       "    }\n",
       "</style>\n",
       "<table border=\"1\" class=\"dataframe\">\n",
       "  <thead>\n",
       "    <tr style=\"text-align: right;\">\n",
       "      <th></th>\n",
       "      <th>data_set</th>\n",
       "      <th>family</th>\n",
       "      <th>image_biomarker</th>\n",
       "      <th>consensus</th>\n",
       "      <th>benchmark_value</th>\n",
       "      <th>tolerance</th>\n",
       "      <th>your_result</th>\n",
       "      <th>difference</th>\n",
       "      <th>check</th>\n",
       "      <th>tag</th>\n",
       "      <th>pyradiomics_tag</th>\n",
       "    </tr>\n",
       "  </thead>\n",
       "  <tbody>\n",
       "  </tbody>\n",
       "</table>\n",
       "</div>"
      ],
      "text/plain": [
       "Empty DataFrame\n",
       "Columns: [data_set, family, image_biomarker, consensus, benchmark_value, tolerance, your_result, difference, check, tag, pyradiomics_tag]\n",
       "Index: []"
      ]
     },
     "metadata": {},
     "output_type": "display_data"
    },
    {
     "name": "stdout",
     "output_type": "stream",
     "text": [
      "Frlm.glnu\n",
      "rlm_glnu\n",
      "197    True\n",
      "198    True\n",
      "213    True\n",
      "214    True\n",
      "Name: tag, dtype: bool\n"
     ]
    },
    {
     "data": {
      "text/plain": [
       "197   NaN\n",
       "198   NaN\n",
       "213   NaN\n",
       "214   NaN\n",
       "Name: your_result, dtype: float64"
      ]
     },
     "metadata": {},
     "output_type": "display_data"
    },
    {
     "data": {
      "text/plain": [
       "197    3189.830009\n",
       "198    3189.830009\n",
       "213    3189.830009\n",
       "214    3189.830009\n",
       "Name: your_result, dtype: float64"
      ]
     },
     "metadata": {},
     "output_type": "display_data"
    },
    {
     "name": "stdout",
     "output_type": "stream",
     "text": [
      "original_glrlm_GrayLevelNonUniformity\n"
     ]
    },
    {
     "data": {
      "text/html": [
       "<div>\n",
       "<style scoped>\n",
       "    .dataframe tbody tr th:only-of-type {\n",
       "        vertical-align: middle;\n",
       "    }\n",
       "\n",
       "    .dataframe tbody tr th {\n",
       "        vertical-align: top;\n",
       "    }\n",
       "\n",
       "    .dataframe thead th {\n",
       "        text-align: right;\n",
       "    }\n",
       "</style>\n",
       "<table border=\"1\" class=\"dataframe\">\n",
       "  <thead>\n",
       "    <tr style=\"text-align: right;\">\n",
       "      <th></th>\n",
       "      <th>data_set</th>\n",
       "      <th>family</th>\n",
       "      <th>image_biomarker</th>\n",
       "      <th>consensus</th>\n",
       "      <th>benchmark_value</th>\n",
       "      <th>tolerance</th>\n",
       "      <th>your_result</th>\n",
       "      <th>difference</th>\n",
       "      <th>check</th>\n",
       "      <th>tag</th>\n",
       "      <th>pyradiomics_tag</th>\n",
       "    </tr>\n",
       "  </thead>\n",
       "  <tbody>\n",
       "  </tbody>\n",
       "</table>\n",
       "</div>"
      ],
      "text/plain": [
       "Empty DataFrame\n",
       "Columns: [data_set, family, image_biomarker, consensus, benchmark_value, tolerance, your_result, difference, check, tag, pyradiomics_tag]\n",
       "Index: []"
      ]
     },
     "metadata": {},
     "output_type": "display_data"
    },
    {
     "name": "stdout",
     "output_type": "stream",
     "text": [
      "Frlm.glnu.norm\n",
      "rlm_glnu_norm\n",
      "198    True\n",
      "214    True\n",
      "Name: tag, dtype: bool\n"
     ]
    },
    {
     "data": {
      "text/plain": [
       "198    3189.830009\n",
       "214    3189.830009\n",
       "Name: your_result, dtype: float64"
      ]
     },
     "metadata": {},
     "output_type": "display_data"
    },
    {
     "data": {
      "text/plain": [
       "198    0.138889\n",
       "214    0.138889\n",
       "Name: your_result, dtype: float64"
      ]
     },
     "metadata": {},
     "output_type": "display_data"
    },
    {
     "name": "stdout",
     "output_type": "stream",
     "text": [
      "original_glrlm_GrayLevelNonUniformityNormalized\n"
     ]
    },
    {
     "data": {
      "text/html": [
       "<div>\n",
       "<style scoped>\n",
       "    .dataframe tbody tr th:only-of-type {\n",
       "        vertical-align: middle;\n",
       "    }\n",
       "\n",
       "    .dataframe tbody tr th {\n",
       "        vertical-align: top;\n",
       "    }\n",
       "\n",
       "    .dataframe thead th {\n",
       "        text-align: right;\n",
       "    }\n",
       "</style>\n",
       "<table border=\"1\" class=\"dataframe\">\n",
       "  <thead>\n",
       "    <tr style=\"text-align: right;\">\n",
       "      <th></th>\n",
       "      <th>data_set</th>\n",
       "      <th>family</th>\n",
       "      <th>image_biomarker</th>\n",
       "      <th>consensus</th>\n",
       "      <th>benchmark_value</th>\n",
       "      <th>tolerance</th>\n",
       "      <th>your_result</th>\n",
       "      <th>difference</th>\n",
       "      <th>check</th>\n",
       "      <th>tag</th>\n",
       "      <th>pyradiomics_tag</th>\n",
       "    </tr>\n",
       "  </thead>\n",
       "  <tbody>\n",
       "  </tbody>\n",
       "</table>\n",
       "</div>"
      ],
      "text/plain": [
       "Empty DataFrame\n",
       "Columns: [data_set, family, image_biomarker, consensus, benchmark_value, tolerance, your_result, difference, check, tag, pyradiomics_tag]\n",
       "Index: []"
      ]
     },
     "metadata": {},
     "output_type": "display_data"
    },
    {
     "name": "stdout",
     "output_type": "stream",
     "text": [
      "Frlm.gl.var\n",
      "rlm_gl_var\n",
      "202    True\n",
      "218    True\n",
      "Name: tag, dtype: bool\n"
     ]
    },
    {
     "data": {
      "text/plain": [
       "202   NaN\n",
       "218   NaN\n",
       "Name: your_result, dtype: float64"
      ]
     },
     "metadata": {},
     "output_type": "display_data"
    },
    {
     "data": {
      "text/plain": [
       "202    30.169307\n",
       "218    30.169307\n",
       "Name: your_result, dtype: float64"
      ]
     },
     "metadata": {},
     "output_type": "display_data"
    },
    {
     "name": "stdout",
     "output_type": "stream",
     "text": [
      "original_glrlm_GrayLevelVariance\n"
     ]
    },
    {
     "data": {
      "text/html": [
       "<div>\n",
       "<style scoped>\n",
       "    .dataframe tbody tr th:only-of-type {\n",
       "        vertical-align: middle;\n",
       "    }\n",
       "\n",
       "    .dataframe tbody tr th {\n",
       "        vertical-align: top;\n",
       "    }\n",
       "\n",
       "    .dataframe thead th {\n",
       "        text-align: right;\n",
       "    }\n",
       "</style>\n",
       "<table border=\"1\" class=\"dataframe\">\n",
       "  <thead>\n",
       "    <tr style=\"text-align: right;\">\n",
       "      <th></th>\n",
       "      <th>data_set</th>\n",
       "      <th>family</th>\n",
       "      <th>image_biomarker</th>\n",
       "      <th>consensus</th>\n",
       "      <th>benchmark_value</th>\n",
       "      <th>tolerance</th>\n",
       "      <th>your_result</th>\n",
       "      <th>difference</th>\n",
       "      <th>check</th>\n",
       "      <th>tag</th>\n",
       "      <th>pyradiomics_tag</th>\n",
       "    </tr>\n",
       "  </thead>\n",
       "  <tbody>\n",
       "  </tbody>\n",
       "</table>\n",
       "</div>"
      ],
      "text/plain": [
       "Empty DataFrame\n",
       "Columns: [data_set, family, image_biomarker, consensus, benchmark_value, tolerance, your_result, difference, check, tag, pyradiomics_tag]\n",
       "Index: []"
      ]
     },
     "metadata": {},
     "output_type": "display_data"
    },
    {
     "name": "stdout",
     "output_type": "stream",
     "text": [
      "Frlm.hgre\n",
      "rlm_hgre\n",
      "192    True\n",
      "208    True\n",
      "Name: tag, dtype: bool\n"
     ]
    },
    {
     "data": {
      "text/plain": [
       "192   NaN\n",
       "208   NaN\n",
       "Name: your_result, dtype: float64"
      ]
     },
     "metadata": {},
     "output_type": "display_data"
    },
    {
     "data": {
      "text/plain": [
       "192    328.357676\n",
       "208    328.357676\n",
       "Name: your_result, dtype: float64"
      ]
     },
     "metadata": {},
     "output_type": "display_data"
    },
    {
     "name": "stdout",
     "output_type": "stream",
     "text": [
      "original_glrlm_HighGrayLevelRunEmphasis\n"
     ]
    },
    {
     "data": {
      "text/html": [
       "<div>\n",
       "<style scoped>\n",
       "    .dataframe tbody tr th:only-of-type {\n",
       "        vertical-align: middle;\n",
       "    }\n",
       "\n",
       "    .dataframe tbody tr th {\n",
       "        vertical-align: top;\n",
       "    }\n",
       "\n",
       "    .dataframe thead th {\n",
       "        text-align: right;\n",
       "    }\n",
       "</style>\n",
       "<table border=\"1\" class=\"dataframe\">\n",
       "  <thead>\n",
       "    <tr style=\"text-align: right;\">\n",
       "      <th></th>\n",
       "      <th>data_set</th>\n",
       "      <th>family</th>\n",
       "      <th>image_biomarker</th>\n",
       "      <th>consensus</th>\n",
       "      <th>benchmark_value</th>\n",
       "      <th>tolerance</th>\n",
       "      <th>your_result</th>\n",
       "      <th>difference</th>\n",
       "      <th>check</th>\n",
       "      <th>tag</th>\n",
       "      <th>pyradiomics_tag</th>\n",
       "    </tr>\n",
       "  </thead>\n",
       "  <tbody>\n",
       "  </tbody>\n",
       "</table>\n",
       "</div>"
      ],
      "text/plain": [
       "Empty DataFrame\n",
       "Columns: [data_set, family, image_biomarker, consensus, benchmark_value, tolerance, your_result, difference, check, tag, pyradiomics_tag]\n",
       "Index: []"
      ]
     },
     "metadata": {},
     "output_type": "display_data"
    },
    {
     "name": "stdout",
     "output_type": "stream",
     "text": [
      "Frlm.lre\n",
      "rlm_lre\n",
      "190    True\n",
      "206    True\n",
      "Name: tag, dtype: bool\n"
     ]
    },
    {
     "data": {
      "text/plain": [
       "190   NaN\n",
       "206   NaN\n",
       "Name: your_result, dtype: float64"
      ]
     },
     "metadata": {},
     "output_type": "display_data"
    },
    {
     "data": {
      "text/plain": [
       "190    8.861075\n",
       "206    8.861075\n",
       "Name: your_result, dtype: float64"
      ]
     },
     "metadata": {},
     "output_type": "display_data"
    },
    {
     "name": "stdout",
     "output_type": "stream",
     "text": [
      "original_glrlm_LongRunEmphasis\n"
     ]
    },
    {
     "data": {
      "text/html": [
       "<div>\n",
       "<style scoped>\n",
       "    .dataframe tbody tr th:only-of-type {\n",
       "        vertical-align: middle;\n",
       "    }\n",
       "\n",
       "    .dataframe tbody tr th {\n",
       "        vertical-align: top;\n",
       "    }\n",
       "\n",
       "    .dataframe thead th {\n",
       "        text-align: right;\n",
       "    }\n",
       "</style>\n",
       "<table border=\"1\" class=\"dataframe\">\n",
       "  <thead>\n",
       "    <tr style=\"text-align: right;\">\n",
       "      <th></th>\n",
       "      <th>data_set</th>\n",
       "      <th>family</th>\n",
       "      <th>image_biomarker</th>\n",
       "      <th>consensus</th>\n",
       "      <th>benchmark_value</th>\n",
       "      <th>tolerance</th>\n",
       "      <th>your_result</th>\n",
       "      <th>difference</th>\n",
       "      <th>check</th>\n",
       "      <th>tag</th>\n",
       "      <th>pyradiomics_tag</th>\n",
       "    </tr>\n",
       "  </thead>\n",
       "  <tbody>\n",
       "  </tbody>\n",
       "</table>\n",
       "</div>"
      ],
      "text/plain": [
       "Empty DataFrame\n",
       "Columns: [data_set, family, image_biomarker, consensus, benchmark_value, tolerance, your_result, difference, check, tag, pyradiomics_tag]\n",
       "Index: []"
      ]
     },
     "metadata": {},
     "output_type": "display_data"
    },
    {
     "name": "stdout",
     "output_type": "stream",
     "text": [
      "Frlm.lrhge\n",
      "rlm_lrhge\n",
      "196    True\n",
      "212    True\n",
      "Name: tag, dtype: bool\n"
     ]
    },
    {
     "data": {
      "text/plain": [
       "196   NaN\n",
       "212   NaN\n",
       "Name: your_result, dtype: float64"
      ]
     },
     "metadata": {},
     "output_type": "display_data"
    },
    {
     "data": {
      "text/plain": [
       "196    3623.668087\n",
       "212    3623.668087\n",
       "Name: your_result, dtype: float64"
      ]
     },
     "metadata": {},
     "output_type": "display_data"
    },
    {
     "name": "stdout",
     "output_type": "stream",
     "text": [
      "original_glrlm_LongRunHighGrayLevelEmphasis\n"
     ]
    },
    {
     "data": {
      "text/html": [
       "<div>\n",
       "<style scoped>\n",
       "    .dataframe tbody tr th:only-of-type {\n",
       "        vertical-align: middle;\n",
       "    }\n",
       "\n",
       "    .dataframe tbody tr th {\n",
       "        vertical-align: top;\n",
       "    }\n",
       "\n",
       "    .dataframe thead th {\n",
       "        text-align: right;\n",
       "    }\n",
       "</style>\n",
       "<table border=\"1\" class=\"dataframe\">\n",
       "  <thead>\n",
       "    <tr style=\"text-align: right;\">\n",
       "      <th></th>\n",
       "      <th>data_set</th>\n",
       "      <th>family</th>\n",
       "      <th>image_biomarker</th>\n",
       "      <th>consensus</th>\n",
       "      <th>benchmark_value</th>\n",
       "      <th>tolerance</th>\n",
       "      <th>your_result</th>\n",
       "      <th>difference</th>\n",
       "      <th>check</th>\n",
       "      <th>tag</th>\n",
       "      <th>pyradiomics_tag</th>\n",
       "    </tr>\n",
       "  </thead>\n",
       "  <tbody>\n",
       "  </tbody>\n",
       "</table>\n",
       "</div>"
      ],
      "text/plain": [
       "Empty DataFrame\n",
       "Columns: [data_set, family, image_biomarker, consensus, benchmark_value, tolerance, your_result, difference, check, tag, pyradiomics_tag]\n",
       "Index: []"
      ]
     },
     "metadata": {},
     "output_type": "display_data"
    },
    {
     "name": "stdout",
     "output_type": "stream",
     "text": [
      "Frlm.lrlge\n",
      "rlm_lrlge\n",
      "195    True\n",
      "211    True\n",
      "Name: tag, dtype: bool\n"
     ]
    },
    {
     "data": {
      "text/plain": [
       "195   NaN\n",
       "211   NaN\n",
       "Name: your_result, dtype: float64"
      ]
     },
     "metadata": {},
     "output_type": "display_data"
    },
    {
     "data": {
      "text/plain": [
       "195    0.037581\n",
       "211    0.037581\n",
       "Name: your_result, dtype: float64"
      ]
     },
     "metadata": {},
     "output_type": "display_data"
    },
    {
     "name": "stdout",
     "output_type": "stream",
     "text": [
      "original_glrlm_LongRunLowGrayLevelEmphasis\n"
     ]
    },
    {
     "data": {
      "text/html": [
       "<div>\n",
       "<style scoped>\n",
       "    .dataframe tbody tr th:only-of-type {\n",
       "        vertical-align: middle;\n",
       "    }\n",
       "\n",
       "    .dataframe tbody tr th {\n",
       "        vertical-align: top;\n",
       "    }\n",
       "\n",
       "    .dataframe thead th {\n",
       "        text-align: right;\n",
       "    }\n",
       "</style>\n",
       "<table border=\"1\" class=\"dataframe\">\n",
       "  <thead>\n",
       "    <tr style=\"text-align: right;\">\n",
       "      <th></th>\n",
       "      <th>data_set</th>\n",
       "      <th>family</th>\n",
       "      <th>image_biomarker</th>\n",
       "      <th>consensus</th>\n",
       "      <th>benchmark_value</th>\n",
       "      <th>tolerance</th>\n",
       "      <th>your_result</th>\n",
       "      <th>difference</th>\n",
       "      <th>check</th>\n",
       "      <th>tag</th>\n",
       "      <th>pyradiomics_tag</th>\n",
       "    </tr>\n",
       "  </thead>\n",
       "  <tbody>\n",
       "  </tbody>\n",
       "</table>\n",
       "</div>"
      ],
      "text/plain": [
       "Empty DataFrame\n",
       "Columns: [data_set, family, image_biomarker, consensus, benchmark_value, tolerance, your_result, difference, check, tag, pyradiomics_tag]\n",
       "Index: []"
      ]
     },
     "metadata": {},
     "output_type": "display_data"
    },
    {
     "name": "stdout",
     "output_type": "stream",
     "text": [
      "Frlm.lgre\n",
      "rlm_lgre\n",
      "191    True\n",
      "207    True\n",
      "Name: tag, dtype: bool\n"
     ]
    },
    {
     "data": {
      "text/plain": [
       "191   NaN\n",
       "207   NaN\n",
       "Name: your_result, dtype: float64"
      ]
     },
     "metadata": {},
     "output_type": "display_data"
    },
    {
     "data": {
      "text/plain": [
       "191    0.012069\n",
       "207    0.012069\n",
       "Name: your_result, dtype: float64"
      ]
     },
     "metadata": {},
     "output_type": "display_data"
    },
    {
     "name": "stdout",
     "output_type": "stream",
     "text": [
      "original_glrlm_LowGrayLevelRunEmphasis\n"
     ]
    },
    {
     "data": {
      "text/html": [
       "<div>\n",
       "<style scoped>\n",
       "    .dataframe tbody tr th:only-of-type {\n",
       "        vertical-align: middle;\n",
       "    }\n",
       "\n",
       "    .dataframe tbody tr th {\n",
       "        vertical-align: top;\n",
       "    }\n",
       "\n",
       "    .dataframe thead th {\n",
       "        text-align: right;\n",
       "    }\n",
       "</style>\n",
       "<table border=\"1\" class=\"dataframe\">\n",
       "  <thead>\n",
       "    <tr style=\"text-align: right;\">\n",
       "      <th></th>\n",
       "      <th>data_set</th>\n",
       "      <th>family</th>\n",
       "      <th>image_biomarker</th>\n",
       "      <th>consensus</th>\n",
       "      <th>benchmark_value</th>\n",
       "      <th>tolerance</th>\n",
       "      <th>your_result</th>\n",
       "      <th>difference</th>\n",
       "      <th>check</th>\n",
       "      <th>tag</th>\n",
       "      <th>pyradiomics_tag</th>\n",
       "    </tr>\n",
       "  </thead>\n",
       "  <tbody>\n",
       "  </tbody>\n",
       "</table>\n",
       "</div>"
      ],
      "text/plain": [
       "Empty DataFrame\n",
       "Columns: [data_set, family, image_biomarker, consensus, benchmark_value, tolerance, your_result, difference, check, tag, pyradiomics_tag]\n",
       "Index: []"
      ]
     },
     "metadata": {},
     "output_type": "display_data"
    },
    {
     "name": "stdout",
     "output_type": "stream",
     "text": [
      "Frlm.rl.entr\n",
      "rlm_rl_entr\n",
      "204    True\n",
      "220    True\n",
      "Name: tag, dtype: bool\n"
     ]
    },
    {
     "data": {
      "text/plain": [
       "204   NaN\n",
       "220   NaN\n",
       "Name: your_result, dtype: float64"
      ]
     },
     "metadata": {},
     "output_type": "display_data"
    },
    {
     "data": {
      "text/plain": [
       "204    5.163276\n",
       "220    5.163276\n",
       "Name: your_result, dtype: float64"
      ]
     },
     "metadata": {},
     "output_type": "display_data"
    },
    {
     "name": "stdout",
     "output_type": "stream",
     "text": [
      "original_glrlm_RunEntropy\n"
     ]
    },
    {
     "data": {
      "text/html": [
       "<div>\n",
       "<style scoped>\n",
       "    .dataframe tbody tr th:only-of-type {\n",
       "        vertical-align: middle;\n",
       "    }\n",
       "\n",
       "    .dataframe tbody tr th {\n",
       "        vertical-align: top;\n",
       "    }\n",
       "\n",
       "    .dataframe thead th {\n",
       "        text-align: right;\n",
       "    }\n",
       "</style>\n",
       "<table border=\"1\" class=\"dataframe\">\n",
       "  <thead>\n",
       "    <tr style=\"text-align: right;\">\n",
       "      <th></th>\n",
       "      <th>data_set</th>\n",
       "      <th>family</th>\n",
       "      <th>image_biomarker</th>\n",
       "      <th>consensus</th>\n",
       "      <th>benchmark_value</th>\n",
       "      <th>tolerance</th>\n",
       "      <th>your_result</th>\n",
       "      <th>difference</th>\n",
       "      <th>check</th>\n",
       "      <th>tag</th>\n",
       "      <th>pyradiomics_tag</th>\n",
       "    </tr>\n",
       "  </thead>\n",
       "  <tbody>\n",
       "  </tbody>\n",
       "</table>\n",
       "</div>"
      ],
      "text/plain": [
       "Empty DataFrame\n",
       "Columns: [data_set, family, image_biomarker, consensus, benchmark_value, tolerance, your_result, difference, check, tag, pyradiomics_tag]\n",
       "Index: []"
      ]
     },
     "metadata": {},
     "output_type": "display_data"
    },
    {
     "name": "stdout",
     "output_type": "stream",
     "text": [
      "Frlm.rlnu\n",
      "rlm_rlnu\n",
      "199    True\n",
      "200    True\n",
      "215    True\n",
      "216    True\n",
      "Name: tag, dtype: bool\n"
     ]
    },
    {
     "data": {
      "text/plain": [
       "199   NaN\n",
       "200   NaN\n",
       "215   NaN\n",
       "216   NaN\n",
       "Name: your_result, dtype: float64"
      ]
     },
     "metadata": {},
     "output_type": "display_data"
    },
    {
     "data": {
      "text/plain": [
       "199    10852.178966\n",
       "200    10852.178966\n",
       "215    10852.178966\n",
       "216    10852.178966\n",
       "Name: your_result, dtype: float64"
      ]
     },
     "metadata": {},
     "output_type": "display_data"
    },
    {
     "name": "stdout",
     "output_type": "stream",
     "text": [
      "original_glrlm_RunLengthNonUniformity\n"
     ]
    },
    {
     "data": {
      "text/html": [
       "<div>\n",
       "<style scoped>\n",
       "    .dataframe tbody tr th:only-of-type {\n",
       "        vertical-align: middle;\n",
       "    }\n",
       "\n",
       "    .dataframe tbody tr th {\n",
       "        vertical-align: top;\n",
       "    }\n",
       "\n",
       "    .dataframe thead th {\n",
       "        text-align: right;\n",
       "    }\n",
       "</style>\n",
       "<table border=\"1\" class=\"dataframe\">\n",
       "  <thead>\n",
       "    <tr style=\"text-align: right;\">\n",
       "      <th></th>\n",
       "      <th>data_set</th>\n",
       "      <th>family</th>\n",
       "      <th>image_biomarker</th>\n",
       "      <th>consensus</th>\n",
       "      <th>benchmark_value</th>\n",
       "      <th>tolerance</th>\n",
       "      <th>your_result</th>\n",
       "      <th>difference</th>\n",
       "      <th>check</th>\n",
       "      <th>tag</th>\n",
       "      <th>pyradiomics_tag</th>\n",
       "    </tr>\n",
       "  </thead>\n",
       "  <tbody>\n",
       "  </tbody>\n",
       "</table>\n",
       "</div>"
      ],
      "text/plain": [
       "Empty DataFrame\n",
       "Columns: [data_set, family, image_biomarker, consensus, benchmark_value, tolerance, your_result, difference, check, tag, pyradiomics_tag]\n",
       "Index: []"
      ]
     },
     "metadata": {},
     "output_type": "display_data"
    },
    {
     "name": "stdout",
     "output_type": "stream",
     "text": [
      "Frlm.rlnu.norm\n",
      "rlm_rlnu_norm\n",
      "200    True\n",
      "216    True\n",
      "Name: tag, dtype: bool\n"
     ]
    },
    {
     "data": {
      "text/plain": [
       "200    10852.178966\n",
       "216    10852.178966\n",
       "Name: your_result, dtype: float64"
      ]
     },
     "metadata": {},
     "output_type": "display_data"
    },
    {
     "data": {
      "text/plain": [
       "200    0.472776\n",
       "216    0.472776\n",
       "Name: your_result, dtype: float64"
      ]
     },
     "metadata": {},
     "output_type": "display_data"
    },
    {
     "name": "stdout",
     "output_type": "stream",
     "text": [
      "original_glrlm_RunLengthNonUniformityNormalized\n"
     ]
    },
    {
     "data": {
      "text/html": [
       "<div>\n",
       "<style scoped>\n",
       "    .dataframe tbody tr th:only-of-type {\n",
       "        vertical-align: middle;\n",
       "    }\n",
       "\n",
       "    .dataframe tbody tr th {\n",
       "        vertical-align: top;\n",
       "    }\n",
       "\n",
       "    .dataframe thead th {\n",
       "        text-align: right;\n",
       "    }\n",
       "</style>\n",
       "<table border=\"1\" class=\"dataframe\">\n",
       "  <thead>\n",
       "    <tr style=\"text-align: right;\">\n",
       "      <th></th>\n",
       "      <th>data_set</th>\n",
       "      <th>family</th>\n",
       "      <th>image_biomarker</th>\n",
       "      <th>consensus</th>\n",
       "      <th>benchmark_value</th>\n",
       "      <th>tolerance</th>\n",
       "      <th>your_result</th>\n",
       "      <th>difference</th>\n",
       "      <th>check</th>\n",
       "      <th>tag</th>\n",
       "      <th>pyradiomics_tag</th>\n",
       "    </tr>\n",
       "  </thead>\n",
       "  <tbody>\n",
       "  </tbody>\n",
       "</table>\n",
       "</div>"
      ],
      "text/plain": [
       "Empty DataFrame\n",
       "Columns: [data_set, family, image_biomarker, consensus, benchmark_value, tolerance, your_result, difference, check, tag, pyradiomics_tag]\n",
       "Index: []"
      ]
     },
     "metadata": {},
     "output_type": "display_data"
    },
    {
     "name": "stdout",
     "output_type": "stream",
     "text": [
      "Frlm.r.perc\n",
      "rlm_r_perc\n",
      "201    True\n",
      "217    True\n",
      "Name: tag, dtype: bool\n"
     ]
    },
    {
     "data": {
      "text/plain": [
       "201   NaN\n",
       "217   NaN\n",
       "Name: your_result, dtype: float64"
      ]
     },
     "metadata": {},
     "output_type": "display_data"
    },
    {
     "data": {
      "text/plain": [
       "201    0.507083\n",
       "217    0.507083\n",
       "Name: your_result, dtype: float64"
      ]
     },
     "metadata": {},
     "output_type": "display_data"
    },
    {
     "name": "stdout",
     "output_type": "stream",
     "text": [
      "original_glrlm_RunPercentage\n"
     ]
    },
    {
     "data": {
      "text/html": [
       "<div>\n",
       "<style scoped>\n",
       "    .dataframe tbody tr th:only-of-type {\n",
       "        vertical-align: middle;\n",
       "    }\n",
       "\n",
       "    .dataframe tbody tr th {\n",
       "        vertical-align: top;\n",
       "    }\n",
       "\n",
       "    .dataframe thead th {\n",
       "        text-align: right;\n",
       "    }\n",
       "</style>\n",
       "<table border=\"1\" class=\"dataframe\">\n",
       "  <thead>\n",
       "    <tr style=\"text-align: right;\">\n",
       "      <th></th>\n",
       "      <th>data_set</th>\n",
       "      <th>family</th>\n",
       "      <th>image_biomarker</th>\n",
       "      <th>consensus</th>\n",
       "      <th>benchmark_value</th>\n",
       "      <th>tolerance</th>\n",
       "      <th>your_result</th>\n",
       "      <th>difference</th>\n",
       "      <th>check</th>\n",
       "      <th>tag</th>\n",
       "      <th>pyradiomics_tag</th>\n",
       "    </tr>\n",
       "  </thead>\n",
       "  <tbody>\n",
       "  </tbody>\n",
       "</table>\n",
       "</div>"
      ],
      "text/plain": [
       "Empty DataFrame\n",
       "Columns: [data_set, family, image_biomarker, consensus, benchmark_value, tolerance, your_result, difference, check, tag, pyradiomics_tag]\n",
       "Index: []"
      ]
     },
     "metadata": {},
     "output_type": "display_data"
    },
    {
     "name": "stdout",
     "output_type": "stream",
     "text": [
      "Frlm.rl.var\n",
      "rlm_rl_var\n",
      "203    True\n",
      "219    True\n",
      "Name: tag, dtype: bool\n"
     ]
    },
    {
     "data": {
      "text/plain": [
       "203   NaN\n",
       "219   NaN\n",
       "Name: your_result, dtype: float64"
      ]
     },
     "metadata": {},
     "output_type": "display_data"
    },
    {
     "data": {
      "text/plain": [
       "203    4.903279\n",
       "219    4.903279\n",
       "Name: your_result, dtype: float64"
      ]
     },
     "metadata": {},
     "output_type": "display_data"
    },
    {
     "name": "stdout",
     "output_type": "stream",
     "text": [
      "original_glrlm_RunVariance\n"
     ]
    },
    {
     "data": {
      "text/html": [
       "<div>\n",
       "<style scoped>\n",
       "    .dataframe tbody tr th:only-of-type {\n",
       "        vertical-align: middle;\n",
       "    }\n",
       "\n",
       "    .dataframe tbody tr th {\n",
       "        vertical-align: top;\n",
       "    }\n",
       "\n",
       "    .dataframe thead th {\n",
       "        text-align: right;\n",
       "    }\n",
       "</style>\n",
       "<table border=\"1\" class=\"dataframe\">\n",
       "  <thead>\n",
       "    <tr style=\"text-align: right;\">\n",
       "      <th></th>\n",
       "      <th>data_set</th>\n",
       "      <th>family</th>\n",
       "      <th>image_biomarker</th>\n",
       "      <th>consensus</th>\n",
       "      <th>benchmark_value</th>\n",
       "      <th>tolerance</th>\n",
       "      <th>your_result</th>\n",
       "      <th>difference</th>\n",
       "      <th>check</th>\n",
       "      <th>tag</th>\n",
       "      <th>pyradiomics_tag</th>\n",
       "    </tr>\n",
       "  </thead>\n",
       "  <tbody>\n",
       "  </tbody>\n",
       "</table>\n",
       "</div>"
      ],
      "text/plain": [
       "Empty DataFrame\n",
       "Columns: [data_set, family, image_biomarker, consensus, benchmark_value, tolerance, your_result, difference, check, tag, pyradiomics_tag]\n",
       "Index: []"
      ]
     },
     "metadata": {},
     "output_type": "display_data"
    },
    {
     "name": "stdout",
     "output_type": "stream",
     "text": [
      "Frlm.sre\n",
      "rlm_sre\n",
      "189    True\n",
      "205    True\n",
      "Name: tag, dtype: bool\n"
     ]
    },
    {
     "data": {
      "text/plain": [
       "189   NaN\n",
       "205   NaN\n",
       "Name: your_result, dtype: float64"
      ]
     },
     "metadata": {},
     "output_type": "display_data"
    },
    {
     "data": {
      "text/plain": [
       "189    0.71458\n",
       "205    0.71458\n",
       "Name: your_result, dtype: float64"
      ]
     },
     "metadata": {},
     "output_type": "display_data"
    },
    {
     "name": "stdout",
     "output_type": "stream",
     "text": [
      "original_glrlm_ShortRunEmphasis\n"
     ]
    },
    {
     "data": {
      "text/html": [
       "<div>\n",
       "<style scoped>\n",
       "    .dataframe tbody tr th:only-of-type {\n",
       "        vertical-align: middle;\n",
       "    }\n",
       "\n",
       "    .dataframe tbody tr th {\n",
       "        vertical-align: top;\n",
       "    }\n",
       "\n",
       "    .dataframe thead th {\n",
       "        text-align: right;\n",
       "    }\n",
       "</style>\n",
       "<table border=\"1\" class=\"dataframe\">\n",
       "  <thead>\n",
       "    <tr style=\"text-align: right;\">\n",
       "      <th></th>\n",
       "      <th>data_set</th>\n",
       "      <th>family</th>\n",
       "      <th>image_biomarker</th>\n",
       "      <th>consensus</th>\n",
       "      <th>benchmark_value</th>\n",
       "      <th>tolerance</th>\n",
       "      <th>your_result</th>\n",
       "      <th>difference</th>\n",
       "      <th>check</th>\n",
       "      <th>tag</th>\n",
       "      <th>pyradiomics_tag</th>\n",
       "    </tr>\n",
       "  </thead>\n",
       "  <tbody>\n",
       "  </tbody>\n",
       "</table>\n",
       "</div>"
      ],
      "text/plain": [
       "Empty DataFrame\n",
       "Columns: [data_set, family, image_biomarker, consensus, benchmark_value, tolerance, your_result, difference, check, tag, pyradiomics_tag]\n",
       "Index: []"
      ]
     },
     "metadata": {},
     "output_type": "display_data"
    },
    {
     "name": "stdout",
     "output_type": "stream",
     "text": [
      "Frlm.srhge\n",
      "rlm_srhge\n",
      "194    True\n",
      "210    True\n",
      "Name: tag, dtype: bool\n"
     ]
    },
    {
     "data": {
      "text/plain": [
       "194   NaN\n",
       "210   NaN\n",
       "Name: your_result, dtype: float64"
      ]
     },
     "metadata": {},
     "output_type": "display_data"
    },
    {
     "data": {
      "text/plain": [
       "194    213.203375\n",
       "210    213.203375\n",
       "Name: your_result, dtype: float64"
      ]
     },
     "metadata": {},
     "output_type": "display_data"
    },
    {
     "name": "stdout",
     "output_type": "stream",
     "text": [
      "original_glrlm_ShortRunHighGrayLevelEmphasis\n"
     ]
    },
    {
     "data": {
      "text/html": [
       "<div>\n",
       "<style scoped>\n",
       "    .dataframe tbody tr th:only-of-type {\n",
       "        vertical-align: middle;\n",
       "    }\n",
       "\n",
       "    .dataframe tbody tr th {\n",
       "        vertical-align: top;\n",
       "    }\n",
       "\n",
       "    .dataframe thead th {\n",
       "        text-align: right;\n",
       "    }\n",
       "</style>\n",
       "<table border=\"1\" class=\"dataframe\">\n",
       "  <thead>\n",
       "    <tr style=\"text-align: right;\">\n",
       "      <th></th>\n",
       "      <th>data_set</th>\n",
       "      <th>family</th>\n",
       "      <th>image_biomarker</th>\n",
       "      <th>consensus</th>\n",
       "      <th>benchmark_value</th>\n",
       "      <th>tolerance</th>\n",
       "      <th>your_result</th>\n",
       "      <th>difference</th>\n",
       "      <th>check</th>\n",
       "      <th>tag</th>\n",
       "      <th>pyradiomics_tag</th>\n",
       "    </tr>\n",
       "  </thead>\n",
       "  <tbody>\n",
       "  </tbody>\n",
       "</table>\n",
       "</div>"
      ],
      "text/plain": [
       "Empty DataFrame\n",
       "Columns: [data_set, family, image_biomarker, consensus, benchmark_value, tolerance, your_result, difference, check, tag, pyradiomics_tag]\n",
       "Index: []"
      ]
     },
     "metadata": {},
     "output_type": "display_data"
    },
    {
     "name": "stdout",
     "output_type": "stream",
     "text": [
      "Frlm.srlge\n",
      "rlm_srlge\n",
      "193    True\n",
      "209    True\n",
      "Name: tag, dtype: bool\n"
     ]
    },
    {
     "data": {
      "text/plain": [
       "193   NaN\n",
       "209   NaN\n",
       "Name: your_result, dtype: float64"
      ]
     },
     "metadata": {},
     "output_type": "display_data"
    },
    {
     "data": {
      "text/plain": [
       "193    0.010191\n",
       "209    0.010191\n",
       "Name: your_result, dtype: float64"
      ]
     },
     "metadata": {},
     "output_type": "display_data"
    },
    {
     "name": "stdout",
     "output_type": "stream",
     "text": [
      "original_glrlm_ShortRunLowGrayLevelEmphasis\n"
     ]
    },
    {
     "data": {
      "text/html": [
       "<div>\n",
       "<style scoped>\n",
       "    .dataframe tbody tr th:only-of-type {\n",
       "        vertical-align: middle;\n",
       "    }\n",
       "\n",
       "    .dataframe tbody tr th {\n",
       "        vertical-align: top;\n",
       "    }\n",
       "\n",
       "    .dataframe thead th {\n",
       "        text-align: right;\n",
       "    }\n",
       "</style>\n",
       "<table border=\"1\" class=\"dataframe\">\n",
       "  <thead>\n",
       "    <tr style=\"text-align: right;\">\n",
       "      <th></th>\n",
       "      <th>data_set</th>\n",
       "      <th>family</th>\n",
       "      <th>image_biomarker</th>\n",
       "      <th>consensus</th>\n",
       "      <th>benchmark_value</th>\n",
       "      <th>tolerance</th>\n",
       "      <th>your_result</th>\n",
       "      <th>difference</th>\n",
       "      <th>check</th>\n",
       "      <th>tag</th>\n",
       "      <th>pyradiomics_tag</th>\n",
       "    </tr>\n",
       "  </thead>\n",
       "  <tbody>\n",
       "  </tbody>\n",
       "</table>\n",
       "</div>"
      ],
      "text/plain": [
       "Empty DataFrame\n",
       "Columns: [data_set, family, image_biomarker, consensus, benchmark_value, tolerance, your_result, difference, check, tag, pyradiomics_tag]\n",
       "Index: []"
      ]
     },
     "metadata": {},
     "output_type": "display_data"
    },
    {
     "name": "stdout",
     "output_type": "stream",
     "text": [
      "Fszm.glnu\n",
      "szm_glnu\n",
      "229    True\n",
      "230    True\n",
      "Name: tag, dtype: bool\n"
     ]
    },
    {
     "data": {
      "text/plain": [
       "229   NaN\n",
       "230   NaN\n",
       "Name: your_result, dtype: float64"
      ]
     },
     "metadata": {},
     "output_type": "display_data"
    },
    {
     "data": {
      "text/plain": [
       "229    199.583449\n",
       "230    199.583449\n",
       "Name: your_result, dtype: float64"
      ]
     },
     "metadata": {},
     "output_type": "display_data"
    },
    {
     "name": "stdout",
     "output_type": "stream",
     "text": [
      "original_glszm_GrayLevelNonUniformity\n"
     ]
    },
    {
     "data": {
      "text/html": [
       "<div>\n",
       "<style scoped>\n",
       "    .dataframe tbody tr th:only-of-type {\n",
       "        vertical-align: middle;\n",
       "    }\n",
       "\n",
       "    .dataframe tbody tr th {\n",
       "        vertical-align: top;\n",
       "    }\n",
       "\n",
       "    .dataframe thead th {\n",
       "        text-align: right;\n",
       "    }\n",
       "</style>\n",
       "<table border=\"1\" class=\"dataframe\">\n",
       "  <thead>\n",
       "    <tr style=\"text-align: right;\">\n",
       "      <th></th>\n",
       "      <th>data_set</th>\n",
       "      <th>family</th>\n",
       "      <th>image_biomarker</th>\n",
       "      <th>consensus</th>\n",
       "      <th>benchmark_value</th>\n",
       "      <th>tolerance</th>\n",
       "      <th>your_result</th>\n",
       "      <th>difference</th>\n",
       "      <th>check</th>\n",
       "      <th>tag</th>\n",
       "      <th>pyradiomics_tag</th>\n",
       "    </tr>\n",
       "  </thead>\n",
       "  <tbody>\n",
       "  </tbody>\n",
       "</table>\n",
       "</div>"
      ],
      "text/plain": [
       "Empty DataFrame\n",
       "Columns: [data_set, family, image_biomarker, consensus, benchmark_value, tolerance, your_result, difference, check, tag, pyradiomics_tag]\n",
       "Index: []"
      ]
     },
     "metadata": {},
     "output_type": "display_data"
    },
    {
     "name": "stdout",
     "output_type": "stream",
     "text": [
      "Fszm.glnu.norm\n",
      "szm_glnu_norm\n",
      "230    True\n",
      "Name: tag, dtype: bool\n"
     ]
    },
    {
     "data": {
      "text/plain": [
       "230    199.583449\n",
       "Name: your_result, dtype: float64"
      ]
     },
     "metadata": {},
     "output_type": "display_data"
    },
    {
     "data": {
      "text/plain": [
       "230    0.05524\n",
       "Name: your_result, dtype: float64"
      ]
     },
     "metadata": {},
     "output_type": "display_data"
    },
    {
     "name": "stdout",
     "output_type": "stream",
     "text": [
      "original_glszm_GrayLevelNonUniformityNormalized\n"
     ]
    },
    {
     "data": {
      "text/html": [
       "<div>\n",
       "<style scoped>\n",
       "    .dataframe tbody tr th:only-of-type {\n",
       "        vertical-align: middle;\n",
       "    }\n",
       "\n",
       "    .dataframe tbody tr th {\n",
       "        vertical-align: top;\n",
       "    }\n",
       "\n",
       "    .dataframe thead th {\n",
       "        text-align: right;\n",
       "    }\n",
       "</style>\n",
       "<table border=\"1\" class=\"dataframe\">\n",
       "  <thead>\n",
       "    <tr style=\"text-align: right;\">\n",
       "      <th></th>\n",
       "      <th>data_set</th>\n",
       "      <th>family</th>\n",
       "      <th>image_biomarker</th>\n",
       "      <th>consensus</th>\n",
       "      <th>benchmark_value</th>\n",
       "      <th>tolerance</th>\n",
       "      <th>your_result</th>\n",
       "      <th>difference</th>\n",
       "      <th>check</th>\n",
       "      <th>tag</th>\n",
       "      <th>pyradiomics_tag</th>\n",
       "    </tr>\n",
       "  </thead>\n",
       "  <tbody>\n",
       "  </tbody>\n",
       "</table>\n",
       "</div>"
      ],
      "text/plain": [
       "Empty DataFrame\n",
       "Columns: [data_set, family, image_biomarker, consensus, benchmark_value, tolerance, your_result, difference, check, tag, pyradiomics_tag]\n",
       "Index: []"
      ]
     },
     "metadata": {},
     "output_type": "display_data"
    },
    {
     "name": "stdout",
     "output_type": "stream",
     "text": [
      "Fszm.gl.var\n",
      "szm_gl_var\n",
      "234    True\n",
      "Name: tag, dtype: bool\n"
     ]
    },
    {
     "data": {
      "text/plain": [
       "234   NaN\n",
       "Name: your_result, dtype: float64"
      ]
     },
     "metadata": {},
     "output_type": "display_data"
    },
    {
     "data": {
      "text/plain": [
       "234    26.451779\n",
       "Name: your_result, dtype: float64"
      ]
     },
     "metadata": {},
     "output_type": "display_data"
    },
    {
     "name": "stdout",
     "output_type": "stream",
     "text": [
      "original_glszm_GrayLevelVariance\n"
     ]
    },
    {
     "data": {
      "text/html": [
       "<div>\n",
       "<style scoped>\n",
       "    .dataframe tbody tr th:only-of-type {\n",
       "        vertical-align: middle;\n",
       "    }\n",
       "\n",
       "    .dataframe tbody tr th {\n",
       "        vertical-align: top;\n",
       "    }\n",
       "\n",
       "    .dataframe thead th {\n",
       "        text-align: right;\n",
       "    }\n",
       "</style>\n",
       "<table border=\"1\" class=\"dataframe\">\n",
       "  <thead>\n",
       "    <tr style=\"text-align: right;\">\n",
       "      <th></th>\n",
       "      <th>data_set</th>\n",
       "      <th>family</th>\n",
       "      <th>image_biomarker</th>\n",
       "      <th>consensus</th>\n",
       "      <th>benchmark_value</th>\n",
       "      <th>tolerance</th>\n",
       "      <th>your_result</th>\n",
       "      <th>difference</th>\n",
       "      <th>check</th>\n",
       "      <th>tag</th>\n",
       "      <th>pyradiomics_tag</th>\n",
       "    </tr>\n",
       "  </thead>\n",
       "  <tbody>\n",
       "  </tbody>\n",
       "</table>\n",
       "</div>"
      ],
      "text/plain": [
       "Empty DataFrame\n",
       "Columns: [data_set, family, image_biomarker, consensus, benchmark_value, tolerance, your_result, difference, check, tag, pyradiomics_tag]\n",
       "Index: []"
      ]
     },
     "metadata": {},
     "output_type": "display_data"
    },
    {
     "name": "stdout",
     "output_type": "stream",
     "text": [
      "Fszm.hgze\n",
      "szm_hgze\n",
      "224    True\n",
      "Name: tag, dtype: bool\n"
     ]
    },
    {
     "data": {
      "text/plain": [
       "224   NaN\n",
       "Name: your_result, dtype: float64"
      ]
     },
     "metadata": {},
     "output_type": "display_data"
    },
    {
     "data": {
      "text/plain": [
       "224    207.087462\n",
       "Name: your_result, dtype: float64"
      ]
     },
     "metadata": {},
     "output_type": "display_data"
    },
    {
     "name": "stdout",
     "output_type": "stream",
     "text": [
      "original_glszm_HighGrayLevelZoneEmphasis\n"
     ]
    },
    {
     "data": {
      "text/html": [
       "<div>\n",
       "<style scoped>\n",
       "    .dataframe tbody tr th:only-of-type {\n",
       "        vertical-align: middle;\n",
       "    }\n",
       "\n",
       "    .dataframe tbody tr th {\n",
       "        vertical-align: top;\n",
       "    }\n",
       "\n",
       "    .dataframe thead th {\n",
       "        text-align: right;\n",
       "    }\n",
       "</style>\n",
       "<table border=\"1\" class=\"dataframe\">\n",
       "  <thead>\n",
       "    <tr style=\"text-align: right;\">\n",
       "      <th></th>\n",
       "      <th>data_set</th>\n",
       "      <th>family</th>\n",
       "      <th>image_biomarker</th>\n",
       "      <th>consensus</th>\n",
       "      <th>benchmark_value</th>\n",
       "      <th>tolerance</th>\n",
       "      <th>your_result</th>\n",
       "      <th>difference</th>\n",
       "      <th>check</th>\n",
       "      <th>tag</th>\n",
       "      <th>pyradiomics_tag</th>\n",
       "    </tr>\n",
       "  </thead>\n",
       "  <tbody>\n",
       "  </tbody>\n",
       "</table>\n",
       "</div>"
      ],
      "text/plain": [
       "Empty DataFrame\n",
       "Columns: [data_set, family, image_biomarker, consensus, benchmark_value, tolerance, your_result, difference, check, tag, pyradiomics_tag]\n",
       "Index: []"
      ]
     },
     "metadata": {},
     "output_type": "display_data"
    },
    {
     "name": "stdout",
     "output_type": "stream",
     "text": [
      "Fszm.lze\n",
      "szm_lze\n",
      "222    True\n",
      "Name: tag, dtype: bool\n"
     ]
    },
    {
     "data": {
      "text/plain": [
       "222   NaN\n",
       "Name: your_result, dtype: float64"
      ]
     },
     "metadata": {},
     "output_type": "display_data"
    },
    {
     "data": {
      "text/plain": [
       "222    134054.897592\n",
       "Name: your_result, dtype: float64"
      ]
     },
     "metadata": {},
     "output_type": "display_data"
    },
    {
     "name": "stdout",
     "output_type": "stream",
     "text": [
      "original_glszm_LargeAreaEmphasis\n"
     ]
    },
    {
     "data": {
      "text/html": [
       "<div>\n",
       "<style scoped>\n",
       "    .dataframe tbody tr th:only-of-type {\n",
       "        vertical-align: middle;\n",
       "    }\n",
       "\n",
       "    .dataframe tbody tr th {\n",
       "        vertical-align: top;\n",
       "    }\n",
       "\n",
       "    .dataframe thead th {\n",
       "        text-align: right;\n",
       "    }\n",
       "</style>\n",
       "<table border=\"1\" class=\"dataframe\">\n",
       "  <thead>\n",
       "    <tr style=\"text-align: right;\">\n",
       "      <th></th>\n",
       "      <th>data_set</th>\n",
       "      <th>family</th>\n",
       "      <th>image_biomarker</th>\n",
       "      <th>consensus</th>\n",
       "      <th>benchmark_value</th>\n",
       "      <th>tolerance</th>\n",
       "      <th>your_result</th>\n",
       "      <th>difference</th>\n",
       "      <th>check</th>\n",
       "      <th>tag</th>\n",
       "      <th>pyradiomics_tag</th>\n",
       "    </tr>\n",
       "  </thead>\n",
       "  <tbody>\n",
       "  </tbody>\n",
       "</table>\n",
       "</div>"
      ],
      "text/plain": [
       "Empty DataFrame\n",
       "Columns: [data_set, family, image_biomarker, consensus, benchmark_value, tolerance, your_result, difference, check, tag, pyradiomics_tag]\n",
       "Index: []"
      ]
     },
     "metadata": {},
     "output_type": "display_data"
    },
    {
     "name": "stdout",
     "output_type": "stream",
     "text": [
      "Fszm.lzhge\n",
      "szm_lzhge\n",
      "228    True\n",
      "Name: tag, dtype: bool\n"
     ]
    },
    {
     "data": {
      "text/plain": [
       "228   NaN\n",
       "Name: your_result, dtype: float64"
      ]
     },
     "metadata": {},
     "output_type": "display_data"
    },
    {
     "data": {
      "text/plain": [
       "228    5.753311e+07\n",
       "Name: your_result, dtype: float64"
      ]
     },
     "metadata": {},
     "output_type": "display_data"
    },
    {
     "name": "stdout",
     "output_type": "stream",
     "text": [
      "original_glszm_LargeAreaHighGrayLevelEmphasis\n"
     ]
    },
    {
     "data": {
      "text/html": [
       "<div>\n",
       "<style scoped>\n",
       "    .dataframe tbody tr th:only-of-type {\n",
       "        vertical-align: middle;\n",
       "    }\n",
       "\n",
       "    .dataframe tbody tr th {\n",
       "        vertical-align: top;\n",
       "    }\n",
       "\n",
       "    .dataframe thead th {\n",
       "        text-align: right;\n",
       "    }\n",
       "</style>\n",
       "<table border=\"1\" class=\"dataframe\">\n",
       "  <thead>\n",
       "    <tr style=\"text-align: right;\">\n",
       "      <th></th>\n",
       "      <th>data_set</th>\n",
       "      <th>family</th>\n",
       "      <th>image_biomarker</th>\n",
       "      <th>consensus</th>\n",
       "      <th>benchmark_value</th>\n",
       "      <th>tolerance</th>\n",
       "      <th>your_result</th>\n",
       "      <th>difference</th>\n",
       "      <th>check</th>\n",
       "      <th>tag</th>\n",
       "      <th>pyradiomics_tag</th>\n",
       "    </tr>\n",
       "  </thead>\n",
       "  <tbody>\n",
       "  </tbody>\n",
       "</table>\n",
       "</div>"
      ],
      "text/plain": [
       "Empty DataFrame\n",
       "Columns: [data_set, family, image_biomarker, consensus, benchmark_value, tolerance, your_result, difference, check, tag, pyradiomics_tag]\n",
       "Index: []"
      ]
     },
     "metadata": {},
     "output_type": "display_data"
    },
    {
     "name": "stdout",
     "output_type": "stream",
     "text": [
      "Fszm.lzlge\n",
      "szm_lzlge\n",
      "227    True\n",
      "Name: tag, dtype: bool\n"
     ]
    },
    {
     "data": {
      "text/plain": [
       "227   NaN\n",
       "Name: your_result, dtype: float64"
      ]
     },
     "metadata": {},
     "output_type": "display_data"
    },
    {
     "data": {
      "text/plain": [
       "227    319.105705\n",
       "Name: your_result, dtype: float64"
      ]
     },
     "metadata": {},
     "output_type": "display_data"
    },
    {
     "name": "stdout",
     "output_type": "stream",
     "text": [
      "original_glszm_LargeAreaLowGrayLevelEmphasis\n"
     ]
    },
    {
     "data": {
      "text/html": [
       "<div>\n",
       "<style scoped>\n",
       "    .dataframe tbody tr th:only-of-type {\n",
       "        vertical-align: middle;\n",
       "    }\n",
       "\n",
       "    .dataframe tbody tr th {\n",
       "        vertical-align: top;\n",
       "    }\n",
       "\n",
       "    .dataframe thead th {\n",
       "        text-align: right;\n",
       "    }\n",
       "</style>\n",
       "<table border=\"1\" class=\"dataframe\">\n",
       "  <thead>\n",
       "    <tr style=\"text-align: right;\">\n",
       "      <th></th>\n",
       "      <th>data_set</th>\n",
       "      <th>family</th>\n",
       "      <th>image_biomarker</th>\n",
       "      <th>consensus</th>\n",
       "      <th>benchmark_value</th>\n",
       "      <th>tolerance</th>\n",
       "      <th>your_result</th>\n",
       "      <th>difference</th>\n",
       "      <th>check</th>\n",
       "      <th>tag</th>\n",
       "      <th>pyradiomics_tag</th>\n",
       "    </tr>\n",
       "  </thead>\n",
       "  <tbody>\n",
       "  </tbody>\n",
       "</table>\n",
       "</div>"
      ],
      "text/plain": [
       "Empty DataFrame\n",
       "Columns: [data_set, family, image_biomarker, consensus, benchmark_value, tolerance, your_result, difference, check, tag, pyradiomics_tag]\n",
       "Index: []"
      ]
     },
     "metadata": {},
     "output_type": "display_data"
    },
    {
     "name": "stdout",
     "output_type": "stream",
     "text": [
      "Fszm.lgze\n",
      "szm_lgze\n",
      "223    True\n",
      "Name: tag, dtype: bool\n"
     ]
    },
    {
     "data": {
      "text/plain": [
       "223   NaN\n",
       "Name: your_result, dtype: float64"
      ]
     },
     "metadata": {},
     "output_type": "display_data"
    },
    {
     "data": {
      "text/plain": [
       "223    0.018888\n",
       "Name: your_result, dtype: float64"
      ]
     },
     "metadata": {},
     "output_type": "display_data"
    },
    {
     "name": "stdout",
     "output_type": "stream",
     "text": [
      "original_glszm_LowGrayLevelZoneEmphasis\n"
     ]
    },
    {
     "data": {
      "text/html": [
       "<div>\n",
       "<style scoped>\n",
       "    .dataframe tbody tr th:only-of-type {\n",
       "        vertical-align: middle;\n",
       "    }\n",
       "\n",
       "    .dataframe tbody tr th {\n",
       "        vertical-align: top;\n",
       "    }\n",
       "\n",
       "    .dataframe thead th {\n",
       "        text-align: right;\n",
       "    }\n",
       "</style>\n",
       "<table border=\"1\" class=\"dataframe\">\n",
       "  <thead>\n",
       "    <tr style=\"text-align: right;\">\n",
       "      <th></th>\n",
       "      <th>data_set</th>\n",
       "      <th>family</th>\n",
       "      <th>image_biomarker</th>\n",
       "      <th>consensus</th>\n",
       "      <th>benchmark_value</th>\n",
       "      <th>tolerance</th>\n",
       "      <th>your_result</th>\n",
       "      <th>difference</th>\n",
       "      <th>check</th>\n",
       "      <th>tag</th>\n",
       "      <th>pyradiomics_tag</th>\n",
       "    </tr>\n",
       "  </thead>\n",
       "  <tbody>\n",
       "  </tbody>\n",
       "</table>\n",
       "</div>"
      ],
      "text/plain": [
       "Empty DataFrame\n",
       "Columns: [data_set, family, image_biomarker, consensus, benchmark_value, tolerance, your_result, difference, check, tag, pyradiomics_tag]\n",
       "Index: []"
      ]
     },
     "metadata": {},
     "output_type": "display_data"
    },
    {
     "name": "stdout",
     "output_type": "stream",
     "text": [
      "Fszm.zsnu\n",
      "szm_zsnu\n",
      "231    True\n",
      "232    True\n",
      "Name: tag, dtype: bool\n"
     ]
    },
    {
     "data": {
      "text/plain": [
       "231   NaN\n",
       "232   NaN\n",
       "Name: your_result, dtype: float64"
      ]
     },
     "metadata": {},
     "output_type": "display_data"
    },
    {
     "data": {
      "text/plain": [
       "231    1291.842513\n",
       "232    1291.842513\n",
       "Name: your_result, dtype: float64"
      ]
     },
     "metadata": {},
     "output_type": "display_data"
    },
    {
     "name": "stdout",
     "output_type": "stream",
     "text": [
      "original_glszm_SizeZoneNonUniformity\n"
     ]
    },
    {
     "data": {
      "text/html": [
       "<div>\n",
       "<style scoped>\n",
       "    .dataframe tbody tr th:only-of-type {\n",
       "        vertical-align: middle;\n",
       "    }\n",
       "\n",
       "    .dataframe tbody tr th {\n",
       "        vertical-align: top;\n",
       "    }\n",
       "\n",
       "    .dataframe thead th {\n",
       "        text-align: right;\n",
       "    }\n",
       "</style>\n",
       "<table border=\"1\" class=\"dataframe\">\n",
       "  <thead>\n",
       "    <tr style=\"text-align: right;\">\n",
       "      <th></th>\n",
       "      <th>data_set</th>\n",
       "      <th>family</th>\n",
       "      <th>image_biomarker</th>\n",
       "      <th>consensus</th>\n",
       "      <th>benchmark_value</th>\n",
       "      <th>tolerance</th>\n",
       "      <th>your_result</th>\n",
       "      <th>difference</th>\n",
       "      <th>check</th>\n",
       "      <th>tag</th>\n",
       "      <th>pyradiomics_tag</th>\n",
       "    </tr>\n",
       "  </thead>\n",
       "  <tbody>\n",
       "  </tbody>\n",
       "</table>\n",
       "</div>"
      ],
      "text/plain": [
       "Empty DataFrame\n",
       "Columns: [data_set, family, image_biomarker, consensus, benchmark_value, tolerance, your_result, difference, check, tag, pyradiomics_tag]\n",
       "Index: []"
      ]
     },
     "metadata": {},
     "output_type": "display_data"
    },
    {
     "name": "stdout",
     "output_type": "stream",
     "text": [
      "Fszm.zsnu.norm\n",
      "szm_zsnu_norm\n",
      "232    True\n",
      "Name: tag, dtype: bool\n"
     ]
    },
    {
     "data": {
      "text/plain": [
       "232    1291.842513\n",
       "Name: your_result, dtype: float64"
      ]
     },
     "metadata": {},
     "output_type": "display_data"
    },
    {
     "data": {
      "text/plain": [
       "232    0.357554\n",
       "Name: your_result, dtype: float64"
      ]
     },
     "metadata": {},
     "output_type": "display_data"
    },
    {
     "name": "stdout",
     "output_type": "stream",
     "text": [
      "original_glszm_SizeZoneNonUniformityNormalized\n"
     ]
    },
    {
     "data": {
      "text/html": [
       "<div>\n",
       "<style scoped>\n",
       "    .dataframe tbody tr th:only-of-type {\n",
       "        vertical-align: middle;\n",
       "    }\n",
       "\n",
       "    .dataframe tbody tr th {\n",
       "        vertical-align: top;\n",
       "    }\n",
       "\n",
       "    .dataframe thead th {\n",
       "        text-align: right;\n",
       "    }\n",
       "</style>\n",
       "<table border=\"1\" class=\"dataframe\">\n",
       "  <thead>\n",
       "    <tr style=\"text-align: right;\">\n",
       "      <th></th>\n",
       "      <th>data_set</th>\n",
       "      <th>family</th>\n",
       "      <th>image_biomarker</th>\n",
       "      <th>consensus</th>\n",
       "      <th>benchmark_value</th>\n",
       "      <th>tolerance</th>\n",
       "      <th>your_result</th>\n",
       "      <th>difference</th>\n",
       "      <th>check</th>\n",
       "      <th>tag</th>\n",
       "      <th>pyradiomics_tag</th>\n",
       "    </tr>\n",
       "  </thead>\n",
       "  <tbody>\n",
       "  </tbody>\n",
       "</table>\n",
       "</div>"
      ],
      "text/plain": [
       "Empty DataFrame\n",
       "Columns: [data_set, family, image_biomarker, consensus, benchmark_value, tolerance, your_result, difference, check, tag, pyradiomics_tag]\n",
       "Index: []"
      ]
     },
     "metadata": {},
     "output_type": "display_data"
    },
    {
     "name": "stdout",
     "output_type": "stream",
     "text": [
      "Fszm.sze\n",
      "szm_sze\n",
      "221    True\n",
      "Name: tag, dtype: bool\n"
     ]
    },
    {
     "data": {
      "text/plain": [
       "221   NaN\n",
       "Name: your_result, dtype: float64"
      ]
     },
     "metadata": {},
     "output_type": "display_data"
    },
    {
     "data": {
      "text/plain": [
       "221    0.620081\n",
       "Name: your_result, dtype: float64"
      ]
     },
     "metadata": {},
     "output_type": "display_data"
    },
    {
     "name": "stdout",
     "output_type": "stream",
     "text": [
      "original_glszm_SmallAreaEmphasis\n"
     ]
    },
    {
     "data": {
      "text/html": [
       "<div>\n",
       "<style scoped>\n",
       "    .dataframe tbody tr th:only-of-type {\n",
       "        vertical-align: middle;\n",
       "    }\n",
       "\n",
       "    .dataframe tbody tr th {\n",
       "        vertical-align: top;\n",
       "    }\n",
       "\n",
       "    .dataframe thead th {\n",
       "        text-align: right;\n",
       "    }\n",
       "</style>\n",
       "<table border=\"1\" class=\"dataframe\">\n",
       "  <thead>\n",
       "    <tr style=\"text-align: right;\">\n",
       "      <th></th>\n",
       "      <th>data_set</th>\n",
       "      <th>family</th>\n",
       "      <th>image_biomarker</th>\n",
       "      <th>consensus</th>\n",
       "      <th>benchmark_value</th>\n",
       "      <th>tolerance</th>\n",
       "      <th>your_result</th>\n",
       "      <th>difference</th>\n",
       "      <th>check</th>\n",
       "      <th>tag</th>\n",
       "      <th>pyradiomics_tag</th>\n",
       "    </tr>\n",
       "  </thead>\n",
       "  <tbody>\n",
       "  </tbody>\n",
       "</table>\n",
       "</div>"
      ],
      "text/plain": [
       "Empty DataFrame\n",
       "Columns: [data_set, family, image_biomarker, consensus, benchmark_value, tolerance, your_result, difference, check, tag, pyradiomics_tag]\n",
       "Index: []"
      ]
     },
     "metadata": {},
     "output_type": "display_data"
    },
    {
     "name": "stdout",
     "output_type": "stream",
     "text": [
      "Fszm.szhge\n",
      "szm_szhge\n",
      "226    True\n",
      "Name: tag, dtype: bool\n"
     ]
    },
    {
     "data": {
      "text/plain": [
       "226   NaN\n",
       "Name: your_result, dtype: float64"
      ]
     },
     "metadata": {},
     "output_type": "display_data"
    },
    {
     "data": {
      "text/plain": [
       "226    126.071298\n",
       "Name: your_result, dtype: float64"
      ]
     },
     "metadata": {},
     "output_type": "display_data"
    },
    {
     "name": "stdout",
     "output_type": "stream",
     "text": [
      "original_glszm_SmallAreaHighGrayLevelEmphasis\n"
     ]
    },
    {
     "data": {
      "text/html": [
       "<div>\n",
       "<style scoped>\n",
       "    .dataframe tbody tr th:only-of-type {\n",
       "        vertical-align: middle;\n",
       "    }\n",
       "\n",
       "    .dataframe tbody tr th {\n",
       "        vertical-align: top;\n",
       "    }\n",
       "\n",
       "    .dataframe thead th {\n",
       "        text-align: right;\n",
       "    }\n",
       "</style>\n",
       "<table border=\"1\" class=\"dataframe\">\n",
       "  <thead>\n",
       "    <tr style=\"text-align: right;\">\n",
       "      <th></th>\n",
       "      <th>data_set</th>\n",
       "      <th>family</th>\n",
       "      <th>image_biomarker</th>\n",
       "      <th>consensus</th>\n",
       "      <th>benchmark_value</th>\n",
       "      <th>tolerance</th>\n",
       "      <th>your_result</th>\n",
       "      <th>difference</th>\n",
       "      <th>check</th>\n",
       "      <th>tag</th>\n",
       "      <th>pyradiomics_tag</th>\n",
       "    </tr>\n",
       "  </thead>\n",
       "  <tbody>\n",
       "  </tbody>\n",
       "</table>\n",
       "</div>"
      ],
      "text/plain": [
       "Empty DataFrame\n",
       "Columns: [data_set, family, image_biomarker, consensus, benchmark_value, tolerance, your_result, difference, check, tag, pyradiomics_tag]\n",
       "Index: []"
      ]
     },
     "metadata": {},
     "output_type": "display_data"
    },
    {
     "name": "stdout",
     "output_type": "stream",
     "text": [
      "Fszm.szlge\n",
      "szm_szlge\n",
      "225    True\n",
      "Name: tag, dtype: bool\n"
     ]
    },
    {
     "data": {
      "text/plain": [
       "225   NaN\n",
       "Name: your_result, dtype: float64"
      ]
     },
     "metadata": {},
     "output_type": "display_data"
    },
    {
     "data": {
      "text/plain": [
       "225    0.011511\n",
       "Name: your_result, dtype: float64"
      ]
     },
     "metadata": {},
     "output_type": "display_data"
    },
    {
     "name": "stdout",
     "output_type": "stream",
     "text": [
      "original_glszm_SmallAreaLowGrayLevelEmphasis\n"
     ]
    },
    {
     "data": {
      "text/html": [
       "<div>\n",
       "<style scoped>\n",
       "    .dataframe tbody tr th:only-of-type {\n",
       "        vertical-align: middle;\n",
       "    }\n",
       "\n",
       "    .dataframe tbody tr th {\n",
       "        vertical-align: top;\n",
       "    }\n",
       "\n",
       "    .dataframe thead th {\n",
       "        text-align: right;\n",
       "    }\n",
       "</style>\n",
       "<table border=\"1\" class=\"dataframe\">\n",
       "  <thead>\n",
       "    <tr style=\"text-align: right;\">\n",
       "      <th></th>\n",
       "      <th>data_set</th>\n",
       "      <th>family</th>\n",
       "      <th>image_biomarker</th>\n",
       "      <th>consensus</th>\n",
       "      <th>benchmark_value</th>\n",
       "      <th>tolerance</th>\n",
       "      <th>your_result</th>\n",
       "      <th>difference</th>\n",
       "      <th>check</th>\n",
       "      <th>tag</th>\n",
       "      <th>pyradiomics_tag</th>\n",
       "    </tr>\n",
       "  </thead>\n",
       "  <tbody>\n",
       "  </tbody>\n",
       "</table>\n",
       "</div>"
      ],
      "text/plain": [
       "Empty DataFrame\n",
       "Columns: [data_set, family, image_biomarker, consensus, benchmark_value, tolerance, your_result, difference, check, tag, pyradiomics_tag]\n",
       "Index: []"
      ]
     },
     "metadata": {},
     "output_type": "display_data"
    },
    {
     "name": "stdout",
     "output_type": "stream",
     "text": [
      "Fszm.zs.entr\n",
      "szm_zs_entr\n",
      "236    True\n",
      "Name: tag, dtype: bool\n"
     ]
    },
    {
     "data": {
      "text/plain": [
       "236   NaN\n",
       "Name: your_result, dtype: float64"
      ]
     },
     "metadata": {},
     "output_type": "display_data"
    },
    {
     "data": {
      "text/plain": [
       "236    6.4971\n",
       "Name: your_result, dtype: float64"
      ]
     },
     "metadata": {},
     "output_type": "display_data"
    },
    {
     "name": "stdout",
     "output_type": "stream",
     "text": [
      "original_glszm_ZoneEntropy\n"
     ]
    },
    {
     "data": {
      "text/html": [
       "<div>\n",
       "<style scoped>\n",
       "    .dataframe tbody tr th:only-of-type {\n",
       "        vertical-align: middle;\n",
       "    }\n",
       "\n",
       "    .dataframe tbody tr th {\n",
       "        vertical-align: top;\n",
       "    }\n",
       "\n",
       "    .dataframe thead th {\n",
       "        text-align: right;\n",
       "    }\n",
       "</style>\n",
       "<table border=\"1\" class=\"dataframe\">\n",
       "  <thead>\n",
       "    <tr style=\"text-align: right;\">\n",
       "      <th></th>\n",
       "      <th>data_set</th>\n",
       "      <th>family</th>\n",
       "      <th>image_biomarker</th>\n",
       "      <th>consensus</th>\n",
       "      <th>benchmark_value</th>\n",
       "      <th>tolerance</th>\n",
       "      <th>your_result</th>\n",
       "      <th>difference</th>\n",
       "      <th>check</th>\n",
       "      <th>tag</th>\n",
       "      <th>pyradiomics_tag</th>\n",
       "    </tr>\n",
       "  </thead>\n",
       "  <tbody>\n",
       "  </tbody>\n",
       "</table>\n",
       "</div>"
      ],
      "text/plain": [
       "Empty DataFrame\n",
       "Columns: [data_set, family, image_biomarker, consensus, benchmark_value, tolerance, your_result, difference, check, tag, pyradiomics_tag]\n",
       "Index: []"
      ]
     },
     "metadata": {},
     "output_type": "display_data"
    },
    {
     "name": "stdout",
     "output_type": "stream",
     "text": [
      "Fszm.z.perc\n",
      "szm_z_perc\n",
      "233    True\n",
      "Name: tag, dtype: bool\n"
     ]
    },
    {
     "data": {
      "text/plain": [
       "233   NaN\n",
       "Name: your_result, dtype: float64"
      ]
     },
     "metadata": {},
     "output_type": "display_data"
    },
    {
     "data": {
      "text/plain": [
       "233    0.080098\n",
       "Name: your_result, dtype: float64"
      ]
     },
     "metadata": {},
     "output_type": "display_data"
    },
    {
     "name": "stdout",
     "output_type": "stream",
     "text": [
      "original_glszm_ZonePercentage\n"
     ]
    },
    {
     "data": {
      "text/html": [
       "<div>\n",
       "<style scoped>\n",
       "    .dataframe tbody tr th:only-of-type {\n",
       "        vertical-align: middle;\n",
       "    }\n",
       "\n",
       "    .dataframe tbody tr th {\n",
       "        vertical-align: top;\n",
       "    }\n",
       "\n",
       "    .dataframe thead th {\n",
       "        text-align: right;\n",
       "    }\n",
       "</style>\n",
       "<table border=\"1\" class=\"dataframe\">\n",
       "  <thead>\n",
       "    <tr style=\"text-align: right;\">\n",
       "      <th></th>\n",
       "      <th>data_set</th>\n",
       "      <th>family</th>\n",
       "      <th>image_biomarker</th>\n",
       "      <th>consensus</th>\n",
       "      <th>benchmark_value</th>\n",
       "      <th>tolerance</th>\n",
       "      <th>your_result</th>\n",
       "      <th>difference</th>\n",
       "      <th>check</th>\n",
       "      <th>tag</th>\n",
       "      <th>pyradiomics_tag</th>\n",
       "    </tr>\n",
       "  </thead>\n",
       "  <tbody>\n",
       "  </tbody>\n",
       "</table>\n",
       "</div>"
      ],
      "text/plain": [
       "Empty DataFrame\n",
       "Columns: [data_set, family, image_biomarker, consensus, benchmark_value, tolerance, your_result, difference, check, tag, pyradiomics_tag]\n",
       "Index: []"
      ]
     },
     "metadata": {},
     "output_type": "display_data"
    },
    {
     "name": "stdout",
     "output_type": "stream",
     "text": [
      "Fszm.zs.var\n",
      "szm_zs_var\n",
      "235    True\n",
      "Name: tag, dtype: bool\n"
     ]
    },
    {
     "data": {
      "text/plain": [
       "235   NaN\n",
       "Name: your_result, dtype: float64"
      ]
     },
     "metadata": {},
     "output_type": "display_data"
    },
    {
     "data": {
      "text/plain": [
       "235    133899.031386\n",
       "Name: your_result, dtype: float64"
      ]
     },
     "metadata": {},
     "output_type": "display_data"
    },
    {
     "name": "stdout",
     "output_type": "stream",
     "text": [
      "original_glszm_ZoneVariance\n"
     ]
    },
    {
     "data": {
      "text/html": [
       "<div>\n",
       "<style scoped>\n",
       "    .dataframe tbody tr th:only-of-type {\n",
       "        vertical-align: middle;\n",
       "    }\n",
       "\n",
       "    .dataframe tbody tr th {\n",
       "        vertical-align: top;\n",
       "    }\n",
       "\n",
       "    .dataframe thead th {\n",
       "        text-align: right;\n",
       "    }\n",
       "</style>\n",
       "<table border=\"1\" class=\"dataframe\">\n",
       "  <thead>\n",
       "    <tr style=\"text-align: right;\">\n",
       "      <th></th>\n",
       "      <th>data_set</th>\n",
       "      <th>family</th>\n",
       "      <th>image_biomarker</th>\n",
       "      <th>consensus</th>\n",
       "      <th>benchmark_value</th>\n",
       "      <th>tolerance</th>\n",
       "      <th>your_result</th>\n",
       "      <th>difference</th>\n",
       "      <th>check</th>\n",
       "      <th>tag</th>\n",
       "      <th>pyradiomics_tag</th>\n",
       "    </tr>\n",
       "  </thead>\n",
       "  <tbody>\n",
       "  </tbody>\n",
       "</table>\n",
       "</div>"
      ],
      "text/plain": [
       "Empty DataFrame\n",
       "Columns: [data_set, family, image_biomarker, consensus, benchmark_value, tolerance, your_result, difference, check, tag, pyradiomics_tag]\n",
       "Index: []"
      ]
     },
     "metadata": {},
     "output_type": "display_data"
    },
    {
     "name": "stdout",
     "output_type": "stream",
     "text": [
      "Fdzm.de\n",
      "dzm_de\n",
      "Series([], Name: tag, dtype: bool)\n"
     ]
    },
    {
     "data": {
      "text/plain": [
       "Series([], Name: your_result, dtype: float64)"
      ]
     },
     "metadata": {},
     "output_type": "display_data"
    },
    {
     "data": {
      "text/plain": [
       "Series([], Name: your_result, dtype: float64)"
      ]
     },
     "metadata": {},
     "output_type": "display_data"
    },
    {
     "name": "stdout",
     "output_type": "stream",
     "text": [
      "original_gldm_DependenceEntropy\n"
     ]
    },
    {
     "data": {
      "text/html": [
       "<div>\n",
       "<style scoped>\n",
       "    .dataframe tbody tr th:only-of-type {\n",
       "        vertical-align: middle;\n",
       "    }\n",
       "\n",
       "    .dataframe tbody tr th {\n",
       "        vertical-align: top;\n",
       "    }\n",
       "\n",
       "    .dataframe thead th {\n",
       "        text-align: right;\n",
       "    }\n",
       "</style>\n",
       "<table border=\"1\" class=\"dataframe\">\n",
       "  <thead>\n",
       "    <tr style=\"text-align: right;\">\n",
       "      <th></th>\n",
       "      <th>data_set</th>\n",
       "      <th>family</th>\n",
       "      <th>image_biomarker</th>\n",
       "      <th>consensus</th>\n",
       "      <th>benchmark_value</th>\n",
       "      <th>tolerance</th>\n",
       "      <th>your_result</th>\n",
       "      <th>difference</th>\n",
       "      <th>check</th>\n",
       "      <th>tag</th>\n",
       "      <th>pyradiomics_tag</th>\n",
       "    </tr>\n",
       "  </thead>\n",
       "  <tbody>\n",
       "  </tbody>\n",
       "</table>\n",
       "</div>"
      ],
      "text/plain": [
       "Empty DataFrame\n",
       "Columns: [data_set, family, image_biomarker, consensus, benchmark_value, tolerance, your_result, difference, check, tag, pyradiomics_tag]\n",
       "Index: []"
      ]
     },
     "metadata": {},
     "output_type": "display_data"
    },
    {
     "name": "stdout",
     "output_type": "stream",
     "text": [
      "Fdzm.zdnu\n",
      "dzm_zdnu\n",
      "247    True\n",
      "248    True\n",
      "Name: tag, dtype: bool\n"
     ]
    },
    {
     "data": {
      "text/plain": [
       "247   NaN\n",
       "248   NaN\n",
       "Name: your_result, dtype: float64"
      ]
     },
     "metadata": {},
     "output_type": "display_data"
    },
    {
     "data": {
      "text/plain": [
       "247    1769.189372\n",
       "248    1769.189372\n",
       "Name: your_result, dtype: float64"
      ]
     },
     "metadata": {},
     "output_type": "display_data"
    },
    {
     "name": "stdout",
     "output_type": "stream",
     "text": [
      "original_gldm_DependenceNonUniformity\n"
     ]
    },
    {
     "data": {
      "text/html": [
       "<div>\n",
       "<style scoped>\n",
       "    .dataframe tbody tr th:only-of-type {\n",
       "        vertical-align: middle;\n",
       "    }\n",
       "\n",
       "    .dataframe tbody tr th {\n",
       "        vertical-align: top;\n",
       "    }\n",
       "\n",
       "    .dataframe thead th {\n",
       "        text-align: right;\n",
       "    }\n",
       "</style>\n",
       "<table border=\"1\" class=\"dataframe\">\n",
       "  <thead>\n",
       "    <tr style=\"text-align: right;\">\n",
       "      <th></th>\n",
       "      <th>data_set</th>\n",
       "      <th>family</th>\n",
       "      <th>image_biomarker</th>\n",
       "      <th>consensus</th>\n",
       "      <th>benchmark_value</th>\n",
       "      <th>tolerance</th>\n",
       "      <th>your_result</th>\n",
       "      <th>difference</th>\n",
       "      <th>check</th>\n",
       "      <th>tag</th>\n",
       "      <th>pyradiomics_tag</th>\n",
       "    </tr>\n",
       "  </thead>\n",
       "  <tbody>\n",
       "  </tbody>\n",
       "</table>\n",
       "</div>"
      ],
      "text/plain": [
       "Empty DataFrame\n",
       "Columns: [data_set, family, image_biomarker, consensus, benchmark_value, tolerance, your_result, difference, check, tag, pyradiomics_tag]\n",
       "Index: []"
      ]
     },
     "metadata": {},
     "output_type": "display_data"
    },
    {
     "name": "stdout",
     "output_type": "stream",
     "text": [
      "Fdzm.zdnu.norm\n",
      "dzm_zdnu_norm\n",
      "248    True\n",
      "Name: tag, dtype: bool\n"
     ]
    },
    {
     "data": {
      "text/plain": [
       "248    1769.189372\n",
       "Name: your_result, dtype: float64"
      ]
     },
     "metadata": {},
     "output_type": "display_data"
    },
    {
     "data": {
      "text/plain": [
       "248    0.039222\n",
       "Name: your_result, dtype: float64"
      ]
     },
     "metadata": {},
     "output_type": "display_data"
    },
    {
     "name": "stdout",
     "output_type": "stream",
     "text": [
      "original_gldm_DependenceNonUniformityNormalized\n"
     ]
    },
    {
     "data": {
      "text/html": [
       "<div>\n",
       "<style scoped>\n",
       "    .dataframe tbody tr th:only-of-type {\n",
       "        vertical-align: middle;\n",
       "    }\n",
       "\n",
       "    .dataframe tbody tr th {\n",
       "        vertical-align: top;\n",
       "    }\n",
       "\n",
       "    .dataframe thead th {\n",
       "        text-align: right;\n",
       "    }\n",
       "</style>\n",
       "<table border=\"1\" class=\"dataframe\">\n",
       "  <thead>\n",
       "    <tr style=\"text-align: right;\">\n",
       "      <th></th>\n",
       "      <th>data_set</th>\n",
       "      <th>family</th>\n",
       "      <th>image_biomarker</th>\n",
       "      <th>consensus</th>\n",
       "      <th>benchmark_value</th>\n",
       "      <th>tolerance</th>\n",
       "      <th>your_result</th>\n",
       "      <th>difference</th>\n",
       "      <th>check</th>\n",
       "      <th>tag</th>\n",
       "      <th>pyradiomics_tag</th>\n",
       "    </tr>\n",
       "  </thead>\n",
       "  <tbody>\n",
       "  </tbody>\n",
       "</table>\n",
       "</div>"
      ],
      "text/plain": [
       "Empty DataFrame\n",
       "Columns: [data_set, family, image_biomarker, consensus, benchmark_value, tolerance, your_result, difference, check, tag, pyradiomics_tag]\n",
       "Index: []"
      ]
     },
     "metadata": {},
     "output_type": "display_data"
    },
    {
     "name": "stdout",
     "output_type": "stream",
     "text": [
      "Fdzm.zd.var\n",
      "dzm_zd_var\n",
      "251    True\n",
      "Name: tag, dtype: bool\n"
     ]
    },
    {
     "data": {
      "text/plain": [
       "251   NaN\n",
       "Name: your_result, dtype: float64"
      ]
     },
     "metadata": {},
     "output_type": "display_data"
    },
    {
     "data": {
      "text/plain": [
       "251    70.315897\n",
       "Name: your_result, dtype: float64"
      ]
     },
     "metadata": {},
     "output_type": "display_data"
    },
    {
     "name": "stdout",
     "output_type": "stream",
     "text": [
      "original_gldm_DependenceVariance\n"
     ]
    },
    {
     "data": {
      "text/html": [
       "<div>\n",
       "<style scoped>\n",
       "    .dataframe tbody tr th:only-of-type {\n",
       "        vertical-align: middle;\n",
       "    }\n",
       "\n",
       "    .dataframe tbody tr th {\n",
       "        vertical-align: top;\n",
       "    }\n",
       "\n",
       "    .dataframe thead th {\n",
       "        text-align: right;\n",
       "    }\n",
       "</style>\n",
       "<table border=\"1\" class=\"dataframe\">\n",
       "  <thead>\n",
       "    <tr style=\"text-align: right;\">\n",
       "      <th></th>\n",
       "      <th>data_set</th>\n",
       "      <th>family</th>\n",
       "      <th>image_biomarker</th>\n",
       "      <th>consensus</th>\n",
       "      <th>benchmark_value</th>\n",
       "      <th>tolerance</th>\n",
       "      <th>your_result</th>\n",
       "      <th>difference</th>\n",
       "      <th>check</th>\n",
       "      <th>tag</th>\n",
       "      <th>pyradiomics_tag</th>\n",
       "    </tr>\n",
       "  </thead>\n",
       "  <tbody>\n",
       "  </tbody>\n",
       "</table>\n",
       "</div>"
      ],
      "text/plain": [
       "Empty DataFrame\n",
       "Columns: [data_set, family, image_biomarker, consensus, benchmark_value, tolerance, your_result, difference, check, tag, pyradiomics_tag]\n",
       "Index: []"
      ]
     },
     "metadata": {},
     "output_type": "display_data"
    },
    {
     "name": "stdout",
     "output_type": "stream",
     "text": [
      "Fdzm.glnu\n",
      "dzm_glnu\n",
      "245    True\n",
      "246    True\n",
      "Name: tag, dtype: bool\n"
     ]
    },
    {
     "data": {
      "text/plain": [
       "245   NaN\n",
       "246   NaN\n",
       "Name: your_result, dtype: float64"
      ]
     },
     "metadata": {},
     "output_type": "display_data"
    },
    {
     "data": {
      "text/plain": [
       "245    11503.247988\n",
       "246    11503.247988\n",
       "Name: your_result, dtype: float64"
      ]
     },
     "metadata": {},
     "output_type": "display_data"
    },
    {
     "name": "stdout",
     "output_type": "stream",
     "text": [
      "original_gldm_GrayLevelNonUniformity\n"
     ]
    },
    {
     "data": {
      "text/html": [
       "<div>\n",
       "<style scoped>\n",
       "    .dataframe tbody tr th:only-of-type {\n",
       "        vertical-align: middle;\n",
       "    }\n",
       "\n",
       "    .dataframe tbody tr th {\n",
       "        vertical-align: top;\n",
       "    }\n",
       "\n",
       "    .dataframe thead th {\n",
       "        text-align: right;\n",
       "    }\n",
       "</style>\n",
       "<table border=\"1\" class=\"dataframe\">\n",
       "  <thead>\n",
       "    <tr style=\"text-align: right;\">\n",
       "      <th></th>\n",
       "      <th>data_set</th>\n",
       "      <th>family</th>\n",
       "      <th>image_biomarker</th>\n",
       "      <th>consensus</th>\n",
       "      <th>benchmark_value</th>\n",
       "      <th>tolerance</th>\n",
       "      <th>your_result</th>\n",
       "      <th>difference</th>\n",
       "      <th>check</th>\n",
       "      <th>tag</th>\n",
       "      <th>pyradiomics_tag</th>\n",
       "    </tr>\n",
       "  </thead>\n",
       "  <tbody>\n",
       "  </tbody>\n",
       "</table>\n",
       "</div>"
      ],
      "text/plain": [
       "Empty DataFrame\n",
       "Columns: [data_set, family, image_biomarker, consensus, benchmark_value, tolerance, your_result, difference, check, tag, pyradiomics_tag]\n",
       "Index: []"
      ]
     },
     "metadata": {},
     "output_type": "display_data"
    },
    {
     "name": "stdout",
     "output_type": "stream",
     "text": [
      "Fdzm.gl.var\n",
      "dzm_gl_var\n",
      "250    True\n",
      "Name: tag, dtype: bool\n"
     ]
    },
    {
     "data": {
      "text/plain": [
       "250   NaN\n",
       "Name: your_result, dtype: float64"
      ]
     },
     "metadata": {},
     "output_type": "display_data"
    },
    {
     "data": {
      "text/plain": [
       "250    20.683679\n",
       "Name: your_result, dtype: float64"
      ]
     },
     "metadata": {},
     "output_type": "display_data"
    },
    {
     "name": "stdout",
     "output_type": "stream",
     "text": [
      "original_gldm_GrayLevelVariance\n"
     ]
    },
    {
     "data": {
      "text/html": [
       "<div>\n",
       "<style scoped>\n",
       "    .dataframe tbody tr th:only-of-type {\n",
       "        vertical-align: middle;\n",
       "    }\n",
       "\n",
       "    .dataframe tbody tr th {\n",
       "        vertical-align: top;\n",
       "    }\n",
       "\n",
       "    .dataframe thead th {\n",
       "        text-align: right;\n",
       "    }\n",
       "</style>\n",
       "<table border=\"1\" class=\"dataframe\">\n",
       "  <thead>\n",
       "    <tr style=\"text-align: right;\">\n",
       "      <th></th>\n",
       "      <th>data_set</th>\n",
       "      <th>family</th>\n",
       "      <th>image_biomarker</th>\n",
       "      <th>consensus</th>\n",
       "      <th>benchmark_value</th>\n",
       "      <th>tolerance</th>\n",
       "      <th>your_result</th>\n",
       "      <th>difference</th>\n",
       "      <th>check</th>\n",
       "      <th>tag</th>\n",
       "      <th>pyradiomics_tag</th>\n",
       "    </tr>\n",
       "  </thead>\n",
       "  <tbody>\n",
       "  </tbody>\n",
       "</table>\n",
       "</div>"
      ],
      "text/plain": [
       "Empty DataFrame\n",
       "Columns: [data_set, family, image_biomarker, consensus, benchmark_value, tolerance, your_result, difference, check, tag, pyradiomics_tag]\n",
       "Index: []"
      ]
     },
     "metadata": {},
     "output_type": "display_data"
    },
    {
     "name": "stdout",
     "output_type": "stream",
     "text": [
      "Fdzm.hgze\n",
      "dzm_hgze\n",
      "240    True\n",
      "Name: tag, dtype: bool\n"
     ]
    },
    {
     "data": {
      "text/plain": [
       "240   NaN\n",
       "Name: your_result, dtype: float64"
      ]
     },
     "metadata": {},
     "output_type": "display_data"
    },
    {
     "data": {
      "text/plain": [
       "240    371.467422\n",
       "Name: your_result, dtype: float64"
      ]
     },
     "metadata": {},
     "output_type": "display_data"
    },
    {
     "name": "stdout",
     "output_type": "stream",
     "text": [
      "original_gldm_HighGrayLevelEmphasis\n"
     ]
    },
    {
     "data": {
      "text/html": [
       "<div>\n",
       "<style scoped>\n",
       "    .dataframe tbody tr th:only-of-type {\n",
       "        vertical-align: middle;\n",
       "    }\n",
       "\n",
       "    .dataframe tbody tr th {\n",
       "        vertical-align: top;\n",
       "    }\n",
       "\n",
       "    .dataframe thead th {\n",
       "        text-align: right;\n",
       "    }\n",
       "</style>\n",
       "<table border=\"1\" class=\"dataframe\">\n",
       "  <thead>\n",
       "    <tr style=\"text-align: right;\">\n",
       "      <th></th>\n",
       "      <th>data_set</th>\n",
       "      <th>family</th>\n",
       "      <th>image_biomarker</th>\n",
       "      <th>consensus</th>\n",
       "      <th>benchmark_value</th>\n",
       "      <th>tolerance</th>\n",
       "      <th>your_result</th>\n",
       "      <th>difference</th>\n",
       "      <th>check</th>\n",
       "      <th>tag</th>\n",
       "      <th>pyradiomics_tag</th>\n",
       "    </tr>\n",
       "  </thead>\n",
       "  <tbody>\n",
       "  </tbody>\n",
       "</table>\n",
       "</div>"
      ],
      "text/plain": [
       "Empty DataFrame\n",
       "Columns: [data_set, family, image_biomarker, consensus, benchmark_value, tolerance, your_result, difference, check, tag, pyradiomics_tag]\n",
       "Index: []"
      ]
     },
     "metadata": {},
     "output_type": "display_data"
    },
    {
     "name": "stdout",
     "output_type": "stream",
     "text": [
      "Fdzm.lde\n",
      "dzm_lde\n",
      "238    True\n",
      "Name: tag, dtype: bool\n"
     ]
    },
    {
     "data": {
      "text/plain": [
       "238   NaN\n",
       "Name: your_result, dtype: float64"
      ]
     },
     "metadata": {},
     "output_type": "display_data"
    },
    {
     "data": {
      "text/plain": [
       "238    261.193274\n",
       "Name: your_result, dtype: float64"
      ]
     },
     "metadata": {},
     "output_type": "display_data"
    },
    {
     "name": "stdout",
     "output_type": "stream",
     "text": [
      "original_gldm_LargeDependenceEmphasis\n"
     ]
    },
    {
     "data": {
      "text/html": [
       "<div>\n",
       "<style scoped>\n",
       "    .dataframe tbody tr th:only-of-type {\n",
       "        vertical-align: middle;\n",
       "    }\n",
       "\n",
       "    .dataframe tbody tr th {\n",
       "        vertical-align: top;\n",
       "    }\n",
       "\n",
       "    .dataframe thead th {\n",
       "        text-align: right;\n",
       "    }\n",
       "</style>\n",
       "<table border=\"1\" class=\"dataframe\">\n",
       "  <thead>\n",
       "    <tr style=\"text-align: right;\">\n",
       "      <th></th>\n",
       "      <th>data_set</th>\n",
       "      <th>family</th>\n",
       "      <th>image_biomarker</th>\n",
       "      <th>consensus</th>\n",
       "      <th>benchmark_value</th>\n",
       "      <th>tolerance</th>\n",
       "      <th>your_result</th>\n",
       "      <th>difference</th>\n",
       "      <th>check</th>\n",
       "      <th>tag</th>\n",
       "      <th>pyradiomics_tag</th>\n",
       "    </tr>\n",
       "  </thead>\n",
       "  <tbody>\n",
       "  </tbody>\n",
       "</table>\n",
       "</div>"
      ],
      "text/plain": [
       "Empty DataFrame\n",
       "Columns: [data_set, family, image_biomarker, consensus, benchmark_value, tolerance, your_result, difference, check, tag, pyradiomics_tag]\n",
       "Index: []"
      ]
     },
     "metadata": {},
     "output_type": "display_data"
    },
    {
     "name": "stdout",
     "output_type": "stream",
     "text": [
      "Fdzm.ldhge\n",
      "dzm_ldhge\n",
      "244    True\n",
      "Name: tag, dtype: bool\n"
     ]
    },
    {
     "data": {
      "text/plain": [
       "244   NaN\n",
       "Name: your_result, dtype: float64"
      ]
     },
     "metadata": {},
     "output_type": "display_data"
    },
    {
     "data": {
      "text/plain": [
       "244    110158.007249\n",
       "Name: your_result, dtype: float64"
      ]
     },
     "metadata": {},
     "output_type": "display_data"
    },
    {
     "name": "stdout",
     "output_type": "stream",
     "text": [
      "original_gldm_LargeDependenceHighGrayLevelEmphasis\n"
     ]
    },
    {
     "data": {
      "text/html": [
       "<div>\n",
       "<style scoped>\n",
       "    .dataframe tbody tr th:only-of-type {\n",
       "        vertical-align: middle;\n",
       "    }\n",
       "\n",
       "    .dataframe tbody tr th {\n",
       "        vertical-align: top;\n",
       "    }\n",
       "\n",
       "    .dataframe thead th {\n",
       "        text-align: right;\n",
       "    }\n",
       "</style>\n",
       "<table border=\"1\" class=\"dataframe\">\n",
       "  <thead>\n",
       "    <tr style=\"text-align: right;\">\n",
       "      <th></th>\n",
       "      <th>data_set</th>\n",
       "      <th>family</th>\n",
       "      <th>image_biomarker</th>\n",
       "      <th>consensus</th>\n",
       "      <th>benchmark_value</th>\n",
       "      <th>tolerance</th>\n",
       "      <th>your_result</th>\n",
       "      <th>difference</th>\n",
       "      <th>check</th>\n",
       "      <th>tag</th>\n",
       "      <th>pyradiomics_tag</th>\n",
       "    </tr>\n",
       "  </thead>\n",
       "  <tbody>\n",
       "  </tbody>\n",
       "</table>\n",
       "</div>"
      ],
      "text/plain": [
       "Empty DataFrame\n",
       "Columns: [data_set, family, image_biomarker, consensus, benchmark_value, tolerance, your_result, difference, check, tag, pyradiomics_tag]\n",
       "Index: []"
      ]
     },
     "metadata": {},
     "output_type": "display_data"
    },
    {
     "name": "stdout",
     "output_type": "stream",
     "text": [
      "Fdzm.ldlge\n",
      "dzm_ldlge\n",
      "243    True\n",
      "Name: tag, dtype: bool\n"
     ]
    },
    {
     "data": {
      "text/plain": [
       "243   NaN\n",
       "Name: your_result, dtype: float64"
      ]
     },
     "metadata": {},
     "output_type": "display_data"
    },
    {
     "data": {
      "text/plain": [
       "243    0.855692\n",
       "Name: your_result, dtype: float64"
      ]
     },
     "metadata": {},
     "output_type": "display_data"
    },
    {
     "name": "stdout",
     "output_type": "stream",
     "text": [
      "original_gldm_LargeDependenceLowGrayLevelEmphasis\n"
     ]
    },
    {
     "data": {
      "text/html": [
       "<div>\n",
       "<style scoped>\n",
       "    .dataframe tbody tr th:only-of-type {\n",
       "        vertical-align: middle;\n",
       "    }\n",
       "\n",
       "    .dataframe tbody tr th {\n",
       "        vertical-align: top;\n",
       "    }\n",
       "\n",
       "    .dataframe thead th {\n",
       "        text-align: right;\n",
       "    }\n",
       "</style>\n",
       "<table border=\"1\" class=\"dataframe\">\n",
       "  <thead>\n",
       "    <tr style=\"text-align: right;\">\n",
       "      <th></th>\n",
       "      <th>data_set</th>\n",
       "      <th>family</th>\n",
       "      <th>image_biomarker</th>\n",
       "      <th>consensus</th>\n",
       "      <th>benchmark_value</th>\n",
       "      <th>tolerance</th>\n",
       "      <th>your_result</th>\n",
       "      <th>difference</th>\n",
       "      <th>check</th>\n",
       "      <th>tag</th>\n",
       "      <th>pyradiomics_tag</th>\n",
       "    </tr>\n",
       "  </thead>\n",
       "  <tbody>\n",
       "  </tbody>\n",
       "</table>\n",
       "</div>"
      ],
      "text/plain": [
       "Empty DataFrame\n",
       "Columns: [data_set, family, image_biomarker, consensus, benchmark_value, tolerance, your_result, difference, check, tag, pyradiomics_tag]\n",
       "Index: []"
      ]
     },
     "metadata": {},
     "output_type": "display_data"
    },
    {
     "name": "stdout",
     "output_type": "stream",
     "text": [
      "Fdzm.lgze\n",
      "dzm_lgze\n",
      "239    True\n",
      "Name: tag, dtype: bool\n"
     ]
    },
    {
     "data": {
      "text/plain": [
       "239   NaN\n",
       "Name: your_result, dtype: float64"
      ]
     },
     "metadata": {},
     "output_type": "display_data"
    },
    {
     "data": {
      "text/plain": [
       "239    0.008239\n",
       "Name: your_result, dtype: float64"
      ]
     },
     "metadata": {},
     "output_type": "display_data"
    },
    {
     "name": "stdout",
     "output_type": "stream",
     "text": [
      "original_gldm_LowGrayLevelEmphasis\n"
     ]
    },
    {
     "data": {
      "text/html": [
       "<div>\n",
       "<style scoped>\n",
       "    .dataframe tbody tr th:only-of-type {\n",
       "        vertical-align: middle;\n",
       "    }\n",
       "\n",
       "    .dataframe tbody tr th {\n",
       "        vertical-align: top;\n",
       "    }\n",
       "\n",
       "    .dataframe thead th {\n",
       "        text-align: right;\n",
       "    }\n",
       "</style>\n",
       "<table border=\"1\" class=\"dataframe\">\n",
       "  <thead>\n",
       "    <tr style=\"text-align: right;\">\n",
       "      <th></th>\n",
       "      <th>data_set</th>\n",
       "      <th>family</th>\n",
       "      <th>image_biomarker</th>\n",
       "      <th>consensus</th>\n",
       "      <th>benchmark_value</th>\n",
       "      <th>tolerance</th>\n",
       "      <th>your_result</th>\n",
       "      <th>difference</th>\n",
       "      <th>check</th>\n",
       "      <th>tag</th>\n",
       "      <th>pyradiomics_tag</th>\n",
       "    </tr>\n",
       "  </thead>\n",
       "  <tbody>\n",
       "  </tbody>\n",
       "</table>\n",
       "</div>"
      ],
      "text/plain": [
       "Empty DataFrame\n",
       "Columns: [data_set, family, image_biomarker, consensus, benchmark_value, tolerance, your_result, difference, check, tag, pyradiomics_tag]\n",
       "Index: []"
      ]
     },
     "metadata": {},
     "output_type": "display_data"
    },
    {
     "name": "stdout",
     "output_type": "stream",
     "text": [
      "Fdzm.sde\n",
      "dzm_sde\n",
      "237    True\n",
      "Name: tag, dtype: bool\n"
     ]
    },
    {
     "data": {
      "text/plain": [
       "237   NaN\n",
       "Name: your_result, dtype: float64"
      ]
     },
     "metadata": {},
     "output_type": "display_data"
    },
    {
     "data": {
      "text/plain": [
       "237    0.075927\n",
       "Name: your_result, dtype: float64"
      ]
     },
     "metadata": {},
     "output_type": "display_data"
    },
    {
     "name": "stdout",
     "output_type": "stream",
     "text": [
      "original_gldm_SmallDependenceEmphasis\n"
     ]
    },
    {
     "data": {
      "text/html": [
       "<div>\n",
       "<style scoped>\n",
       "    .dataframe tbody tr th:only-of-type {\n",
       "        vertical-align: middle;\n",
       "    }\n",
       "\n",
       "    .dataframe tbody tr th {\n",
       "        vertical-align: top;\n",
       "    }\n",
       "\n",
       "    .dataframe thead th {\n",
       "        text-align: right;\n",
       "    }\n",
       "</style>\n",
       "<table border=\"1\" class=\"dataframe\">\n",
       "  <thead>\n",
       "    <tr style=\"text-align: right;\">\n",
       "      <th></th>\n",
       "      <th>data_set</th>\n",
       "      <th>family</th>\n",
       "      <th>image_biomarker</th>\n",
       "      <th>consensus</th>\n",
       "      <th>benchmark_value</th>\n",
       "      <th>tolerance</th>\n",
       "      <th>your_result</th>\n",
       "      <th>difference</th>\n",
       "      <th>check</th>\n",
       "      <th>tag</th>\n",
       "      <th>pyradiomics_tag</th>\n",
       "    </tr>\n",
       "  </thead>\n",
       "  <tbody>\n",
       "  </tbody>\n",
       "</table>\n",
       "</div>"
      ],
      "text/plain": [
       "Empty DataFrame\n",
       "Columns: [data_set, family, image_biomarker, consensus, benchmark_value, tolerance, your_result, difference, check, tag, pyradiomics_tag]\n",
       "Index: []"
      ]
     },
     "metadata": {},
     "output_type": "display_data"
    },
    {
     "name": "stdout",
     "output_type": "stream",
     "text": [
      "Fdzm.sdhge\n",
      "dzm_sdhge\n",
      "242    True\n",
      "Name: tag, dtype: bool\n"
     ]
    },
    {
     "data": {
      "text/plain": [
       "242   NaN\n",
       "Name: your_result, dtype: float64"
      ]
     },
     "metadata": {},
     "output_type": "display_data"
    },
    {
     "data": {
      "text/plain": [
       "242    17.103081\n",
       "Name: your_result, dtype: float64"
      ]
     },
     "metadata": {},
     "output_type": "display_data"
    },
    {
     "name": "stdout",
     "output_type": "stream",
     "text": [
      "original_gldm_SmallDependenceHighGrayLevelEmphasis\n"
     ]
    },
    {
     "data": {
      "text/html": [
       "<div>\n",
       "<style scoped>\n",
       "    .dataframe tbody tr th:only-of-type {\n",
       "        vertical-align: middle;\n",
       "    }\n",
       "\n",
       "    .dataframe tbody tr th {\n",
       "        vertical-align: top;\n",
       "    }\n",
       "\n",
       "    .dataframe thead th {\n",
       "        text-align: right;\n",
       "    }\n",
       "</style>\n",
       "<table border=\"1\" class=\"dataframe\">\n",
       "  <thead>\n",
       "    <tr style=\"text-align: right;\">\n",
       "      <th></th>\n",
       "      <th>data_set</th>\n",
       "      <th>family</th>\n",
       "      <th>image_biomarker</th>\n",
       "      <th>consensus</th>\n",
       "      <th>benchmark_value</th>\n",
       "      <th>tolerance</th>\n",
       "      <th>your_result</th>\n",
       "      <th>difference</th>\n",
       "      <th>check</th>\n",
       "      <th>tag</th>\n",
       "      <th>pyradiomics_tag</th>\n",
       "    </tr>\n",
       "  </thead>\n",
       "  <tbody>\n",
       "  </tbody>\n",
       "</table>\n",
       "</div>"
      ],
      "text/plain": [
       "Empty DataFrame\n",
       "Columns: [data_set, family, image_biomarker, consensus, benchmark_value, tolerance, your_result, difference, check, tag, pyradiomics_tag]\n",
       "Index: []"
      ]
     },
     "metadata": {},
     "output_type": "display_data"
    },
    {
     "name": "stdout",
     "output_type": "stream",
     "text": [
      "Fdzm.sdlge\n",
      "dzm_sdlge\n",
      "241    True\n",
      "Name: tag, dtype: bool\n"
     ]
    },
    {
     "data": {
      "text/plain": [
       "241   NaN\n",
       "Name: your_result, dtype: float64"
      ]
     },
     "metadata": {},
     "output_type": "display_data"
    },
    {
     "data": {
      "text/plain": [
       "241    0.001305\n",
       "Name: your_result, dtype: float64"
      ]
     },
     "metadata": {},
     "output_type": "display_data"
    },
    {
     "name": "stdout",
     "output_type": "stream",
     "text": [
      "original_gldm_SmallDependenceLowGrayLevelEmphasis\n"
     ]
    },
    {
     "data": {
      "text/html": [
       "<div>\n",
       "<style scoped>\n",
       "    .dataframe tbody tr th:only-of-type {\n",
       "        vertical-align: middle;\n",
       "    }\n",
       "\n",
       "    .dataframe tbody tr th {\n",
       "        vertical-align: top;\n",
       "    }\n",
       "\n",
       "    .dataframe thead th {\n",
       "        text-align: right;\n",
       "    }\n",
       "</style>\n",
       "<table border=\"1\" class=\"dataframe\">\n",
       "  <thead>\n",
       "    <tr style=\"text-align: right;\">\n",
       "      <th></th>\n",
       "      <th>data_set</th>\n",
       "      <th>family</th>\n",
       "      <th>image_biomarker</th>\n",
       "      <th>consensus</th>\n",
       "      <th>benchmark_value</th>\n",
       "      <th>tolerance</th>\n",
       "      <th>your_result</th>\n",
       "      <th>difference</th>\n",
       "      <th>check</th>\n",
       "      <th>tag</th>\n",
       "      <th>pyradiomics_tag</th>\n",
       "    </tr>\n",
       "  </thead>\n",
       "  <tbody>\n",
       "  </tbody>\n",
       "</table>\n",
       "</div>"
      ],
      "text/plain": [
       "Empty DataFrame\n",
       "Columns: [data_set, family, image_biomarker, consensus, benchmark_value, tolerance, your_result, difference, check, tag, pyradiomics_tag]\n",
       "Index: []"
      ]
     },
     "metadata": {},
     "output_type": "display_data"
    },
    {
     "name": "stdout",
     "output_type": "stream",
     "text": [
      "Fngt.busyness\n",
      "ngt_busyness\n",
      "255    True\n",
      "Name: tag, dtype: bool\n"
     ]
    },
    {
     "data": {
      "text/plain": [
       "255   NaN\n",
       "Name: your_result, dtype: float64"
      ]
     },
     "metadata": {},
     "output_type": "display_data"
    },
    {
     "data": {
      "text/plain": [
       "255    4.682117\n",
       "Name: your_result, dtype: float64"
      ]
     },
     "metadata": {},
     "output_type": "display_data"
    },
    {
     "name": "stdout",
     "output_type": "stream",
     "text": [
      "original_ngtdm_Busyness\n"
     ]
    },
    {
     "data": {
      "text/html": [
       "<div>\n",
       "<style scoped>\n",
       "    .dataframe tbody tr th:only-of-type {\n",
       "        vertical-align: middle;\n",
       "    }\n",
       "\n",
       "    .dataframe tbody tr th {\n",
       "        vertical-align: top;\n",
       "    }\n",
       "\n",
       "    .dataframe thead th {\n",
       "        text-align: right;\n",
       "    }\n",
       "</style>\n",
       "<table border=\"1\" class=\"dataframe\">\n",
       "  <thead>\n",
       "    <tr style=\"text-align: right;\">\n",
       "      <th></th>\n",
       "      <th>data_set</th>\n",
       "      <th>family</th>\n",
       "      <th>image_biomarker</th>\n",
       "      <th>consensus</th>\n",
       "      <th>benchmark_value</th>\n",
       "      <th>tolerance</th>\n",
       "      <th>your_result</th>\n",
       "      <th>difference</th>\n",
       "      <th>check</th>\n",
       "      <th>tag</th>\n",
       "      <th>pyradiomics_tag</th>\n",
       "    </tr>\n",
       "  </thead>\n",
       "  <tbody>\n",
       "  </tbody>\n",
       "</table>\n",
       "</div>"
      ],
      "text/plain": [
       "Empty DataFrame\n",
       "Columns: [data_set, family, image_biomarker, consensus, benchmark_value, tolerance, your_result, difference, check, tag, pyradiomics_tag]\n",
       "Index: []"
      ]
     },
     "metadata": {},
     "output_type": "display_data"
    },
    {
     "name": "stdout",
     "output_type": "stream",
     "text": [
      "Fngt.coarseness\n",
      "ngt_coarseness\n",
      "253    True\n",
      "Name: tag, dtype: bool\n"
     ]
    },
    {
     "data": {
      "text/plain": [
       "253   NaN\n",
       "Name: your_result, dtype: float64"
      ]
     },
     "metadata": {},
     "output_type": "display_data"
    },
    {
     "data": {
      "text/plain": [
       "253    0.000215\n",
       "Name: your_result, dtype: float64"
      ]
     },
     "metadata": {},
     "output_type": "display_data"
    },
    {
     "name": "stdout",
     "output_type": "stream",
     "text": [
      "original_ngtdm_Coarseness\n"
     ]
    },
    {
     "data": {
      "text/html": [
       "<div>\n",
       "<style scoped>\n",
       "    .dataframe tbody tr th:only-of-type {\n",
       "        vertical-align: middle;\n",
       "    }\n",
       "\n",
       "    .dataframe tbody tr th {\n",
       "        vertical-align: top;\n",
       "    }\n",
       "\n",
       "    .dataframe thead th {\n",
       "        text-align: right;\n",
       "    }\n",
       "</style>\n",
       "<table border=\"1\" class=\"dataframe\">\n",
       "  <thead>\n",
       "    <tr style=\"text-align: right;\">\n",
       "      <th></th>\n",
       "      <th>data_set</th>\n",
       "      <th>family</th>\n",
       "      <th>image_biomarker</th>\n",
       "      <th>consensus</th>\n",
       "      <th>benchmark_value</th>\n",
       "      <th>tolerance</th>\n",
       "      <th>your_result</th>\n",
       "      <th>difference</th>\n",
       "      <th>check</th>\n",
       "      <th>tag</th>\n",
       "      <th>pyradiomics_tag</th>\n",
       "    </tr>\n",
       "  </thead>\n",
       "  <tbody>\n",
       "  </tbody>\n",
       "</table>\n",
       "</div>"
      ],
      "text/plain": [
       "Empty DataFrame\n",
       "Columns: [data_set, family, image_biomarker, consensus, benchmark_value, tolerance, your_result, difference, check, tag, pyradiomics_tag]\n",
       "Index: []"
      ]
     },
     "metadata": {},
     "output_type": "display_data"
    },
    {
     "name": "stdout",
     "output_type": "stream",
     "text": [
      "Fngt.complexity\n",
      "ngt_complexity\n",
      "256    True\n",
      "Name: tag, dtype: bool\n"
     ]
    },
    {
     "data": {
      "text/plain": [
       "256   NaN\n",
       "Name: your_result, dtype: float64"
      ]
     },
     "metadata": {},
     "output_type": "display_data"
    },
    {
     "data": {
      "text/plain": [
       "256    343.134979\n",
       "Name: your_result, dtype: float64"
      ]
     },
     "metadata": {},
     "output_type": "display_data"
    },
    {
     "name": "stdout",
     "output_type": "stream",
     "text": [
      "original_ngtdm_Complexity\n"
     ]
    },
    {
     "data": {
      "text/html": [
       "<div>\n",
       "<style scoped>\n",
       "    .dataframe tbody tr th:only-of-type {\n",
       "        vertical-align: middle;\n",
       "    }\n",
       "\n",
       "    .dataframe tbody tr th {\n",
       "        vertical-align: top;\n",
       "    }\n",
       "\n",
       "    .dataframe thead th {\n",
       "        text-align: right;\n",
       "    }\n",
       "</style>\n",
       "<table border=\"1\" class=\"dataframe\">\n",
       "  <thead>\n",
       "    <tr style=\"text-align: right;\">\n",
       "      <th></th>\n",
       "      <th>data_set</th>\n",
       "      <th>family</th>\n",
       "      <th>image_biomarker</th>\n",
       "      <th>consensus</th>\n",
       "      <th>benchmark_value</th>\n",
       "      <th>tolerance</th>\n",
       "      <th>your_result</th>\n",
       "      <th>difference</th>\n",
       "      <th>check</th>\n",
       "      <th>tag</th>\n",
       "      <th>pyradiomics_tag</th>\n",
       "    </tr>\n",
       "  </thead>\n",
       "  <tbody>\n",
       "  </tbody>\n",
       "</table>\n",
       "</div>"
      ],
      "text/plain": [
       "Empty DataFrame\n",
       "Columns: [data_set, family, image_biomarker, consensus, benchmark_value, tolerance, your_result, difference, check, tag, pyradiomics_tag]\n",
       "Index: []"
      ]
     },
     "metadata": {},
     "output_type": "display_data"
    },
    {
     "name": "stdout",
     "output_type": "stream",
     "text": [
      "Fngt.contrast\n",
      "ngt_contrast\n",
      "254    True\n",
      "Name: tag, dtype: bool\n"
     ]
    },
    {
     "data": {
      "text/plain": [
       "254   NaN\n",
       "Name: your_result, dtype: float64"
      ]
     },
     "metadata": {},
     "output_type": "display_data"
    },
    {
     "data": {
      "text/plain": [
       "254    0.033665\n",
       "Name: your_result, dtype: float64"
      ]
     },
     "metadata": {},
     "output_type": "display_data"
    },
    {
     "name": "stdout",
     "output_type": "stream",
     "text": [
      "original_ngtdm_Contrast\n"
     ]
    },
    {
     "data": {
      "text/html": [
       "<div>\n",
       "<style scoped>\n",
       "    .dataframe tbody tr th:only-of-type {\n",
       "        vertical-align: middle;\n",
       "    }\n",
       "\n",
       "    .dataframe tbody tr th {\n",
       "        vertical-align: top;\n",
       "    }\n",
       "\n",
       "    .dataframe thead th {\n",
       "        text-align: right;\n",
       "    }\n",
       "</style>\n",
       "<table border=\"1\" class=\"dataframe\">\n",
       "  <thead>\n",
       "    <tr style=\"text-align: right;\">\n",
       "      <th></th>\n",
       "      <th>data_set</th>\n",
       "      <th>family</th>\n",
       "      <th>image_biomarker</th>\n",
       "      <th>consensus</th>\n",
       "      <th>benchmark_value</th>\n",
       "      <th>tolerance</th>\n",
       "      <th>your_result</th>\n",
       "      <th>difference</th>\n",
       "      <th>check</th>\n",
       "      <th>tag</th>\n",
       "      <th>pyradiomics_tag</th>\n",
       "    </tr>\n",
       "  </thead>\n",
       "  <tbody>\n",
       "  </tbody>\n",
       "</table>\n",
       "</div>"
      ],
      "text/plain": [
       "Empty DataFrame\n",
       "Columns: [data_set, family, image_biomarker, consensus, benchmark_value, tolerance, your_result, difference, check, tag, pyradiomics_tag]\n",
       "Index: []"
      ]
     },
     "metadata": {},
     "output_type": "display_data"
    },
    {
     "name": "stdout",
     "output_type": "stream",
     "text": [
      "Fngt.strength\n",
      "ngt_strength\n",
      "257    True\n",
      "Name: tag, dtype: bool\n"
     ]
    },
    {
     "data": {
      "text/plain": [
       "257   NaN\n",
       "Name: your_result, dtype: float64"
      ]
     },
     "metadata": {},
     "output_type": "display_data"
    },
    {
     "data": {
      "text/plain": [
       "257    0.197877\n",
       "Name: your_result, dtype: float64"
      ]
     },
     "metadata": {},
     "output_type": "display_data"
    },
    {
     "name": "stdout",
     "output_type": "stream",
     "text": [
      "original_ngtdm_Strength\n"
     ]
    },
    {
     "data": {
      "text/html": [
       "<div>\n",
       "<style scoped>\n",
       "    .dataframe tbody tr th:only-of-type {\n",
       "        vertical-align: middle;\n",
       "    }\n",
       "\n",
       "    .dataframe tbody tr th {\n",
       "        vertical-align: top;\n",
       "    }\n",
       "\n",
       "    .dataframe thead th {\n",
       "        text-align: right;\n",
       "    }\n",
       "</style>\n",
       "<table border=\"1\" class=\"dataframe\">\n",
       "  <thead>\n",
       "    <tr style=\"text-align: right;\">\n",
       "      <th></th>\n",
       "      <th>data_set</th>\n",
       "      <th>family</th>\n",
       "      <th>image_biomarker</th>\n",
       "      <th>consensus</th>\n",
       "      <th>benchmark_value</th>\n",
       "      <th>tolerance</th>\n",
       "      <th>your_result</th>\n",
       "      <th>difference</th>\n",
       "      <th>check</th>\n",
       "      <th>tag</th>\n",
       "      <th>pyradiomics_tag</th>\n",
       "    </tr>\n",
       "  </thead>\n",
       "  <tbody>\n",
       "  </tbody>\n",
       "</table>\n",
       "</div>"
      ],
      "text/plain": [
       "Empty DataFrame\n",
       "Columns: [data_set, family, image_biomarker, consensus, benchmark_value, tolerance, your_result, difference, check, tag, pyradiomics_tag]\n",
       "Index: []"
      ]
     },
     "metadata": {},
     "output_type": "display_data"
    }
   ],
   "source": [
    "import pandas as pd\n",
    "\n",
    "# input files\n",
    "pipeline_csv_file = r\"C:\\Users\\ivan.zhovannik\\OneDrive - Maastro - Clinic\\_PhD_stuff\\Papers\\2021\\SQLite4Radiomics\\_SQLite4Radiomics_benchmarking\\1 CT_configE.csv\"\n",
    "benchmark_csv_file = \"IBSI-1-configE.csv\"\n",
    "mapping_csv_file = \"Pyradiomics2IBSIFeatures.csv\"\n",
    "save_csv = \"_test_E.csv\"\n",
    "\n",
    "\n",
    "pipeline_df = pd.read_csv(pipeline_csv_file)\n",
    "benchmark_df = pd.read_csv(benchmark_csv_file)\n",
    "mapping_df = pd.read_csv(mapping_csv_file)\n",
    "\n",
    "tags_of_interest = []\n",
    "\n",
    "benchmark_df[\"pyradiomics_tag\"] = benchmark_df[\"tag\"]\n",
    "\n",
    "\n",
    "for f_ibsi, f_pyradiomics in zip(mapping_df[\"IBSIName\"], mapping_df[\"PyradiomicsFeature\"]):\n",
    "    \n",
    "    print(f_ibsi)\n",
    "    f_ibsi = f_ibsi.lstrip(\"F\").replace(\".\", \"_\")\n",
    "    print(f_ibsi)\n",
    "    \n",
    "    match_condition = benchmark_df['tag'].str.contains(f_ibsi)\n",
    "    print(match_condition.loc[match_condition])\n",
    "    \n",
    "    display(benchmark_df['your_result'][match_condition])\n",
    "    benchmark_df.loc[match_condition, 'your_result'] = pipeline_df[f_pyradiomics].values[0]\n",
    "    display(benchmark_df['your_result'][match_condition])\n",
    "    \n",
    "    print(f_pyradiomics)\n",
    "    benchmark_df.loc[match_condition, 'pyradiomics_tag'] = f_pyradiomics\n",
    "\n",
    "    tags_of_interest.append(benchmark_df[match_condition & benchmark_df['benchmark_value'].notnull()])\n",
    "    display(benchmark_df[match_condition & benchmark_df['benchmark_value'].notnull()])\n",
    "    \n",
    "\n",
    "matched_df = pd.concat(tags_of_interest)\n",
    "\n",
    "matched_df[\"difference\"] = (matched_df[\"your_result\"] - matched_df[\"benchmark_value\"]).abs()\n",
    "matched_df[\"check\"] = matched_df[\"difference\"] <= matched_df[\"tolerance\"] \n",
    "\n",
    "matched_df.to_csv(save_csv)"
   ]
  },
  {
   "cell_type": "code",
   "execution_count": 72,
   "metadata": {},
   "outputs": [
    {
     "data": {
      "text/html": [
       "<div>\n",
       "<style scoped>\n",
       "    .dataframe tbody tr th:only-of-type {\n",
       "        vertical-align: middle;\n",
       "    }\n",
       "\n",
       "    .dataframe tbody tr th {\n",
       "        vertical-align: top;\n",
       "    }\n",
       "\n",
       "    .dataframe thead th {\n",
       "        text-align: right;\n",
       "    }\n",
       "</style>\n",
       "<table border=\"1\" class=\"dataframe\">\n",
       "  <thead>\n",
       "    <tr style=\"text-align: right;\">\n",
       "      <th></th>\n",
       "      <th>data_set</th>\n",
       "      <th>family</th>\n",
       "      <th>image_biomarker</th>\n",
       "      <th>consensus</th>\n",
       "      <th>benchmark_value</th>\n",
       "      <th>tolerance</th>\n",
       "      <th>your_result</th>\n",
       "      <th>difference</th>\n",
       "      <th>check</th>\n",
       "      <th>tag</th>\n",
       "      <th>pyradiomics_tag</th>\n",
       "    </tr>\n",
       "  </thead>\n",
       "  <tbody>\n",
       "    <tr>\n",
       "      <td>71</td>\n",
       "      <td>configuration E</td>\n",
       "      <td>Morphology</td>\n",
       "      <td>Major axis length</td>\n",
       "      <td>6-9</td>\n",
       "      <td>93.3</td>\n",
       "      <td>0.5</td>\n",
       "      <td>92.859622</td>\n",
       "      <td>0.440378</td>\n",
       "      <td>True</td>\n",
       "      <td>morph_pca_maj_axis</td>\n",
       "      <td>original_shape_MajorAxisLength</td>\n",
       "    </tr>\n",
       "    <tr>\n",
       "      <td>70</td>\n",
       "      <td>configuration E</td>\n",
       "      <td>Morphology</td>\n",
       "      <td>Maximum 3D diameter</td>\n",
       "      <td>6-9</td>\n",
       "      <td>125.0</td>\n",
       "      <td>1.0</td>\n",
       "      <td>125.043992</td>\n",
       "      <td>0.043992</td>\n",
       "      <td>True</td>\n",
       "      <td>morph_diam</td>\n",
       "      <td>original_shape_Maximum3DDiameter</td>\n",
       "    </tr>\n",
       "    <tr>\n",
       "      <td>72</td>\n",
       "      <td>configuration E</td>\n",
       "      <td>Morphology</td>\n",
       "      <td>Minor axis length</td>\n",
       "      <td>6-9</td>\n",
       "      <td>82.0</td>\n",
       "      <td>0.5</td>\n",
       "      <td>81.717374</td>\n",
       "      <td>0.282626</td>\n",
       "      <td>True</td>\n",
       "      <td>morph_pca_min_axis</td>\n",
       "      <td>original_shape_MinorAxisLength</td>\n",
       "    </tr>\n",
       "  </tbody>\n",
       "</table>\n",
       "</div>"
      ],
      "text/plain": [
       "           data_set      family      image_biomarker consensus  \\\n",
       "71  configuration E  Morphology    Major axis length       6-9   \n",
       "70  configuration E  Morphology  Maximum 3D diameter       6-9   \n",
       "72  configuration E  Morphology    Minor axis length       6-9   \n",
       "\n",
       "    benchmark_value  tolerance  your_result  difference  check  \\\n",
       "71             93.3        0.5    92.859622    0.440378   True   \n",
       "70            125.0        1.0   125.043992    0.043992   True   \n",
       "72             82.0        0.5    81.717374    0.282626   True   \n",
       "\n",
       "                   tag                   pyradiomics_tag  \n",
       "71  morph_pca_maj_axis    original_shape_MajorAxisLength  \n",
       "70          morph_diam  original_shape_Maximum3DDiameter  \n",
       "72  morph_pca_min_axis    original_shape_MinorAxisLength  "
      ]
     },
     "execution_count": 72,
     "metadata": {},
     "output_type": "execute_result"
    }
   ],
   "source": [
    "matched_df.loc[matched_df.check ]"
   ]
  },
  {
   "cell_type": "code",
   "execution_count": 73,
   "metadata": {},
   "outputs": [
    {
     "data": {
      "text/plain": [
       "3"
      ]
     },
     "execution_count": 73,
     "metadata": {},
     "output_type": "execute_result"
    }
   ],
   "source": [
    "matched_df.check.sum()"
   ]
  },
  {
   "cell_type": "code",
   "execution_count": null,
   "metadata": {},
   "outputs": [],
   "source": []
  }
 ],
 "metadata": {
  "kernelspec": {
   "display_name": "Python 3",
   "language": "python",
   "name": "python3"
  },
  "language_info": {
   "codemirror_mode": {
    "name": "ipython",
    "version": 3
   },
   "file_extension": ".py",
   "mimetype": "text/x-python",
   "name": "python",
   "nbconvert_exporter": "python",
   "pygments_lexer": "ipython3",
   "version": "3.7.4"
  }
 },
 "nbformat": 4,
 "nbformat_minor": 4
}
